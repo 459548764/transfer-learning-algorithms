{
 "cells": [
  {
   "cell_type": "markdown",
   "metadata": {},
   "source": [
    "# Transfer Auto-encoder for MNIST<->SVHN transfer"
   ]
  },
  {
   "cell_type": "code",
   "execution_count": 1,
   "metadata": {
    "collapsed": true
   },
   "outputs": [],
   "source": [
    "import numpy as np\n",
    "import scipy\n",
    "import matplotlib.pyplot as plt\n",
    "%matplotlib inline\n",
    "from sklearn import preprocessing\n",
    "\n",
    "import tensorflow as tf\n",
    "from tensorflow.examples.tutorials.mnist import input_data\n",
    "\n",
    "from torchvision import datasets\n",
    "from torchvision import transforms"
   ]
  },
  {
   "cell_type": "code",
   "execution_count": 2,
   "metadata": {
    "collapsed": true
   },
   "outputs": [],
   "source": [
    "colormap = np.array(plt.rcParams['axes.prop_cycle'].by_key()['color'])"
   ]
  },
  {
   "cell_type": "markdown",
   "metadata": {},
   "source": [
    "## Create the datasets"
   ]
  },
  {
   "cell_type": "code",
   "execution_count": 3,
   "metadata": {
    "collapsed": true
   },
   "outputs": [],
   "source": [
    "transform = transforms.Compose([\n",
    "                    transforms.ToTensor(),\n",
    "                    transforms.Normalize((0.5, 0.5, 0.5), (0.5, 0.5, 0.5))])"
   ]
  },
  {
   "cell_type": "code",
   "execution_count": 4,
   "metadata": {
    "collapsed": true
   },
   "outputs": [],
   "source": [
    "svhn = datasets.SVHN(root=\"/datasets/svhn\", download=False, transform=transform)"
   ]
  },
  {
   "cell_type": "code",
   "execution_count": 5,
   "metadata": {},
   "outputs": [
    {
     "data": {
      "text/plain": [
       "(73257, 3072)"
      ]
     },
     "execution_count": 5,
     "metadata": {},
     "output_type": "execute_result"
    }
   ],
   "source": [
    "X_svhn = svhn.data\n",
    "X_svhn = X_svhn.reshape(len(X_svhn), 32*32*3) / 256\n",
    "Y_svhn = svhn.labels.flatten()%10\n",
    "X_svhn.shape"
   ]
  },
  {
   "cell_type": "code",
   "execution_count": 6,
   "metadata": {},
   "outputs": [
    {
     "data": {
      "text/plain": [
       "array([[ 0.12890625,  0.05859375,  0.05859375, ...,  0.33984375,\n",
       "         0.3359375 ,  0.30859375],\n",
       "       [ 0.328125  ,  0.3359375 ,  0.30078125, ...,  0.34375   ,\n",
       "         0.34375   ,  0.3125    ],\n",
       "       [ 0.07421875,  0.078125  ,  0.09765625, ...,  0.91796875,\n",
       "         0.90625   ,  0.90234375],\n",
       "       ..., \n",
       "       [ 0.359375  ,  0.3671875 ,  0.4453125 , ...,  0.8359375 ,\n",
       "         0.85546875,  0.8515625 ],\n",
       "       [ 0.7421875 ,  0.80078125,  0.859375  , ...,  0.87109375,\n",
       "         0.84375   ,  0.81640625],\n",
       "       [ 0.84375   ,  0.86328125,  0.8828125 , ...,  0.70703125,\n",
       "         0.66015625,  0.66796875]])"
      ]
     },
     "execution_count": 6,
     "metadata": {},
     "output_type": "execute_result"
    }
   ],
   "source": [
    "X_svhn"
   ]
  },
  {
   "cell_type": "code",
   "execution_count": 7,
   "metadata": {},
   "outputs": [
    {
     "name": "stdout",
     "output_type": "stream",
     "text": [
      "Extracting /datasets/mnist/train-images-idx3-ubyte.gz\n",
      "Extracting /datasets/mnist/train-labels-idx1-ubyte.gz\n",
      "Extracting /datasets/mnist/t10k-images-idx3-ubyte.gz\n",
      "Extracting /datasets/mnist/t10k-labels-idx1-ubyte.gz\n"
     ]
    }
   ],
   "source": [
    "mnist = input_data.read_data_sets('/datasets/mnist', one_hot=False)"
   ]
  },
  {
   "cell_type": "code",
   "execution_count": 8,
   "metadata": {},
   "outputs": [
    {
     "data": {
      "text/plain": [
       "(55000, 784)"
      ]
     },
     "execution_count": 8,
     "metadata": {},
     "output_type": "execute_result"
    }
   ],
   "source": [
    "X_mnist = mnist.train.images\n",
    "X_mnist = X_mnist.reshape(len(X_mnist), 28*28)\n",
    "Y_mnist = mnist.train.labels\n",
    "X_mnist.shape"
   ]
  },
  {
   "cell_type": "markdown",
   "metadata": {},
   "source": [
    "## Create the model"
   ]
  },
  {
   "cell_type": "markdown",
   "metadata": {},
   "source": [
    "### Placeholders"
   ]
  },
  {
   "cell_type": "code",
   "execution_count": 9,
   "metadata": {
    "collapsed": true
   },
   "outputs": [],
   "source": [
    "# source = tf.placeholder(tf.float32, shape=[None, 32*32*3], name='source')\n",
    "source = tf.placeholder(tf.float32, shape=[None, 32*32*3], name='source')\n",
    "target = tf.placeholder(tf.float32, shape=[None, 28*28], name='target')"
   ]
  },
  {
   "cell_type": "markdown",
   "metadata": {},
   "source": [
    "### Convolutional transcoder\n",
    "I'm using here a big part of the architecture described in [this code](https://github.com/hwalsuklee/tensorflow-mnist-VAE/blob/master/vae.py)"
   ]
  },
  {
   "cell_type": "code",
   "execution_count": 10,
   "metadata": {
    "collapsed": true
   },
   "outputs": [],
   "source": [
    "keep_prob = tf.placeholder(tf.float32, name='keep_prob')\n",
    "\n",
    "initializer = tf.contrib.layers.xavier_initializer()\n",
    "\n",
    "def encoder(x):\n",
    "    with tf.variable_scope(\"encoder\", reuse=None):\n",
    "        W0 = tf.get_variable('W0', shape=[32*32*3, 500], initializer=initializer)\n",
    "        b0 = tf.get_variable('b0', shape=[500], initializer=initializer)\n",
    "        h0 = tf.matmul(x, W0) + b0\n",
    "        h0 = tf.nn.relu(h0)\n",
    "        #h0 = tf.nn.dropout(h0, keep_prob)\n",
    "\n",
    "        W1 = tf.get_variable('W1', shape=[500, 100], initializer=initializer)\n",
    "        b1 = tf.get_variable('b1', shape=[100], initializer=initializer)\n",
    "        z = tf.matmul(h0, W1) + b1\n",
    "        z = tf.nn.relu(z)\n",
    "        #z = tf.nn.dropout(z, keep_prob)\n",
    "    return z\n",
    "\n",
    "def decoder(z):\n",
    "    with tf.variable_scope(\"decoder\", reuse=None):\n",
    "        W0 = tf.get_variable('W0', shape=[100, 500], initializer=initializer)\n",
    "        b0 = tf.get_variable('b0', shape=[500], initializer=initializer)\n",
    "        h0 = tf.matmul(z, W0) + b0\n",
    "        h0 = tf.nn.relu(h0)\n",
    "        h0 = tf.nn.dropout(h0, keep_prob)\n",
    "\n",
    "        W1 = tf.get_variable('W1', shape=[500, 28*28], initializer=initializer)\n",
    "        b1 = tf.get_variable('b1', shape=[28*28], initializer=initializer)\n",
    "        y = tf.matmul(h0, W1) + b1\n",
    "        y = tf.nn.sigmoid(y)\n",
    "        #y = tf.nn.dropout(y, keep_prob)\n",
    "    return y"
   ]
  },
  {
   "cell_type": "markdown",
   "metadata": {},
   "source": [
    "### Losses and solver"
   ]
  },
  {
   "cell_type": "code",
   "execution_count": 11,
   "metadata": {
    "collapsed": true
   },
   "outputs": [],
   "source": [
    "X_output = decoder(encoder(source))"
   ]
  },
  {
   "cell_type": "code",
   "execution_count": 12,
   "metadata": {
    "collapsed": true
   },
   "outputs": [],
   "source": [
    "loss = tf.losses.mean_squared_error(target, X_output)"
   ]
  },
  {
   "cell_type": "code",
   "execution_count": 13,
   "metadata": {
    "collapsed": true
   },
   "outputs": [],
   "source": [
    "solver = tf.train.AdamOptimizer().minimize(loss)"
   ]
  },
  {
   "cell_type": "markdown",
   "metadata": {},
   "source": [
    "## Execute the model"
   ]
  },
  {
   "cell_type": "code",
   "execution_count": 56,
   "metadata": {
    "collapsed": true
   },
   "outputs": [],
   "source": [
    "if 'session' in locals() and session is not None:\n",
    "    print('Close interactive session')\n",
    "    session.close()\n",
    "sess = tf.InteractiveSession(config=tf.ConfigProto(log_device_placement=True))"
   ]
  },
  {
   "cell_type": "code",
   "execution_count": 57,
   "metadata": {
    "collapsed": true
   },
   "outputs": [],
   "source": [
    "sess.run(tf.global_variables_initializer())\n",
    "loss_list = []"
   ]
  },
  {
   "cell_type": "code",
   "execution_count": 62,
   "metadata": {},
   "outputs": [
    {
     "name": "stdout",
     "output_type": "stream",
     "text": [
      "Iter: 0\n",
      "loss: 0.06799\n",
      "\n",
      "Iter: 100\n",
      "loss: 0.06905\n",
      "\n",
      "Iter: 200\n",
      "loss: 0.07019\n",
      "\n",
      "Iter: 300\n",
      "loss: 0.08221\n",
      "\n",
      "Iter: 400\n",
      "loss: 0.07196\n",
      "\n",
      "Iter: 500\n",
      "loss: 0.06618\n",
      "\n",
      "Iter: 600\n",
      "loss: 0.06487\n",
      "\n",
      "Iter: 700\n",
      "loss: 0.05736\n",
      "\n",
      "Iter: 800\n",
      "loss: 0.05911\n",
      "\n",
      "Iter: 900\n",
      "loss: 0.07015\n",
      "\n"
     ]
    }
   ],
   "source": [
    "nb_iter = 1000\n",
    "nb_samples = 10\n",
    "\n",
    "for i in range(nb_iter):\n",
    "    y = np.random.randint(0,10)\n",
    "#     X_svhn_y = X_svhn[Y_svhn==y]\n",
    "#     X_mnist_y = X_mnist[Y_mnist==y]\n",
    "    sample_source = X_svhn[np.random.choice(len(X_svhn), nb_samples)]\n",
    "    sample_target = X_mnist[np.random.choice(len(X_mnist), nb_samples)]\n",
    "    _, loss_curr = sess.run([solver, loss],feed_dict={source: sample_source, target: sample_target, keep_prob : 0.9})\n",
    "    \n",
    "    loss_list.append(loss_curr)\n",
    "    if i % (nb_iter//10) == 0:\n",
    "        print('Iter: {}'.format(i))\n",
    "        print('loss: {:.4}'. format(loss_curr))\n",
    "        print()"
   ]
  },
  {
   "cell_type": "markdown",
   "metadata": {},
   "source": [
    "## Display the results"
   ]
  },
  {
   "cell_type": "code",
   "execution_count": 63,
   "metadata": {
    "collapsed": true
   },
   "outputs": [],
   "source": [
    "X_source_trans = sess.run(X_output, feed_dict={source: X_svhn[:100], keep_prob:1})"
   ]
  },
  {
   "cell_type": "code",
   "execution_count": 67,
   "metadata": {},
   "outputs": [
    {
     "data": {
      "text/plain": [
       "<matplotlib.legend.Legend at 0x7f8de895b160>"
      ]
     },
     "execution_count": 67,
     "metadata": {},
     "output_type": "execute_result"
    },
    {
     "data": {
      "image/png": "[encoded data removed]",
      "text/plain": [
       "<matplotlib.figure.Figure at 0x7f8de8e287f0>"
      ]
     },
     "metadata": {},
     "output_type": "display_data"
    }
   ],
   "source": [
    "plt.rcParams['figure.figsize'] = (10, 12)\n",
    "# plt.axes().set_aspect('equal', 'datalim')\n",
    "#plt.axis([-3,3,-3,3])\n",
    "\n",
    "index = 2\n",
    "plt.subplot(2,2,1)\n",
    "plt.imshow(np.transpose(X_svhn[index].reshape(3,32,32), (1,2,0)))\n",
    "#plt.imshow(X_mnist[index].reshape(28,28))\n",
    "plt.subplot(2,2,2)\n",
    "plt.imshow(X_source_trans[index].reshape(28,28))\n",
    "\n",
    "plt.subplot(2,1,2)\n",
    "i_start = 0\n",
    "plt.plot([loss_list[i_start+i] for i in range(len(loss_list[i_start:])) if i%2==0], label=\"Mean-squared-error\")\n",
    "plt.legend()"
   ]
  },
  {
   "cell_type": "code",
   "execution_count": 55,
   "metadata": {},
   "outputs": [
    {
     "data": {
      "text/plain": [
       "<matplotlib.image.AxesImage at 0x7f8e10868780>"
      ]
     },
     "execution_count": 55,
     "metadata": {},
     "output_type": "execute_result"
    },
    {
     "data": {
      "image/png": "[encoded data removed]",
      "text/plain": [
       "<matplotlib.figure.Figure at 0x7f8e1e2590b8>"
      ]
     },
     "metadata": {},
     "output_type": "display_data"
    }
   ],
   "source": [
    "plt.imshow(np.average(X_mnist.reshape(len(X_mnist), 28, 28), axis=0))"
   ]
  },
  {
   "cell_type": "code",
   "execution_count": 75,
   "metadata": {},
   "outputs": [
    {
     "data": {
      "text/plain": [
       "(5444, 784)"
      ]
     },
     "execution_count": 75,
     "metadata": {},
     "output_type": "execute_result"
    }
   ],
   "source": [
    "X_mnist[Y_mnist==0].shape"
   ]
  },
  {
   "cell_type": "code",
   "execution_count": 96,
   "metadata": {},
   "outputs": [
    {
     "data": {
      "text/plain": [
       "array([1, 9, 2, ..., 1, 6, 9], dtype=uint8)"
      ]
     },
     "execution_count": 96,
     "metadata": {},
     "output_type": "execute_result"
    }
   ],
   "source": [
    "Y_svhn%10"
   ]
  },
  {
   "cell_type": "code",
   "execution_count": 73,
   "metadata": {},
   "outputs": [
    {
     "data": {
      "text/plain": [
       "array([7, 3, 4, ..., 5, 6, 8], dtype=uint8)"
      ]
     },
     "execution_count": 73,
     "metadata": {},
     "output_type": "execute_result"
    }
   ],
   "source": [
    "Y_mnist"
   ]
  },
  {
   "cell_type": "code",
   "execution_count": 49,
   "metadata": {},
   "outputs": [
    {
     "data": {
      "text/plain": [
       "(55000, 784)"
      ]
     },
     "execution_count": 49,
     "metadata": {},
     "output_type": "execute_result"
    }
   ],
   "source": [
    "X_mnist.r"
   ]
  },
  {
   "cell_type": "code",
   "execution_count": 61,
   "metadata": {
    "collapsed": true
   },
   "outputs": [],
   "source": [
    "del(X_svhn_y)"
   ]
  },
  {
   "cell_type": "code",
   "execution_count": null,
   "metadata": {
    "collapsed": true
   },
   "outputs": [],
   "source": []
  }
 ],
 "metadata": {
  "kernelspec": {
   "display_name": "Python 3",
   "language": "python",
   "name": "python3"
  },
  "language_info": {
   "codemirror_mode": {
    "name": "ipython",
    "version": 3
   },
   "file_extension": ".py",
   "mimetype": "text/x-python",
   "name": "python",
   "nbconvert_exporter": "python",
   "pygments_lexer": "ipython3",
   "version": "3.5.4"
  }
 },
 "nbformat": 4,
 "nbformat_minor": 2
}
