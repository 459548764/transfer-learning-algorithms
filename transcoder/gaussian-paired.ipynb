{
 "cells": [
  {
   "cell_type": "markdown",
   "metadata": {},
   "source": [
    "# Transfer Auto-encoder for Gaussian Domains"
   ]
  },
  {
   "cell_type": "code",
   "execution_count": 6,
   "metadata": {},
   "outputs": [],
   "source": [
    "import numpy as np\n",
    "import matplotlib.pyplot as plt\n",
    "%matplotlib inline\n",
    "\n",
    "import tensorflow as tf"
   ]
  },
  {
   "cell_type": "code",
   "execution_count": 7,
   "metadata": {
    "collapsed": true
   },
   "outputs": [],
   "source": [
    "colormap = np.array(plt.rcParams['axes.prop_cycle'].by_key()['color'])"
   ]
  },
  {
   "cell_type": "markdown",
   "metadata": {},
   "source": [
    "## Create the datasets"
   ]
  },
  {
   "cell_type": "markdown",
   "metadata": {},
   "source": [
    "### Source domain"
   ]
  },
  {
   "cell_type": "code",
   "execution_count": 8,
   "metadata": {
    "collapsed": true
   },
   "outputs": [],
   "source": [
    "N_source = 100"
   ]
  },
  {
   "cell_type": "code",
   "execution_count": 9,
   "metadata": {
    "collapsed": true
   },
   "outputs": [],
   "source": [
    "mean = [-1, 0]\n",
    "\n",
    "std = 0.1\n",
    "cov = np.eye(2) * std"
   ]
  },
  {
   "cell_type": "code",
   "execution_count": 10,
   "metadata": {
    "collapsed": true
   },
   "outputs": [],
   "source": [
    "x, y = np.random.multivariate_normal(mean, cov, N_source).T\n",
    "X_source = np.concatenate([x.reshape(len(x), 1), y.reshape(len(y), 1)], axis=1)"
   ]
  },
  {
   "cell_type": "markdown",
   "metadata": {},
   "source": [
    "### Target domain"
   ]
  },
  {
   "cell_type": "code",
   "execution_count": 11,
   "metadata": {
    "collapsed": true
   },
   "outputs": [],
   "source": [
    "def translation(x, t):\n",
    "    return x + t\n",
    "translation = np.vectorize(translation)"
   ]
  },
  {
   "cell_type": "code",
   "execution_count": 13,
   "metadata": {},
   "outputs": [],
   "source": [
    "X_target = translation(X_source, np.array([2,0]))"
   ]
  },
  {
   "cell_type": "markdown",
   "metadata": {},
   "source": [
    "### Display the dataset"
   ]
  },
  {
   "cell_type": "code",
   "execution_count": 14,
   "metadata": {},
   "outputs": [
    {
     "data": {
      "text/plain": [
       "<matplotlib.legend.Legend at 0x7f737a046d68>"
      ]
     },
     "execution_count": 14,
     "metadata": {},
     "output_type": "execute_result"
    },
    {
     "data": {
      "image/png": "[encoded data removed]",
      "text/plain": [
       "<matplotlib.figure.Figure at 0x7f737a0d22b0>"
      ]
     },
     "metadata": {},
     "output_type": "display_data"
    }
   ],
   "source": [
    "plt.axis(\"equal\")\n",
    "plt.axis([-3,3,-3,3])\n",
    "\n",
    "plt.scatter(X_source[:,0], X_source[:,1], label=\"Source\")\n",
    "plt.scatter(X_target[:,0], X_target[:,1], label=\"Target\")\n",
    "plt.legend()"
   ]
  },
  {
   "cell_type": "markdown",
   "metadata": {},
   "source": [
    "## Create the model"
   ]
  },
  {
   "cell_type": "markdown",
   "metadata": {},
   "source": [
    "### Placeholders"
   ]
  },
  {
   "cell_type": "code",
   "execution_count": 15,
   "metadata": {
    "collapsed": true
   },
   "outputs": [],
   "source": [
    "source = tf.placeholder(tf.float32, shape=[None, 2], name='source')\n",
    "target = tf.placeholder(tf.float32, shape=[None, 2], name='target')"
   ]
  },
  {
   "cell_type": "markdown",
   "metadata": {},
   "source": [
    "### Discriminator Network"
   ]
  },
  {
   "cell_type": "code",
   "execution_count": 16,
   "metadata": {
    "collapsed": true
   },
   "outputs": [],
   "source": [
    "W1 = tf.get_variable('W1', initializer=np.eye(2, dtype=\"float32\"))\n",
    "b1 = tf.get_variable('b1', shape=[2], initializer=tf.zeros_initializer())"
   ]
  },
  {
   "cell_type": "code",
   "execution_count": 17,
   "metadata": {
    "collapsed": true
   },
   "outputs": [],
   "source": [
    "theta = [W1, b1]"
   ]
  },
  {
   "cell_type": "code",
   "execution_count": 18,
   "metadata": {
    "collapsed": true
   },
   "outputs": [],
   "source": [
    "def transcoder(x):  \n",
    "    output = tf.matmul(x, W1) + b1\n",
    "    \n",
    "    return output"
   ]
  },
  {
   "cell_type": "markdown",
   "metadata": {},
   "source": [
    "### Losses and solver"
   ]
  },
  {
   "cell_type": "code",
   "execution_count": 19,
   "metadata": {
    "collapsed": true
   },
   "outputs": [],
   "source": [
    "X_output = transcoder(source)"
   ]
  },
  {
   "cell_type": "code",
   "execution_count": 20,
   "metadata": {
    "collapsed": true
   },
   "outputs": [],
   "source": [
    "loss = tf.losses.mean_squared_error(target, X_output)"
   ]
  },
  {
   "cell_type": "code",
   "execution_count": 21,
   "metadata": {
    "collapsed": true
   },
   "outputs": [],
   "source": [
    "solver = tf.train.AdamOptimizer().minimize(loss, var_list=theta)"
   ]
  },
  {
   "cell_type": "markdown",
   "metadata": {},
   "source": [
    "## Execute the model"
   ]
  },
  {
   "cell_type": "code",
   "execution_count": 48,
   "metadata": {
    "collapsed": true
   },
   "outputs": [],
   "source": [
    "sess = tf.InteractiveSession()"
   ]
  },
  {
   "cell_type": "code",
   "execution_count": 49,
   "metadata": {
    "collapsed": true
   },
   "outputs": [],
   "source": [
    "sess.run(tf.global_variables_initializer())\n",
    "loss_list = []"
   ]
  },
  {
   "cell_type": "code",
   "execution_count": 125,
   "metadata": {},
   "outputs": [
    {
     "name": "stdout",
     "output_type": "stream",
     "text": [
      "Iter: 0\n",
      "loss: 1.794e-05\n",
      "\n",
      "Iter: 80\n",
      "loss: 1.38e-05\n",
      "\n",
      "Iter: 160\n",
      "loss: 4.566e-06\n",
      "\n",
      "Iter: 240\n",
      "loss: 3.461e-06\n",
      "\n",
      "Iter: 320\n",
      "loss: 4.818e-06\n",
      "\n",
      "Iter: 400\n",
      "loss: 1.301e-06\n",
      "\n",
      "Iter: 480\n",
      "loss: 1.508e-06\n",
      "\n",
      "Iter: 560\n",
      "loss: 1.3e-06\n",
      "\n",
      "Iter: 640\n",
      "loss: 3.936e-07\n",
      "\n",
      "Iter: 720\n",
      "loss: 4.84e-07\n",
      "\n"
     ]
    }
   ],
   "source": [
    "nb_iter = 800\n",
    "nb_samples = 30\n",
    "\n",
    "for i in range(nb_iter):\n",
    "    sample_indices = np.random.choice(len(X_source), nb_samples)\n",
    "    sample_source = X_source[sample_indices]\n",
    "    sample_target = X_target[sample_indices]\n",
    "    _, loss_curr = sess.run([solver, loss],feed_dict={source: sample_source, target: sample_target})\n",
    "    \n",
    "    loss_list.append(loss_curr)\n",
    "    if i % (nb_iter//10) == 0:\n",
    "        print('Iter: {}'.format(i))\n",
    "        print('loss: {:.4}'. format(loss_curr))\n",
    "        print()"
   ]
  },
  {
   "cell_type": "markdown",
   "metadata": {},
   "source": [
    "## Display the results"
   ]
  },
  {
   "cell_type": "code",
   "execution_count": 126,
   "metadata": {
    "collapsed": true
   },
   "outputs": [],
   "source": [
    "X_source_trans = sess.run(X_output, feed_dict={source: X_source})"
   ]
  },
  {
   "cell_type": "code",
   "execution_count": 127,
   "metadata": {},
   "outputs": [
    {
     "data": {
      "image/png": "[encoded data removed]",
      "text/plain": [
       "<matplotlib.figure.Figure at 0x7f7379ea1f28>"
      ]
     },
     "metadata": {},
     "output_type": "display_data"
    }
   ],
   "source": [
    "### plt.rcParams['figure.figsize'] = (10, 15)\n",
    "# plt.axes().set_aspect('equal', 'datalim')\n",
    "#plt.axis([-3,3,-3,3])\n",
    "\n",
    "#f, (a0, a1) = plt.subplots(2,1, gridspec_kw = {'height_ratios':[10, 10]})\n",
    "plt.rcParams['figure.figsize'] = (10,7)\n",
    "plt.axis([-3,3,-3,3])\n",
    "plt.scatter(X_source[:,0], X_source[:,1], label=\"source\")\n",
    "plt.scatter(X_target[:,0], X_target[:,1], label=\"target\")\n",
    "plt.scatter(X_source_trans[:,0], X_source_trans[:,1], label=\"source transformed\")\n",
    "plt.legend()\n",
    "plt.grid()\n",
    "plt.savefig('screenshots/paired/paired-transcoder-step-23')\n",
    "#a1.plot(loss_list, label=\"Mean-squared-error\")\n",
    "#a1.legend()"
   ]
  },
  {
   "cell_type": "code",
   "execution_count": null,
   "metadata": {
    "collapsed": true
   },
   "outputs": [],
   "source": []
  }
 ],
 "metadata": {
  "kernelspec": {
   "display_name": "Python 3",
   "language": "python",
   "name": "python3"
  },
  "language_info": {
   "codemirror_mode": {
    "name": "ipython",
    "version": 3
   },
   "file_extension": ".py",
   "mimetype": "text/x-python",
   "name": "python",
   "nbconvert_exporter": "python",
   "pygments_lexer": "ipython3",
   "version": "3.5.4"
  }
 },
 "nbformat": 4,
 "nbformat_minor": 2
}
