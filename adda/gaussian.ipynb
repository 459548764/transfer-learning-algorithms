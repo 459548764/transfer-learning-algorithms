{
 "cells": [
  {
   "cell_type": "markdown",
   "metadata": {},
   "source": [
    "# Adversarial Discriminative Domain Adaptation for Gaussian Domains\n",
    "Adaptation of this [paper](https://arxiv.org/pdf/1702.05464.pdf) for inverting a shift between two normally distributed datasets.\n",
    "The tensorflow code is inspired by [this implementation of a GAN](https://wiseodd.github.io/techblog/2016/09/17/gan-tensorflow/)"
   ]
  },
  {
   "cell_type": "code",
   "execution_count": 1,
   "metadata": {
    "collapsed": true
   },
   "outputs": [],
   "source": [
    "import numpy as np\n",
    "import matplotlib.pyplot as plt\n",
    "%matplotlib inline\n",
    "\n",
    "import tensorflow as tf"
   ]
  },
  {
   "cell_type": "code",
   "execution_count": 2,
   "metadata": {
    "collapsed": true
   },
   "outputs": [],
   "source": [
    "colormap = np.array(plt.rcParams['axes.prop_cycle'].by_key()['color'])"
   ]
  },
  {
   "cell_type": "markdown",
   "metadata": {},
   "source": [
    "## Create the datasets"
   ]
  },
  {
   "cell_type": "markdown",
   "metadata": {},
   "source": [
    "### Source domain"
   ]
  },
  {
   "cell_type": "code",
   "execution_count": 3,
   "metadata": {
    "collapsed": true
   },
   "outputs": [],
   "source": [
    "N_source = 100"
   ]
  },
  {
   "cell_type": "code",
   "execution_count": 4,
   "metadata": {
    "collapsed": true
   },
   "outputs": [],
   "source": [
    "mean = [-1, 0]\n",
    "\n",
    "std = 0.1\n",
    "cov = np.eye(2) * std"
   ]
  },
  {
   "cell_type": "code",
   "execution_count": 5,
   "metadata": {
    "collapsed": true
   },
   "outputs": [],
   "source": [
    "x, y = np.random.multivariate_normal(mean, cov, N_source).T\n",
    "X_source = np.concatenate([x.reshape(len(x), 1), y.reshape(len(y), 1)], axis=1)"
   ]
  },
  {
   "cell_type": "markdown",
   "metadata": {},
   "source": [
    "### Target domain"
   ]
  },
  {
   "cell_type": "code",
   "execution_count": 6,
   "metadata": {
    "collapsed": true
   },
   "outputs": [],
   "source": [
    "N_target = 100"
   ]
  },
  {
   "cell_type": "code",
   "execution_count": 7,
   "metadata": {
    "collapsed": true
   },
   "outputs": [],
   "source": [
    "mean = [1, 0]\n",
    "\n",
    "std = 0.1\n",
    "cov = np.eye(2) * std"
   ]
  },
  {
   "cell_type": "code",
   "execution_count": 8,
   "metadata": {
    "collapsed": true
   },
   "outputs": [],
   "source": [
    "x, y = np.random.multivariate_normal(mean, cov, N_target).T\n",
    "X_target = np.concatenate([x.reshape(len(x), 1), y.reshape(len(y), 1)], axis=1)"
   ]
  },
  {
   "cell_type": "markdown",
   "metadata": {},
   "source": [
    "### Display the dataset"
   ]
  },
  {
   "cell_type": "code",
   "execution_count": 9,
   "metadata": {},
   "outputs": [
    {
     "data": {
      "text/plain": [
       "<matplotlib.legend.Legend at 0x7ff5093c1898>"
      ]
     },
     "execution_count": 9,
     "metadata": {},
     "output_type": "execute_result"
    },
    {
     "data": {
      "image/png": "[encoded data removed]",
      "text/plain": [
       "<matplotlib.figure.Figure at 0x7ff50bdb4d68>"
      ]
     },
     "metadata": {},
     "output_type": "display_data"
    }
   ],
   "source": [
    "plt.axis(\"equal\")\n",
    "plt.axis([-3,3,-3,3])\n",
    "\n",
    "plt.scatter(X_source[:,0], X_source[:,1], label=\"source\")\n",
    "plt.scatter(X_target[:,0], X_target[:,1], label=\"target\")\n",
    "plt.legend()"
   ]
  },
  {
   "cell_type": "markdown",
   "metadata": {},
   "source": [
    "## Create the model"
   ]
  },
  {
   "cell_type": "markdown",
   "metadata": {},
   "source": [
    "### Placeholders"
   ]
  },
  {
   "cell_type": "code",
   "execution_count": 10,
   "metadata": {
    "collapsed": true
   },
   "outputs": [],
   "source": [
    "S_input = tf.placeholder(tf.float32, shape=[None, 2], name='X_source')\n",
    "T_input = tf.placeholder(tf.float32, shape=[None, 2], name='X_target')"
   ]
  },
  {
   "cell_type": "markdown",
   "metadata": {},
   "source": [
    "### Discriminator Network"
   ]
  },
  {
   "cell_type": "code",
   "execution_count": 11,
   "metadata": {
    "collapsed": true
   },
   "outputs": [],
   "source": [
    "initializer = tf.contrib.layers.xavier_initializer()\n",
    "\n",
    "with tf.variable_scope(\"discriminator\", reuse=None):\n",
    "    D_W1 = tf.get_variable('W1', shape=[2,10], initializer=initializer)\n",
    "    D_b1 = tf.get_variable('b1', shape=[10], initializer=initializer)\n",
    "\n",
    "    D_W2 = tf.get_variable('W2', shape=[10, 10], initializer=initializer)\n",
    "    D_b2 = tf.get_variable('b2', shape=[10], initializer=initializer)\n",
    "\n",
    "    D_W3 = tf.get_variable('W3', shape=[10, 1], initializer=initializer)\n",
    "    D_b3 = tf.get_variable('b3', shape=[1], initializer=initializer)"
   ]
  },
  {
   "cell_type": "code",
   "execution_count": 12,
   "metadata": {
    "collapsed": true
   },
   "outputs": [],
   "source": [
    "theta_D = [D_W1, D_W2, D_W3, D_b1, D_b2, D_b3]"
   ]
  },
  {
   "cell_type": "code",
   "execution_count": 13,
   "metadata": {
    "collapsed": true
   },
   "outputs": [],
   "source": [
    "def discriminator_nn(x):  \n",
    "    D_h1 = tf.nn.relu(tf.matmul(x, D_W1) + D_b1)\n",
    "    D_h2 = tf.nn.relu(tf.matmul(D_h1, D_W2) + D_b2)\n",
    "    D_logit = tf.matmul(D_h2, D_W3) + D_b3\n",
    "    D_prob = tf.nn.sigmoid(D_logit)\n",
    "    \n",
    "    return D_prob, D_logit"
   ]
  },
  {
   "cell_type": "markdown",
   "metadata": {},
   "source": [
    "### Transformer Network"
   ]
  },
  {
   "cell_type": "code",
   "execution_count": 14,
   "metadata": {
    "collapsed": true
   },
   "outputs": [],
   "source": [
    "with tf.variable_scope(\"generator\", reuse=None):\n",
    "    G_W1 = tf.get_variable('W1', initializer=tf.eye(2, dtype=\"float32\"))\n",
    "    G_b1 = tf.get_variable('b1', shape=[2], initializer=tf.zeros_initializer())"
   ]
  },
  {
   "cell_type": "code",
   "execution_count": 15,
   "metadata": {
    "collapsed": true
   },
   "outputs": [],
   "source": [
    "theta_G = [G_W1, G_b1]"
   ]
  },
  {
   "cell_type": "code",
   "execution_count": 16,
   "metadata": {
    "collapsed": true
   },
   "outputs": [],
   "source": [
    "def generator_nn(x):  \n",
    "    G_output = tf.matmul(x, G_W1) + G_b1\n",
    "    \n",
    "    return G_output"
   ]
  },
  {
   "cell_type": "markdown",
   "metadata": {},
   "source": [
    "### Losses and solver"
   ]
  },
  {
   "cell_type": "code",
   "execution_count": 27,
   "metadata": {
    "collapsed": true
   },
   "outputs": [],
   "source": [
    "G_output = generator_nn(S_input)\n",
    "D_source, D_logit_source = discriminator_nn(G_output)\n",
    "D_target, D_logit_target = discriminator_nn(T_input)"
   ]
  },
  {
   "cell_type": "code",
   "execution_count": 28,
   "metadata": {
    "collapsed": true
   },
   "outputs": [],
   "source": [
    "def log(tensor):\n",
    "    return tf.log(tf.maximum(tensor, 1e-9))"
   ]
  },
  {
   "cell_type": "code",
   "execution_count": 29,
   "metadata": {
    "collapsed": true
   },
   "outputs": [],
   "source": [
    "D_loss = -tf.reduce_mean(log(D_target) + log(1. - D_source))\n",
    "G_loss = -tf.reduce_mean(log(D_source))"
   ]
  },
  {
   "cell_type": "code",
   "execution_count": 30,
   "metadata": {
    "collapsed": true
   },
   "outputs": [],
   "source": [
    "D_solver = tf.train.AdamOptimizer().minimize(D_loss, var_list=theta_D)\n",
    "G_solver = tf.train.AdamOptimizer().minimize(G_loss, var_list=theta_G)"
   ]
  },
  {
   "cell_type": "code",
   "execution_count": 31,
   "metadata": {
    "collapsed": true
   },
   "outputs": [],
   "source": [
    "from tensorflow.python.ops.losses import losses\n",
    "from tensorflow.python.ops.losses import util\n",
    "from tensorflow.python.framework import ops\n",
    "from tensorflow.python.ops import math_ops\n",
    "\n",
    "def wasserstein_generator_loss(discriminator_gen_outputs,\n",
    "                               weights=1.0,\n",
    "                               scope=None,\n",
    "                               loss_collection=ops.GraphKeys.LOSSES,\n",
    "                               reduction=losses.Reduction.SUM_BY_NONZERO_WEIGHTS):\n",
    "\n",
    "    with ops.name_scope(scope, 'generator_wasserstein_loss', (discriminator_gen_outputs, weights)) as scope:\n",
    "        discriminator_gen_outputs = math_ops.to_float(discriminator_gen_outputs)\n",
    "\n",
    "        loss = - discriminator_gen_outputs\n",
    "        loss = losses.compute_weighted_loss(loss, weights, scope, loss_collection, reduction)\n",
    "\n",
    "    return loss\n",
    "\n",
    "\n",
    "def wasserstein_discriminator_loss(discriminator_real_outputs,\n",
    "                                   discriminator_gen_outputs,\n",
    "                                   real_weights=1.0,\n",
    "                                   generated_weights=1.0,\n",
    "                                   scope=None,\n",
    "                                   loss_collection=ops.GraphKeys.LOSSES,\n",
    "                                   reduction=losses.Reduction.SUM_BY_NONZERO_WEIGHTS):\n",
    "  \n",
    "    with ops.name_scope(scope, 'discriminator_wasserstein_loss', (\n",
    "    discriminator_real_outputs, discriminator_gen_outputs, real_weights, generated_weights)) as scope:\n",
    "        discriminator_real_outputs = math_ops.to_float(discriminator_real_outputs)\n",
    "        discriminator_gen_outputs = math_ops.to_float(discriminator_gen_outputs)\n",
    "        discriminator_real_outputs.shape.assert_is_compatible_with(discriminator_gen_outputs.shape)\n",
    "\n",
    "        loss_on_generated = losses.compute_weighted_loss(\n",
    "            discriminator_gen_outputs, generated_weights, scope,\n",
    "            loss_collection=None, reduction=reduction)\n",
    "                                            \n",
    "        loss_on_real = losses.compute_weighted_loss(\n",
    "            discriminator_real_outputs, real_weights, scope, loss_collection=None,\n",
    "            reduction=reduction)\n",
    "                                            \n",
    "        loss = loss_on_generated - loss_on_real\n",
    "                                            \n",
    "        util.add_loss(loss, loss_collection)\n",
    "\n",
    "    return loss"
   ]
  },
  {
   "cell_type": "code",
   "execution_count": 32,
   "metadata": {},
   "outputs": [],
   "source": [
    "# D_loss = wasserstein_discriminator_loss(D_target, D_source)\n",
    "# G_loss = wasserstein_generator_loss(D_source)\n",
    "# D_solver = tf.train.AdamOptimizer().minimize(D_loss, var_list=theta_D)\n",
    "# G_solver = tf.train.AdamOptimizer().minimize(G_loss, var_list=theta_G)"
   ]
  },
  {
   "cell_type": "markdown",
   "metadata": {},
   "source": [
    "## Execute the model"
   ]
  },
  {
   "cell_type": "code",
   "execution_count": 41,
   "metadata": {
    "collapsed": true
   },
   "outputs": [],
   "source": [
    "sess = tf.InteractiveSession()"
   ]
  },
  {
   "cell_type": "code",
   "execution_count": 42,
   "metadata": {
    "collapsed": true
   },
   "outputs": [],
   "source": [
    "sess.run(tf.global_variables_initializer())\n",
    "D_loss_list = []\n",
    "G_loss_list = []\n",
    "iter_list = []"
   ]
  },
  {
   "cell_type": "code",
   "execution_count": 106,
   "metadata": {},
   "outputs": [
    {
     "name": "stdout",
     "output_type": "stream",
     "text": [
      "Iter: 2200\n",
      "D loss: 1.371\n",
      "G_loss: 0.6807\n",
      "\n",
      "Iter: 2300\n",
      "D loss: 1.393\n",
      "G_loss: 0.6981\n",
      "\n",
      "Iter: 2400\n",
      "D loss: 1.385\n",
      "G_loss: 0.6873\n",
      "\n",
      "Iter: 2500\n",
      "D loss: 1.386\n",
      "G_loss: 0.7018\n",
      "\n",
      "Iter: 2600\n",
      "D loss: 1.391\n",
      "G_loss: 0.6998\n",
      "\n"
     ]
    }
   ],
   "source": [
    "nb_iter = 500\n",
    "nb_iter_d = 10\n",
    "nb_iter_g = 2\n",
    "nb_samples = 40\n",
    "G_loss_curr = 0.001\n",
    "D_loss_curr = 0.001\n",
    "\n",
    "for i in range(i, nb_iter+i):\n",
    "    for k in range(nb_iter_g):\n",
    "        sample_source = X_source[np.random.choice(len(X_source), nb_samples)]\n",
    "        _, G_loss_curr = sess.run([G_solver, G_loss], feed_dict={S_input: sample_source})\n",
    "    \n",
    "    for k in range(nb_iter_d):\n",
    "        sample_source = X_source[np.random.choice(len(X_source), nb_samples)]\n",
    "        sample_target = X_target[np.random.choice(len(X_target), nb_samples)]\n",
    "        _, D_loss_curr = sess.run([D_solver, D_loss],feed_dict={S_input: sample_source, T_input: sample_target})\n",
    "    \n",
    "    D_loss_list.append(D_loss_curr)\n",
    "    G_loss_list.append(G_loss_curr)\n",
    "    iter_list.append(i)\n",
    "    \n",
    "    if i % (nb_iter//5) == 0:\n",
    "        print('Iter: {}'.format(i))\n",
    "        print('D loss: {:.4}'. format(D_loss_curr))\n",
    "        print('G_loss: {:.4}'.format(G_loss_curr))\n",
    "        print()"
   ]
  },
  {
   "cell_type": "markdown",
   "metadata": {},
   "source": [
    "## Display the results"
   ]
  },
  {
   "cell_type": "code",
   "execution_count": 107,
   "metadata": {
    "collapsed": true
   },
   "outputs": [],
   "source": [
    "X_source_trans = sess.run(G_output, feed_dict={S_input: X_source})"
   ]
  },
  {
   "cell_type": "code",
   "execution_count": 108,
   "metadata": {},
   "outputs": [
    {
     "data": {
      "image/png": "[encoded data removed]",
      "text/plain": [
       "<matplotlib.figure.Figure at 0x7ff4d4435c50>"
      ]
     },
     "metadata": {},
     "output_type": "display_data"
    }
   ],
   "source": [
    "#plt.rcParams['figure.figsize'] = (10, 15)\n",
    "plt.rcParams['figure.figsize'] = (10, 7)\n",
    "plt.axes().set_aspect('equal', 'datalim')\n",
    "plt.axis([-3,3,-3,3])\n",
    "\n",
    "x_min, x_max = -4, 4\n",
    "y_min, y_max = -4, 4\n",
    "h = .1\n",
    "xx, yy = np.meshgrid(np.arange(x_min, x_max, h),\n",
    "                     np.arange(y_min, y_max, h))\n",
    "\n",
    "levels = np.linspace(0,1,20)\n",
    "cm = plt.cm.coolwarm\n",
    "Z = sess.run(D_target, feed_dict={T_input: np.c_[xx.ravel(), yy.ravel()]}).reshape(xx.shape)\n",
    "\n",
    "#f, (a0, a1) = plt.subplots(2,1, gridspec_kw = {'height_ratios':[10, 10]})\n",
    "\n",
    "cont = plt.contourf(xx, yy, Z, levels, cmap=cm, alpha=.8)\n",
    "\n",
    "plt.scatter(X_source[:,0], X_source[:,1], label=\"source initial\")\n",
    "plt.scatter(X_target[:,0], X_target[:,1], label=\"target initial\")\n",
    "plt.scatter(X_source_trans[:,0], X_source_trans[:,1], label=\"source transformed\")\n",
    "\n",
    "plt.legend()\n",
    "#cax = f.add_axes([0.91,0.53,0.05,0.35])\n",
    "# plt.colorbar(cont, cax=cax, orientation=\"vertical\")\n",
    "plt.colorbar(cont, orientation=\"vertical\")\n",
    "plt.grid()\n",
    "#plt.savefig('screenshots/adda-step-77')\n",
    "#a1.plot(D_loss_list, label=\"Discriminator loss\")\n",
    "#a1.plot(T_loss_list, label=\"Generator loss\")\n",
    "#a1.legend()"
   ]
  },
  {
   "cell_type": "markdown",
   "metadata": {},
   "source": [
    "## Debug"
   ]
  },
  {
   "cell_type": "markdown",
   "metadata": {},
   "source": [
    "### Learning curve"
   ]
  },
  {
   "cell_type": "code",
   "execution_count": 109,
   "metadata": {},
   "outputs": [
    {
     "data": {
      "text/plain": [
       "<matplotlib.legend.Legend at 0x7ff49c428da0>"
      ]
     },
     "execution_count": 109,
     "metadata": {},
     "output_type": "execute_result"
    },
    {
     "data": {
      "image/png": "[encoded data removed]",
      "text/plain": [
       "<matplotlib.figure.Figure at 0x7ff4d445d940>"
      ]
     },
     "metadata": {},
     "output_type": "display_data"
    }
   ],
   "source": [
    "k = 10\n",
    "def smooth(x_list):\n",
    "    return np.array([1/(2*k) * np.sum([x_list[i+j] for j in range(-k, k)]) for i in range(k, len(x_list)-k)])\n",
    "\n",
    "plt.rcParams['figure.figsize'] = (20, 7)\n",
    "\n",
    "plt.plot(iter_list[k:-k], smooth(D_loss_list), label=\"Discriminator loss\")\n",
    "plt.plot(iter_list[k:-k], smooth(G_loss_list), label=\"Generator loss\")\n",
    "plt.legend()\n"
   ]
  },
  {
   "cell_type": "markdown",
   "metadata": {},
   "source": [
    "### Other"
   ]
  },
  {
   "cell_type": "code",
   "execution_count": 203,
   "metadata": {},
   "outputs": [
    {
     "data": {
      "text/plain": [
       "array([[ 0.5]], dtype=float32)"
      ]
     },
     "execution_count": 203,
     "metadata": {},
     "output_type": "execute_result"
    }
   ],
   "source": [
    "sess.run(D_target, feed_dict={T_input: np.array([[0,0]])})"
   ]
  },
  {
   "cell_type": "code",
   "execution_count": 335,
   "metadata": {},
   "outputs": [
    {
     "data": {
      "text/plain": [
       "array([    0,     2,     4, ..., 10394, 10396, 10398])"
      ]
     },
     "execution_count": 335,
     "metadata": {},
     "output_type": "execute_result"
    }
   ],
   "source": [
    "2*np.arange(len(D_loss_list)//2)"
   ]
  },
  {
   "cell_type": "code",
   "execution_count": null,
   "metadata": {
    "collapsed": true
   },
   "outputs": [],
   "source": []
  }
 ],
 "metadata": {
  "kernelspec": {
   "display_name": "Python 3",
   "language": "python",
   "name": "python3"
  },
  "language_info": {
   "codemirror_mode": {
    "name": "ipython",
    "version": 3
   },
   "file_extension": ".py",
   "mimetype": "text/x-python",
   "name": "python",
   "nbconvert_exporter": "python",
   "pygments_lexer": "ipython3",
   "version": "3.5.4"
  }
 },
 "nbformat": 4,
 "nbformat_minor": 2
}
