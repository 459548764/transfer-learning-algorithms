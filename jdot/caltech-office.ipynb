{
 "cells": [
  {
   "cell_type": "markdown",
   "metadata": {},
   "source": [
    "# JDOT Domain Adaptation for Caltech+Office dataset\n",
    "You can download the dataset [here](https://my.pcloud.com/publink/show?code=kZprXk7Z1OmGWUuYioSJbWx3jWeCAhom5FPy)"
   ]
  },
  {
   "cell_type": "code",
   "execution_count": 1,
   "metadata": {
    "collapsed": true
   },
   "outputs": [],
   "source": [
    "import numpy as np\n",
    "import ot\n",
    "import scipy.io\n",
    "from scipy.spatial.distance import cdist\n",
    "\n",
    "import matplotlib.pyplot as plt\n",
    "%matplotlib inline\n",
    "\n",
    "from sklearn.svm import LinearSVC\n",
    "from sklearn import preprocessing\n",
    "from sklearn.metrics import accuracy_score\n",
    "from sklearn.decomposition import PCA"
   ]
  },
  {
   "cell_type": "code",
   "execution_count": 2,
   "metadata": {
    "collapsed": true
   },
   "outputs": [],
   "source": [
    "colormap = np.array(plt.rcParams['axes.prop_cycle'].by_key()['color'])"
   ]
  },
  {
   "cell_type": "markdown",
   "metadata": {},
   "source": [
    "## Load the dataset"
   ]
  },
  {
   "cell_type": "code",
   "execution_count": 3,
   "metadata": {
    "collapsed": true
   },
   "outputs": [],
   "source": [
    "lb = preprocessing.LabelBinarizer()"
   ]
  },
  {
   "cell_type": "code",
   "execution_count": 4,
   "metadata": {
    "collapsed": true
   },
   "outputs": [],
   "source": [
    "folder = \"/datasets/office-caltech/\""
   ]
  },
  {
   "cell_type": "code",
   "execution_count": 5,
   "metadata": {
    "collapsed": true
   },
   "outputs": [],
   "source": [
    "amazon = scipy.io.loadmat(folder + \"amazon_decaf.mat\")\n",
    "caltech = scipy.io.loadmat(folder + \"caltech_decaf.mat\")\n",
    "dslr = scipy.io.loadmat(folder + \"dslr_decaf.mat\")\n",
    "webcam = scipy.io.loadmat(folder + \"webcam_decaf.mat\")"
   ]
  },
  {
   "cell_type": "code",
   "execution_count": 6,
   "metadata": {
    "collapsed": true
   },
   "outputs": [],
   "source": [
    "source = caltech\n",
    "target = amazon"
   ]
  },
  {
   "cell_type": "code",
   "execution_count": 7,
   "metadata": {
    "collapsed": true
   },
   "outputs": [],
   "source": [
    "X_source = source['feas']\n",
    "Y_source = source['labels'].ravel()\n",
    "Y_source_bin = lb.fit_transform(Y_source)\n",
    "\n",
    "X_target = target['feas']\n",
    "Y_target = target['labels'].ravel()\n",
    "Y_target_bin = lb.fit_transform(Y_target)\n",
    "\n",
    "batch_size = 950\n",
    "source_choice = np.random.choice(len(Y_source), batch_size)\n",
    "target_choice = np.random.choice(len(Y_target), batch_size)\n",
    "X_source = X_source[source_choice]\n",
    "Y_source = Y_source[source_choice]\n",
    "Y_source_bin = Y_source_bin[source_choice]\n",
    "X_target = X_target[target_choice]\n",
    "Y_target= Y_target[target_choice]\n",
    "Y_target_bin = Y_target_bin[target_choice]"
   ]
  },
  {
   "cell_type": "code",
   "execution_count": 8,
   "metadata": {
    "collapsed": true
   },
   "outputs": [],
   "source": [
    "pca_source = PCA(2)\n",
    "X_pca_source = pca_source.fit_transform(X_source)\n",
    "\n",
    "pca_target = PCA(2)\n",
    "X_pca_target = pca_target.fit_transform(X_target)"
   ]
  },
  {
   "cell_type": "markdown",
   "metadata": {},
   "source": [
    "## Initialization"
   ]
  },
  {
   "cell_type": "code",
   "execution_count": 9,
   "metadata": {
    "collapsed": true
   },
   "outputs": [],
   "source": [
    "model = LinearSVC()"
   ]
  },
  {
   "cell_type": "code",
   "execution_count": 10,
   "metadata": {},
   "outputs": [
    {
     "data": {
      "text/plain": [
       "LinearSVC(C=1.0, class_weight=None, dual=True, fit_intercept=True,\n",
       "     intercept_scaling=1, loss='squared_hinge', max_iter=1000,\n",
       "     multi_class='ovr', penalty='l2', random_state=None, tol=0.0001,\n",
       "     verbose=0)"
      ]
     },
     "execution_count": 10,
     "metadata": {},
     "output_type": "execute_result"
    }
   ],
   "source": [
    "model.fit(X_source, Y_source)"
   ]
  },
  {
   "cell_type": "code",
   "execution_count": 11,
   "metadata": {
    "collapsed": true
   },
   "outputs": [],
   "source": [
    "def f(x):\n",
    "    return model.predict(x.reshape(1,-1)).flatten()"
   ]
  },
  {
   "cell_type": "code",
   "execution_count": 29,
   "metadata": {
    "collapsed": true
   },
   "outputs": [],
   "source": [
    "def label_loss(y, fx):\n",
    "    return np.sum([y[i_class] * (1-fx[i_class])**2 + (1 - y[i_class]) * (-1 - fx[i_class])**2 \n",
    "                   for i_class in range(len(y))])"
   ]
  },
  {
   "cell_type": "code",
   "execution_count": 30,
   "metadata": {
    "collapsed": true
   },
   "outputs": [],
   "source": [
    "alpha = 1\n",
    "\n",
    "a = np.ones((len(Y_source),)) / len(Y_source)\n",
    "b = np.ones((len(Y_target),)) / len(Y_target)\n",
    "\n",
    "D = cdist(X_source, X_target)"
   ]
  },
  {
   "cell_type": "markdown",
   "metadata": {},
   "source": [
    "## Run the algorithm"
   ]
  },
  {
   "cell_type": "code",
   "execution_count": null,
   "metadata": {},
   "outputs": [
    {
     "data": {
      "text/plain": [
       "array([6], dtype=uint8)"
      ]
     },
     "execution_count": 31,
     "metadata": {},
     "output_type": "execute_result"
    }
   ],
   "source": [
    "Y_pred[0]"
   ]
  },
  {
   "cell_type": "code",
   "execution_count": null,
   "metadata": {},
   "outputs": [
    {
     "name": "stdout",
     "output_type": "stream",
     "text": [
      "Compute Y_pred...\n",
      "Compute L...\n",
      "Compute gamma...\n",
      "Fit model...\n",
      "Compute Y_pred...\n",
      "Compute L...\n"
     ]
    }
   ],
   "source": [
    "plt.rcParams['figure.figsize'] = (12, 10)\n",
    "plt.axis(\"equal\")\n",
    "# plt.axis(3*np.array([-1,1,-1,1]))\n",
    "\n",
    "nb_iter = 5\n",
    "\n",
    "for i in range(nb_iter):\n",
    "    # Gamma part: learn a transport plan\n",
    "    print(\"Compute Y_pred...\")\n",
    "    Y_pred = lb.transform(model.predict(X_target))\n",
    "    print(\"Compute L...\")\n",
    "    L = np.array([[label_loss(ys, yt) for yt in Y_pred] for ys in Y_source_bin])\n",
    "    C = alpha * D + L\n",
    "    print(\"Compute gamma...\")\n",
    "    gamma = ot.emd(a, b, C)\n",
    "   \n",
    "    # f part: learn \n",
    "    Y_hat = len(Y_source) * gamma.T.dot(Y_source)\n",
    "    Y_hat_bin = (1. / len(Y_source)) * np.dot(gamma.T, Y_source_bin)\n",
    "    Y_hat = lb.inverse_transform(Y_hat_bin)\n",
    "    print(\"Fit model...\")\n",
    "    model.fit(X_target, Y_hat)\n",
    "    \n",
    "# Plot\n",
    "print(\"Plot...\")\n",
    "plt.scatter(X_pca_source[:,0], X_pca_source[:,1], label=\"source\", s=40, facecolors='none', edgecolor=colormap[Y_source % 10])\n",
    "plt.scatter(X_pca_target[:,0], X_pca_target[:,1], label=\"target\", color=colormap[Y_target % 10])\n",
    "ot.plot.plot2D_samples_mat(X_pca_source, X_pca_target, gamma, color=plt.cm.Dark2(8), linestyle=\":\")\n",
    "plt.title(\"Evolution of the transport plan and the classification of target points\", fontsize=15)\n",
    "plt.legend()\n",
    "    \n",
    "    #plt.savefig(\"screenshots/gaussian-13.png\")"
   ]
  },
  {
   "cell_type": "markdown",
   "metadata": {},
   "source": [
    "## Compute the score"
   ]
  },
  {
   "cell_type": "code",
   "execution_count": null,
   "metadata": {
    "collapsed": true
   },
   "outputs": [],
   "source": [
    "Y_pred = model.predict(X_target)"
   ]
  },
  {
   "cell_type": "code",
   "execution_count": null,
   "metadata": {
    "collapsed": true
   },
   "outputs": [],
   "source": [
    "accuracy_score(Y_target, Y_pred)"
   ]
  },
  {
   "cell_type": "code",
   "execution_count": null,
   "metadata": {
    "collapsed": true
   },
   "outputs": [],
   "source": []
  }
 ],
 "metadata": {
  "kernelspec": {
   "display_name": "Python 3",
   "language": "python",
   "name": "python3"
  },
  "language_info": {
   "codemirror_mode": {
    "name": "ipython",
    "version": 3
   },
   "file_extension": ".py",
   "mimetype": "text/x-python",
   "name": "python",
   "nbconvert_exporter": "python",
   "pygments_lexer": "ipython3",
   "version": "3.5.4"
  }
 },
 "nbformat": 4,
 "nbformat_minor": 2
}
