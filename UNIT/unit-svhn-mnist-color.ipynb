{
 "cells": [
  {
   "cell_type": "markdown",
   "metadata": {},
   "source": [
    "# Implementation of UNIT for SVHN <−−> MNIST transfer\n",
    "Implementation of [Unsupervised Image-to-Image Translation Networks](https://arxiv.org/pdf/1703.00848.pdf) for transforming the SVHN domain to the MNIST one, using Tensorflow.\n",
    "\n",
    "**References** :\n",
    "\n",
    "[1] UNIT: https://arxiv.org/pdf/1703.00848.pdf\n",
    "\n",
    "[2] Instance normalization: https://arxiv.org/abs/1607.08022\n",
    "\n",
    "[3] Wasserstein GAN: https://arxiv.org/abs/1701.07875"
   ]
  },
  {
   "cell_type": "code",
   "execution_count": 1,
   "metadata": {},
   "outputs": [
    {
     "name": "stderr",
     "output_type": "stream",
     "text": [
      "/home/arthur/miniconda3/envs/tl-gpu/lib/python3.5/site-packages/h5py/__init__.py:34: FutureWarning: Conversion of the second argument of issubdtype from `float` to `np.floating` is deprecated. In future, it will be treated as `np.float64 == np.dtype(float).type`.\n",
      "  from ._conv import register_converters as _register_converters\n"
     ]
    }
   ],
   "source": [
    "import numpy as np\n",
    "import scipy\n",
    "import matplotlib.pyplot as plt\n",
    "%matplotlib inline\n",
    "from skimage import color, transform\n",
    "\n",
    "from sklearn.preprocessing import LabelBinarizer\n",
    "from sklearn.metrics import accuracy_score\n",
    "\n",
    "import tensorflow as tf\n",
    "from tensorflow.examples.tutorials.mnist import input_data\n",
    "\n",
    "from torchvision import datasets\n",
    "\n",
    "from IPython.display import clear_output"
   ]
  },
  {
   "cell_type": "markdown",
   "metadata": {},
   "source": [
    "## Parameters"
   ]
  },
  {
   "cell_type": "code",
   "execution_count": 931,
   "metadata": {
    "collapsed": true
   },
   "outputs": [],
   "source": [
    "batch_size = 64\n",
    "\n",
    "folder_mnist = \"/home/arthur/datasets/mnist\"\n",
    "folder_svhn = \"/home/arthur/datasets/svhn\"\n",
    "download_svhn = False # mnist is automatically downloaded if not in the folder\n",
    "\n",
    "colormap = np.array(plt.rcParams['axes.prop_cycle'].by_key()['color'])\n",
    "\n",
    "dropout_keep_prob = 0.5"
   ]
  },
  {
   "cell_type": "markdown",
   "metadata": {},
   "source": [
    "## Create the datasets"
   ]
  },
  {
   "cell_type": "code",
   "execution_count": 934,
   "metadata": {
    "collapsed": true
   },
   "outputs": [],
   "source": [
    "def normalize(x, max_value):\n",
    "    \"\"\" If x takes its values between 0 and max_value, normalize it between -1 and 1\"\"\"\n",
    "    return (x / float(max_value)) * 2 - 1"
   ]
  },
  {
   "cell_type": "markdown",
   "metadata": {},
   "source": [
    "### SVHN\n",
    "\n",
    "We follow the methodology of [1] and use the \"extra\" SVHN set as the training set. The test set can be useful for evaluations beyond the paper.\n",
    "\n",
    "Concerning the transformation, we turn the 32x32 RGB images to grayscale and normalize them between -1 and 1"
   ]
  },
  {
   "cell_type": "code",
   "execution_count": 4,
   "metadata": {
    "collapsed": true
   },
   "outputs": [],
   "source": [
    "svhn_train = datasets.SVHN(root=folder_svhn, download=download_svhn, split=\"extra\")\n",
    "svhn_test = datasets.SVHN(root=folder_svhn, download=download_svhn, split=\"test\")"
   ]
  },
  {
   "cell_type": "code",
   "execution_count": 5,
   "metadata": {
    "collapsed": true
   },
   "outputs": [],
   "source": [
    "def transform_svhn(X):\n",
    "    X = np.transpose(X, (0,2,3,1))\n",
    "    X = normalize(X, 256)\n",
    "    X = X.reshape(len(X), 32, 32, 3)\n",
    "    \n",
    "    return X"
   ]
  },
  {
   "cell_type": "code",
   "execution_count": 6,
   "metadata": {},
   "outputs": [
    {
     "name": "stdout",
     "output_type": "stream",
     "text": [
      "Transforming SVHN train...\n",
      "Transforming SVHN test...\n"
     ]
    }
   ],
   "source": [
    "print(\"Transforming SVHN train...\")\n",
    "X_svhn_train = transform_svhn(svhn_train.data)\n",
    "\n",
    "print(\"Transforming SVHN test...\")\n",
    "X_svhn_test = transform_svhn(svhn_test.data)"
   ]
  },
  {
   "cell_type": "code",
   "execution_count": 7,
   "metadata": {
    "collapsed": true
   },
   "outputs": [],
   "source": [
    "lb_svhn = LabelBinarizer()\n",
    "\n",
    "Y_svhn_train = lb_svhn.fit_transform(svhn_train.labels.flatten() % 10)\n",
    "Y_svhn_test = svhn_test.labels.flatten() % 10"
   ]
  },
  {
   "cell_type": "markdown",
   "metadata": {},
   "source": [
    "### MNIST\n",
    "\n",
    "Resize 28x28 grayscale images to 32x32 grayscale images"
   ]
  },
  {
   "cell_type": "code",
   "execution_count": 8,
   "metadata": {},
   "outputs": [
    {
     "name": "stdout",
     "output_type": "stream",
     "text": [
      "Extracting /home/arthur/datasets/mnist/train-images-idx3-ubyte.gz\n",
      "Extracting /home/arthur/datasets/mnist/train-labels-idx1-ubyte.gz\n",
      "Extracting /home/arthur/datasets/mnist/t10k-images-idx3-ubyte.gz\n",
      "Extracting /home/arthur/datasets/mnist/t10k-labels-idx1-ubyte.gz\n"
     ]
    }
   ],
   "source": [
    "mnist = input_data.read_data_sets(folder_mnist, one_hot=False)"
   ]
  },
  {
   "cell_type": "code",
   "execution_count": 936,
   "metadata": {
    "collapsed": true
   },
   "outputs": [],
   "source": [
    "def transform_mnist(X, phase=\"train\"):\n",
    "    X = X.reshape(len(X), 28, 28)\n",
    "    if phase == \"train\":\n",
    "        X = np.concatenate([X, 1-X], axis=0)\n",
    "    X = np.array([color.gray2rgb(transform.resize(im, [32,32])) for im in X])\n",
    "    X = normalize(X, 1)\n",
    "    X = X.reshape(len(X), 32, 32, 3)\n",
    "    \n",
    "    return X"
   ]
  },
  {
   "cell_type": "code",
   "execution_count": 937,
   "metadata": {},
   "outputs": [
    {
     "name": "stdout",
     "output_type": "stream",
     "text": [
      "Transforming MNIST train...\n"
     ]
    },
    {
     "name": "stderr",
     "output_type": "stream",
     "text": [
      "/home/arthur/miniconda3/envs/tl-gpu/lib/python3.5/site-packages/skimage/transform/_warps.py:84: UserWarning: The default mode, 'constant', will be changed to 'reflect' in skimage 0.15.\n",
      "  warn(\"The default mode, 'constant', will be changed to 'reflect' in \"\n"
     ]
    },
    {
     "name": "stdout",
     "output_type": "stream",
     "text": [
      "Transforming MNIST test...\n"
     ]
    }
   ],
   "source": [
    "print(\"Transforming MNIST train...\")\n",
    "X_mnist_train = transform_mnist(mnist.train.images, \"train\")\n",
    "\n",
    "print(\"Transforming MNIST test...\")\n",
    "X_mnist_test = transform_mnist(mnist.test.images, \"test\")"
   ]
  },
  {
   "cell_type": "code",
   "execution_count": 938,
   "metadata": {
    "collapsed": true
   },
   "outputs": [],
   "source": [
    "lb_mnist = LabelBinarizer()\n",
    "\n",
    "Y_mnist_train = lb_mnist.fit_transform(mnist.train.labels)\n",
    "Y_mnist_test = mnist.test.labels"
   ]
  },
  {
   "cell_type": "markdown",
   "metadata": {},
   "source": [
    "### Source and target"
   ]
  },
  {
   "cell_type": "code",
   "execution_count": 939,
   "metadata": {
    "collapsed": true
   },
   "outputs": [],
   "source": [
    "X_source = X_svhn_train\n",
    "Y_source = Y_svhn_train\n",
    "X_source_test = X_svhn_test\n",
    "Y_source_test = Y_svhn_test\n",
    "\n",
    "X_target = X_mnist_train\n",
    "X_target_test = X_mnist_test\n",
    "Y_target_test = Y_mnist_test"
   ]
  },
  {
   "cell_type": "markdown",
   "metadata": {},
   "source": [
    "## Create the model"
   ]
  },
  {
   "cell_type": "code",
   "execution_count": 724,
   "metadata": {
    "collapsed": true
   },
   "outputs": [],
   "source": [
    "tf.reset_default_graph()"
   ]
  },
  {
   "cell_type": "markdown",
   "metadata": {},
   "source": [
    "### Useful functions"
   ]
  },
  {
   "cell_type": "code",
   "execution_count": 725,
   "metadata": {
    "collapsed": true
   },
   "outputs": [],
   "source": [
    "def leaky_relu(x):\n",
    "    alpha = 0.05\n",
    "    return tf.maximum(x, alpha * x)"
   ]
  },
  {
   "cell_type": "markdown",
   "metadata": {},
   "source": [
    "Code for instance normalization [1] adapted from [here](https://github.com/rickbarraza/tensorflow-cyclegan/blob/master/cyclegan.py)"
   ]
  },
  {
   "cell_type": "code",
   "execution_count": 726,
   "metadata": {
    "collapsed": true
   },
   "outputs": [],
   "source": [
    "def instance_normalization(x, name):\n",
    "    return tf.layers.batch_normalization(x)\n",
    "   \n",
    "#     with tf.variable_scope(\"instance_norm\"):\n",
    "#         with tf.variable_scope(name):\n",
    "            \n",
    "#             epsilon = 1e-5\n",
    "#             mean, var = tf.nn.moments(x, [1, 2], keep_dims=True)\n",
    "#             scale = tf.get_variable('scale',[x.get_shape()[-1]], \n",
    "#                                     initializer=tf.truncated_normal_initializer(mean=1.0, stddev=0.02))\n",
    "#             offset = tf.get_variable('offset',[x.get_shape()[-1]],initializer=tf.constant_initializer(0.0))\n",
    "#             out = scale*tf.div(x-mean, tf.sqrt(var+epsilon)) + offset\n",
    "\n",
    "#             return out"
   ]
  },
  {
   "cell_type": "code",
   "execution_count": 727,
   "metadata": {
    "collapsed": true
   },
   "outputs": [],
   "source": [
    "regularizer = tf.contrib.layers.l2_regularizer(scale=5e-4)"
   ]
  },
  {
   "cell_type": "markdown",
   "metadata": {},
   "source": [
    "### Placeholders"
   ]
  },
  {
   "cell_type": "code",
   "execution_count": 728,
   "metadata": {
    "collapsed": true
   },
   "outputs": [],
   "source": [
    "ipt_source = tf.placeholder(tf.float32, shape=[None, 32, 32, 3], name='ipt_source')\n",
    "ipt_target = tf.placeholder(tf.float32, shape=[None, 32, 32, 3], name='ipt_target')\n",
    "labels_source = tf.placeholder(tf.int32, shape=[None, 10], name=\"labels_source\")\n",
    "keep_prob = tf.placeholder_with_default(1., shape=[], name=\"keep_prob\")"
   ]
  },
  {
   "cell_type": "markdown",
   "metadata": {},
   "source": [
    "### Discriminator Network"
   ]
  },
  {
   "cell_type": "markdown",
   "metadata": {},
   "source": [
    "The discriminator has two roles: separating real from generated samples, and classifying the MNIST digits.\n",
    "\n",
    "The first layer's weights depend on the task (source to target or target to source), while all the other layers have shared weights. Indeed, \"this allows us to adapt a classifier trained in the source domain to the target\n",
    "domain.\" [1]"
   ]
  },
  {
   "cell_type": "code",
   "execution_count": 729,
   "metadata": {
    "collapsed": true
   },
   "outputs": [],
   "source": [
    "def discriminator(x, scope):\n",
    "    \"\"\"Discriminator for the two GANs, and source classifier\n",
    "    \n",
    "    Parameters\n",
    "    ----------\n",
    "    x : tensor of shape = [?, 32, 32, 3]\n",
    "        Either the input (real sample) or the generated image (fake sample)\n",
    "    scope : {'source', 'target'}\n",
    "        Choose 'source' for separating real_source from fake_source and 'target' for separating real_target from\n",
    "        fake_target. Only used for the first layer.\n",
    "\n",
    "    Returns\n",
    "    -------\n",
    "    fc1_sigmoid : tensor of shape = [1]\n",
    "        Output of the discriminator real vs fake with a sigmoid\n",
    "    fc1_logits : tensor of shape = [1]\n",
    "        Output of the discriminator real vs fake without any activation function\n",
    "    fc1_classif : tensor of shape = [10]\n",
    "        Output of the source classifier, without any activation (softmax used after in the loss)\n",
    "        \n",
    "    \"\"\"\n",
    "    \n",
    "    initializer = tf.contrib.layers.xavier_initializer()\n",
    "\n",
    "    with tf.variable_scope(scope + \"/discriminator\", reuse=tf.AUTO_REUSE):\n",
    "        # Layer 1: 32x32x3 --> 16x16x64 (n=1 or 3)\n",
    "        conv1 = tf.layers.conv2d(x, 64, [5,5], strides=2, padding='SAME', kernel_initializer=initializer, \n",
    "                                 activation=leaky_relu, kernel_regularizer=regularizer)\n",
    "        conv1 = tf.nn.dropout(instance_normalization(conv1, \"conv1\"), keep_prob)\n",
    "        \n",
    "    with tf.variable_scope(\"discriminator\", reuse=tf.AUTO_REUSE):\n",
    "        # Layer 2: 16x16x64 --> 8x8x128        \n",
    "        conv2 = tf.layers.conv2d(conv1, 128, [5,5], strides=2, padding='SAME', kernel_initializer=initializer, \n",
    "                                 activation=leaky_relu, kernel_regularizer=regularizer)\n",
    "        conv2 = tf.nn.dropout(instance_normalization(conv2, \"conv2\"), keep_prob)\n",
    "        \n",
    "        # Layer 3: 8x8x128 --> 4x4x256    \n",
    "        conv3 = tf.layers.conv2d(conv2, 256, [5,5], strides=2, padding='SAME', kernel_initializer=initializer, \n",
    "                                 activation=leaky_relu, kernel_regularizer=regularizer)\n",
    "        conv3 = tf.nn.dropout(instance_normalization(conv3, \"conv3\"), keep_prob)\n",
    "        \n",
    "        # Layer 4: 4x4x256 --> 2x2x512    \n",
    "        conv4 = tf.layers.conv2d(conv3, 512, [5,5], strides=2, padding='SAME', kernel_initializer=initializer, \n",
    "                                 activation=leaky_relu, kernel_regularizer=regularizer)\n",
    "        conv4 = tf.nn.dropout(instance_normalization(conv4, \"conv4\"), keep_prob)\n",
    "\n",
    "        # Layer 3: 2x2x512 --> 1\n",
    "        fc1 = tf.contrib.layers.flatten(conv4)\n",
    "        fc1_logits = tf.layers.dense(inputs=fc1, units=1, activation=None, kernel_initializer=initializer)\n",
    "        fc1_sigmoid = tf.sigmoid(fc1_logits)\n",
    "        fc1_classif = tf.layers.dense(inputs=fc1, units=10, activation=None, kernel_initializer=initializer)\n",
    "        \n",
    "        embedding_layer = conv4\n",
    "        \n",
    "    return fc1_sigmoid, fc1_logits, fc1_classif, embedding_layer"
   ]
  },
  {
   "cell_type": "markdown",
   "metadata": {},
   "source": [
    "### Encoder Network\n",
    "\n",
    "Transform either source or target samples to the embedding space. Since the encoder is part of a VAE, the embedding space corresponds to a gaussian with mean $\\mu(x)$ and variance $\\sigma^2(x)$. The encoder outputs $\\mu$ and $log(\\sigma^2)$, but returns also a random tensor sampled from this gaussian."
   ]
  },
  {
   "cell_type": "code",
   "execution_count": 730,
   "metadata": {
    "collapsed": true
   },
   "outputs": [],
   "source": [
    "def encoder(x, scope):\n",
    "    \"\"\"Encoder for the two GANs\n",
    "    \n",
    "    Parameters\n",
    "    ----------\n",
    "    x : tensor of shape = [?, 32, 32, 1]\n",
    "        Normally takes a real image (except if you use cycle-consistency)\n",
    "    scope : {'source', 'target'}\n",
    "        Corresponds to the domain of x\n",
    "\n",
    "    Returns\n",
    "    -------\n",
    "    mu : tensor of shape = [?, 8, 8, 1024]\n",
    "        Mean of the embedding space conditionned on x\n",
    "    log_sigma_sq : tensor of shape = [?, 8, 8, 1024]\n",
    "        log of the variance of the embedding space conditionned on x\n",
    "    z : tensor of shape = [?, 8, 8, 1024]\n",
    "        Random sample generated from mu(x) and sigma(x)\n",
    "        \n",
    "    \"\"\"\n",
    "    \n",
    "    initializer = tf.contrib.layers.xavier_initializer()\n",
    "    \n",
    "    with tf.variable_scope(scope + \"/encoder\", reuse=tf.AUTO_REUSE): # not shared\n",
    "        # Layer 1: 32x32x1 --> 16x16x64\n",
    "        conv1 = tf.layers.conv2d(x, 100, [5, 5], strides=2, padding='SAME', \n",
    "                                 kernel_initializer=initializer, activation=leaky_relu)\n",
    "        conv1 = instance_normalization(conv1, \"conv1\")\n",
    "    \n",
    "    with tf.variable_scope(\"encoder\", reuse=tf.AUTO_REUSE): # shared weights\n",
    "        # Layer 2: 16x16x64 --> 8x8x128\n",
    "        conv2 = tf.layers.conv2d(conv1, 200, [5, 5], strides=2, padding='SAME', \n",
    "                                 kernel_initializer=initializer, activation=leaky_relu)\n",
    "        conv2 = instance_normalization(conv2, \"conv2\")\n",
    "        \n",
    "        # Layer 3: 8x8x128 --> 1x1x256\n",
    "        conv3 = tf.layers.conv2d(conv2, 400, [8, 8], strides=1, padding='VALID', \n",
    "                                 kernel_initializer=initializer, activation=leaky_relu)\n",
    "        conv3 = instance_normalization(conv3, \"conv3\")\n",
    "\n",
    "        # Layer 4: 1x1x256 --> 1x1x512\n",
    "        conv4 = tf.layers.conv2d(conv3, 800, [1, 1], strides=1, padding='VALID', \n",
    "                                 kernel_initializer=initializer, activation=leaky_relu)\n",
    "        conv4 = instance_normalization(conv4, \"conv4\")\n",
    "\n",
    "        # Layer 5 : 1x1x512 --> 1x1x1024\n",
    "        mu = tf.layers.conv2d(conv4, 800, [1, 1], strides=1, padding='SAME', \n",
    "                              kernel_initializer=initializer, activation=None)\n",
    "        log_sigma_sq = tf.layers.conv2d(conv4, 800, [1, 1], strides=1, padding='SAME', \n",
    "                              kernel_initializer=initializer, activation=None)\n",
    "        \n",
    "        z = mu + tf.multiply(tf.exp(log_sigma_sq / 2), tf.random_normal([tf.shape(x)[0],1,1,800],0,1,dtype=tf.float32)) # latent space\n",
    "\n",
    "    return mu, log_sigma_sq, z"
   ]
  },
  {
   "cell_type": "markdown",
   "metadata": {},
   "source": [
    "### Generator Network\n",
    "\n",
    "Transform the embedding space to the source or target domain"
   ]
  },
  {
   "cell_type": "code",
   "execution_count": 731,
   "metadata": {
    "collapsed": true
   },
   "outputs": [],
   "source": [
    "def generator(z, scope):\n",
    "    \"\"\"Generator for the two GANs\n",
    "    \n",
    "    Parameters\n",
    "    ----------\n",
    "    x : tensor of shape = [?, 8, 8, 1024]\n",
    "        Normally takes an encoded image (point in the embedding space)\n",
    "    scope : {'source', 'target'}\n",
    "        Corresponds to the domain of x\n",
    "\n",
    "    Returns\n",
    "    -------\n",
    "    deconv5 : tensor of shape = [?, 32, 32, 3]\n",
    "        Generated image\n",
    "    \"\"\"\n",
    "    initializer = tf.contrib.layers.xavier_initializer()\n",
    "    \n",
    "    with tf.variable_scope(\"generator\", reuse=tf.AUTO_REUSE): # shared weights\n",
    "        # Layer 1: 8x8x1024 --> 8x8x512\n",
    "        deconv1 = tf.layers.conv2d_transpose(z, 800, [4, 4], strides=2, padding='VALID', kernel_initializer=initializer, activation=leaky_relu)\n",
    "        deconv1 = instance_normalization(deconv1, \"deconv1\")\n",
    "\n",
    "        # Layer 2: 8x8x512 --> 16x16x256\n",
    "        deconv2 = tf.layers.conv2d_transpose(deconv1, 400, [4, 4], strides=2, padding='SAME', kernel_initializer=initializer, activation=leaky_relu)\n",
    "        deconv2 = instance_normalization(deconv2, \"deconv2\")\n",
    "        \n",
    "        # Layer 3: 16x16x256 --> 32x32x512\n",
    "        deconv3 = tf.layers.conv2d_transpose(deconv2, 200, [4, 4], strides=2, padding='SAME', kernel_initializer=initializer, activation=leaky_relu)\n",
    "        deconv3 = instance_normalization(deconv3, \"deconv3\")\n",
    "        \n",
    "    with tf.variable_scope(scope + \"/generator\", reuse=tf.AUTO_REUSE):\n",
    "        # Layer 3: 16x16x256 --> 32x32x512\n",
    "        deconv4 = tf.layers.conv2d_transpose(deconv3, 100, [4, 4], strides=2, padding='SAME', kernel_initializer=initializer, activation=leaky_relu)\n",
    "        deconv4 = instance_normalization(deconv4, \"deconv4\")\n",
    "        \n",
    "        # Layer 6: 16x16x64 --> 32x32x3\n",
    "        deconv5 = tf.layers.conv2d_transpose(deconv4, 3, [1, 1], strides=1, padding='SAME', kernel_initializer=initializer, activation=tf.nn.tanh)\n",
    "    \n",
    "    return deconv5"
   ]
  },
  {
   "cell_type": "markdown",
   "metadata": {},
   "source": [
    "### Define the graph"
   ]
  },
  {
   "cell_type": "code",
   "execution_count": 732,
   "metadata": {
    "collapsed": true
   },
   "outputs": [],
   "source": [
    "def log(tensor):\n",
    "    return tf.log(tensor + 1e-7)"
   ]
  },
  {
   "cell_type": "markdown",
   "metadata": {},
   "source": [
    "#### Encoders"
   ]
  },
  {
   "cell_type": "code",
   "execution_count": 733,
   "metadata": {
    "collapsed": true
   },
   "outputs": [],
   "source": [
    "E_mean_source, E_log_sigma_sq_source, E_source = encoder(ipt_source, \"source\")\n",
    "E_mean_target, E_log_sigma_sq_target, E_target = encoder(ipt_target, \"target\")"
   ]
  },
  {
   "cell_type": "markdown",
   "metadata": {},
   "source": [
    "#### Generators"
   ]
  },
  {
   "cell_type": "code",
   "execution_count": 734,
   "metadata": {
    "collapsed": true
   },
   "outputs": [],
   "source": [
    "# GAN\n",
    "G_t2s = generator(E_target, \"source\") # target to source (t2s)\n",
    "G_s2t = generator(E_source, \"target\") # source to target (s2t)\n",
    "\n",
    "# VAE\n",
    "G_t2t = generator(E_target, \"target\") # target to target (t2t)\n",
    "G_s2s = generator(E_source, \"source\") # source to source (s2s)"
   ]
  },
  {
   "cell_type": "markdown",
   "metadata": {},
   "source": [
    "#### Discriminators"
   ]
  },
  {
   "cell_type": "code",
   "execution_count": 735,
   "metadata": {
    "collapsed": true
   },
   "outputs": [],
   "source": [
    "D_target, D_target_logits, D_target_classif, D_target_embed = discriminator(ipt_target, \"target\")\n",
    "D_source, D_source_logits, D_source_classif, D_source_embed = discriminator(ipt_source, \"source\")\n",
    "\n",
    "DG_t2s, DG_t2s_logits, DG_t2s_classif, DG_t2s_embed = discriminator(G_t2s, \"source\")\n",
    "DG_s2t, DG_s2t_logits, DG_s2t_classif, DG_s2t_embed = discriminator(G_s2t, \"target\")\n",
    "DG_s2s, DG_s2s_logits, DG_s2s_classif, DG_s2s_embed = discriminator(G_s2s, \"source\")\n",
    "DG_t2t, DG_t2t_logits, DG_t2t_classif, DG_t2t_embed = discriminator(G_t2t, \"target\")"
   ]
  },
  {
   "cell_type": "markdown",
   "metadata": {},
   "source": [
    "### Losses"
   ]
  },
  {
   "cell_type": "markdown",
   "metadata": {},
   "source": [
    "#### VAE losses"
   ]
  },
  {
   "cell_type": "markdown",
   "metadata": {},
   "source": [
    "Source : [Variational Autoencoder: Intuition and Implementation](https://wiseodd.github.io/techblog/2016/12/10/variational-autoencoder/)"
   ]
  },
  {
   "cell_type": "code",
   "execution_count": 888,
   "metadata": {
    "collapsed": true
   },
   "outputs": [],
   "source": [
    "lambda_rec = 10\n",
    "lambda_kl = 1"
   ]
  },
  {
   "cell_type": "code",
   "execution_count": 889,
   "metadata": {
    "collapsed": true
   },
   "outputs": [],
   "source": [
    "def normalize(x):\n",
    "    return (x + 1) / 2"
   ]
  },
  {
   "cell_type": "code",
   "execution_count": 890,
   "metadata": {
    "collapsed": true
   },
   "outputs": [],
   "source": [
    "def reconstruction_loss(x, x_rec):\n",
    "    return tf.losses.mean_squared_error(x, x_rec)"
   ]
  },
  {
   "cell_type": "code",
   "execution_count": 891,
   "metadata": {
    "collapsed": true
   },
   "outputs": [],
   "source": [
    "def latent_loss(mean, log_std_sq):\n",
    "    return 0.5 * tf.reduce_mean(tf.square(mean) + tf.exp(log_std_sq) - log_std_sq - 1.)"
   ]
  },
  {
   "cell_type": "code",
   "execution_count": 892,
   "metadata": {
    "collapsed": true
   },
   "outputs": [],
   "source": [
    "vae_s2s_loss = lambda_rec * reconstruction_loss(ipt_source, G_s2s) \\\n",
    "               + lambda_kl * latent_loss(E_mean_source, E_log_sigma_sq_source)\n",
    "vae_t2t_loss = lambda_rec * reconstruction_loss(ipt_target, G_t2t) \\\n",
    "               + lambda_kl * latent_loss(E_mean_target, E_log_sigma_sq_target)"
   ]
  },
  {
   "cell_type": "markdown",
   "metadata": {},
   "source": [
    "#### Classification losses"
   ]
  },
  {
   "cell_type": "code",
   "execution_count": 893,
   "metadata": {
    "collapsed": true
   },
   "outputs": [],
   "source": [
    "lambda_classif_source = 1\n",
    "lambda_classif_vae = 0"
   ]
  },
  {
   "cell_type": "code",
   "execution_count": 894,
   "metadata": {
    "collapsed": true
   },
   "outputs": [],
   "source": [
    "classif_source_loss = lambda_classif_source * tf.reduce_mean(tf.nn.softmax_cross_entropy_with_logits(labels=labels_source, \n",
    "                                                                                              logits=D_source_classif))"
   ]
  },
  {
   "cell_type": "code",
   "execution_count": 895,
   "metadata": {
    "collapsed": true
   },
   "outputs": [],
   "source": [
    "classif_vae_loss = lambda_classif_vae * tf.reduce_mean(tf.nn.softmax_cross_entropy_with_logits(labels=labels_source, \n",
    "                                                                                            logits=DG_s2s_classif))"
   ]
  },
  {
   "cell_type": "markdown",
   "metadata": {},
   "source": [
    "#### L1 discriminator loss"
   ]
  },
  {
   "cell_type": "code",
   "execution_count": 896,
   "metadata": {
    "collapsed": true
   },
   "outputs": [],
   "source": [
    "lambda_l1_loss = 1e-2"
   ]
  },
  {
   "cell_type": "code",
   "execution_count": 897,
   "metadata": {
    "collapsed": true
   },
   "outputs": [],
   "source": [
    "l1_t2s_loss = lambda_l1_loss * tf.reduce_mean(tf.losses.absolute_difference(D_source_embed, DG_t2s_embed))\n",
    "l1_s2t_loss = lambda_l1_loss * tf.reduce_mean(tf.losses.absolute_difference(D_target_embed, DG_s2t_embed))"
   ]
  },
  {
   "cell_type": "markdown",
   "metadata": {},
   "source": [
    "#### GAN losses"
   ]
  },
  {
   "cell_type": "code",
   "execution_count": 898,
   "metadata": {
    "collapsed": true
   },
   "outputs": [],
   "source": [
    "lamda_gan_disc = 1.0\n",
    "lamda_gan_gen = 1.0"
   ]
  },
  {
   "cell_type": "code",
   "execution_count": 899,
   "metadata": {
    "collapsed": true
   },
   "outputs": [],
   "source": [
    "def lsgan_disc_loss(D_real, D_gen):\n",
    "    return 1/2 * tf.reduce_mean((D_real - 1)**2) + 1/2 * tf.reduce_mean(D_gen**2)\n",
    "\n",
    "def lsgan_gen_loss(D_gen):\n",
    "    return 1/2 * tf.reduce_mean((D_gen - 1)**2)"
   ]
  },
  {
   "cell_type": "code",
   "execution_count": 900,
   "metadata": {
    "collapsed": true
   },
   "outputs": [],
   "source": [
    "def wasserstein_disc_loss(D_real, D_gen):\n",
    "    \"\"\" Warning : take logits as input\"\"\"\n",
    "    return tf.reduce_mean(D_gen) - tf.reduce_mean(D_real)\n",
    "\n",
    "def wasserstein_gen_loss(D_gen):\n",
    "    \"\"\" Warning : take logits as input\"\"\"\n",
    "    return -tf.reduce_mean(D_gen)"
   ]
  },
  {
   "cell_type": "code",
   "execution_count": 901,
   "metadata": {
    "collapsed": true
   },
   "outputs": [],
   "source": [
    "def original_disc_loss(D_real, D_gen):\n",
    "    return tf.reduce_mean(-log(D_real) - log(1. - D_gen))\n",
    "    \n",
    "def original_gen_loss(D_gen):\n",
    "    return tf.reduce_mean(-log(D_gen))"
   ]
  },
  {
   "cell_type": "code",
   "execution_count": 902,
   "metadata": {
    "collapsed": true
   },
   "outputs": [],
   "source": [
    "D_s2t_loss = original_disc_loss(D_target, DG_s2t) \n",
    "D_t2t_loss = original_disc_loss(D_target, DG_t2t)\n",
    "\n",
    "G_s2t_loss = original_gen_loss(DG_s2t)\n",
    "G_t2t_loss = original_gen_loss(DG_t2t)"
   ]
  },
  {
   "cell_type": "code",
   "execution_count": 903,
   "metadata": {
    "collapsed": true
   },
   "outputs": [],
   "source": [
    "D_t2s_loss = original_disc_loss(D_source, DG_t2s)\n",
    "D_s2s_loss = original_disc_loss(D_source, DG_s2s)\n",
    "\n",
    "G_t2s_loss = original_gen_loss(DG_t2s) \n",
    "G_s2s_loss = original_gen_loss(DG_s2s)"
   ]
  },
  {
   "cell_type": "markdown",
   "metadata": {},
   "source": [
    "#### Combine the losses"
   ]
  },
  {
   "cell_type": "code",
   "execution_count": 904,
   "metadata": {
    "collapsed": true
   },
   "outputs": [],
   "source": [
    "D_loss = D_s2t_loss + D_t2s_loss + D_s2s_loss + D_t2t_loss \\\n",
    "         + l1_t2s_loss + l1_s2t_loss \\\n",
    "         + classif_source_loss"
   ]
  },
  {
   "cell_type": "code",
   "execution_count": 905,
   "metadata": {
    "collapsed": true
   },
   "outputs": [],
   "source": [
    "G_loss = G_s2t_loss + G_t2s_loss + G_s2s_loss + G_t2t_loss \\\n",
    "         + vae_s2s_loss + vae_t2t_loss"
   ]
  },
  {
   "cell_type": "markdown",
   "metadata": {},
   "source": [
    "### Solvers"
   ]
  },
  {
   "cell_type": "code",
   "execution_count": 906,
   "metadata": {
    "collapsed": true
   },
   "outputs": [],
   "source": [
    "model_vars = tf.trainable_variables()\n",
    "\n",
    "D_vars = tf.get_collection(tf.GraphKeys.TRAINABLE_VARIABLES, scope='source/discriminator') \\\n",
    "         + tf.get_collection(tf.GraphKeys.TRAINABLE_VARIABLES, scope='target/discriminator') \\\n",
    "         + tf.get_collection(tf.GraphKeys.TRAINABLE_VARIABLES, scope='discriminator')\n",
    "    \n",
    "\n",
    "G_vars = tf.get_collection(tf.GraphKeys.TRAINABLE_VARIABLES, scope='source/encoder') \\\n",
    "         + tf.get_collection(tf.GraphKeys.TRAINABLE_VARIABLES, scope='target/encoder') \\\n",
    "         + tf.get_collection(tf.GraphKeys.TRAINABLE_VARIABLES, scope='source/generator') \\\n",
    "         + tf.get_collection(tf.GraphKeys.TRAINABLE_VARIABLES, scope='target/generator') \\\n",
    "         + tf.get_collection(tf.GraphKeys.TRAINABLE_VARIABLES, scope='generator') \\\n",
    "         + tf.get_collection(tf.GraphKeys.TRAINABLE_VARIABLES, scope='encoder')"
   ]
  },
  {
   "cell_type": "code",
   "execution_count": 907,
   "metadata": {
    "collapsed": true
   },
   "outputs": [],
   "source": [
    "with tf.variable_scope(\"optim\", reuse=tf.AUTO_REUSE):\n",
    "    D_solver = tf.train.AdamOptimizer(learning_rate=2e-4, beta1=0.5).minimize(D_loss, var_list=D_vars)\n",
    "    G_solver = tf.train.AdamOptimizer(learning_rate=2e-4, beta1=0.5).minimize(G_loss, var_list=G_vars)"
   ]
  },
  {
   "cell_type": "markdown",
   "metadata": {},
   "source": [
    "Clipping for Wasserstein loss [3]"
   ]
  },
  {
   "cell_type": "code",
   "execution_count": 908,
   "metadata": {
    "collapsed": true
   },
   "outputs": [],
   "source": [
    "clip_D = [p.assign(tf.clip_by_value(p, -0.1, 0.1)) for p in D_vars]"
   ]
  },
  {
   "cell_type": "markdown",
   "metadata": {},
   "source": [
    "## Run the model"
   ]
  },
  {
   "cell_type": "code",
   "execution_count": 909,
   "metadata": {
    "collapsed": true
   },
   "outputs": [],
   "source": [
    "sess = tf.InteractiveSession(config=tf.ConfigProto(log_device_placement=False))"
   ]
  },
  {
   "cell_type": "code",
   "execution_count": 940,
   "metadata": {
    "collapsed": true
   },
   "outputs": [],
   "source": [
    "sess.run(tf.global_variables_initializer())\n",
    "G_loss_list = []\n",
    "D_loss_list = []\n",
    "D_s2t_loss_list = []\n",
    "G_s2t_loss_list = []\n",
    "D_t2s_loss_list = []\n",
    "G_t2s_loss_list = []\n",
    "D_s2s_loss_list = []\n",
    "G_s2s_loss_list = []\n",
    "D_t2t_loss_list = []\n",
    "G_t2t_loss_list = []\n",
    "vae_s2s_loss_list = []\n",
    "vae_t2t_loss_list = []\n",
    "classif_source_loss_list = []\n",
    "classif_vae_loss_list = []\n",
    "l1_s2t_loss_list = []\n",
    "l1_t2s_loss_list = []\n",
    "accuracy_list = []\n",
    "iter_list = []\n",
    "i = 0"
   ]
  },
  {
   "cell_type": "code",
   "execution_count": 911,
   "metadata": {
    "collapsed": true
   },
   "outputs": [],
   "source": [
    "# saver = tf.train.Saver(G_vars + D_vars)\n",
    "# saver.restore(sess, \"model/model.ckpt\")"
   ]
  },
  {
   "cell_type": "code",
   "execution_count": 912,
   "metadata": {
    "collapsed": true
   },
   "outputs": [],
   "source": [
    "# D_s2t_loss_list = list(np.loadtxt(\"D_s2t_loss_list.txt\"))\n",
    "# G_s2t_loss_list = list(np.loadtxt(\"G_s2t_loss_list.txt\"))\n",
    "# D_t2s_loss_list = list(np.loadtxt(\"D_t2s_loss_list.txt\"))\n",
    "# G_t2s_loss_list = list(np.loadtxt(\"G_t2s_loss_list.txt\"))\n",
    "# D_s2s_loss_list = list(np.loadtxt(\"D_s2s_loss_list.txt\"))\n",
    "# G_s2s_loss_list = list(np.loadtxt(\"G_s2s_loss_list.txt\"))\n",
    "# D_t2t_loss_list = list(np.loadtxt(\"D_t2t_loss_list.txt\"))\n",
    "# G_t2t_loss_list = list(np.loadtxt(\"G_t2t_loss_list.txt\"))\n",
    "# vae_s2s_loss_list = list(np.loadtxt(\"vae_s2s_loss_list.txt\"))\n",
    "# vae_t2t_loss_list = list(np.loadtxt(\"vae_t2t_loss_list.txt\"))\n",
    "# classif_source_loss_list = list(np.loadtxt(\"classif_source_loss_list.txt\"))\n",
    "# classif_vae_loss_list = list(np.loadtxt(\"classif_vae_loss_list.txt\"))\n",
    "# l1_s2t_loss_list = list(np.loadtxt(\"l1_s2t_loss_list.txt\"))\n",
    "# l1_t2s_loss_list = list(np.loadtxt(\"l1_t2s_loss_list.txt\"))\n",
    "# accuracy_list = list(np.loadtxt(\"accuracy_list.txt\"))\n",
    "# iter_list = list(np.loadtxt(\"iter_list.txt\"))\n",
    "# i = len(iter_list)"
   ]
  },
  {
   "cell_type": "code",
   "execution_count": null,
   "metadata": {},
   "outputs": [
    {
     "name": "stdout",
     "output_type": "stream",
     "text": [
      "Iter: 48346 / 247375\n",
      "D loss s2t: 1.372\n",
      "D loss t2s: 1.344\n",
      "D loss t2t: 1.39\n",
      "D loss s2s: 1.361\n",
      "G loss s2t: 0.7908\n",
      "G loss t2s: 0.7677\n",
      "G loss s2s: 0.7461\n",
      "G loss t2t: 0.7605\n",
      "VAE loss s2s: 0.2495\n",
      "VAE loss t2t: 0.2662\n",
      "L1 loss s2t: 0.0001468\n",
      "L1 loss t2s: 0.0008066\n",
      "Classif loss : 0.1663\n",
      "Classif VAE loss : 0.0\n",
      "Accuracy : 0.4062\n",
      "\n"
     ]
    }
   ],
   "source": [
    "nb_iter = 200001\n",
    "nb_iter_d = 5\n",
    "nb_iter_g = 1\n",
    "verbose = True\n",
    "\n",
    "i_init = i\n",
    "for i in range(i, nb_iter+i):\n",
    "    # Evaluate the accuracy on a mini-batch of the test set\n",
    "    idx_sample_target = np.random.choice(len(X_target_test), batch_size)\n",
    "    sample_target = X_target_test[idx_sample_target]\n",
    "    sample_target_labels = Y_target_test[idx_sample_target]\n",
    "    sample_target_predict = np.argmax(sess.run(tf.nn.softmax(DG_t2s_classif), feed_dict={ipt_target: sample_target}), axis=1)\n",
    "    accuracy_curr = accuracy_score(sample_target_labels, sample_target_predict)\n",
    "    \n",
    "    # Training\n",
    "    \n",
    "    for k in range(nb_iter_g):\n",
    "        sample_source = X_source[np.random.choice(len(X_source), batch_size)]\n",
    "        sample_target = X_target[np.random.choice(len(X_target), batch_size)]\n",
    "        \n",
    "        _, G_loss_curr = sess.run([G_solver, G_loss], feed_dict={ipt_source: sample_source, \n",
    "                                                                 ipt_target: sample_target})\n",
    "        \n",
    "    for k in range(nb_iter_d):\n",
    "        idx_sample_source = np.random.choice(len(X_source), batch_size)\n",
    "        sample_source = X_source[idx_sample_source]\n",
    "        sample_source_labels = Y_source[idx_sample_source]\n",
    "        sample_target = X_target[np.random.choice(len(X_target), batch_size)]\n",
    "        \n",
    "        \n",
    "        _, D_loss_curr,_ = sess.run([D_solver, D_loss, clip_D], feed_dict={ipt_source: sample_source, \n",
    "                                                                         ipt_target: sample_target,\n",
    "                                                                 labels_source: sample_source_labels})\n",
    "    \n",
    "    # Computing the different losses\n",
    "    \n",
    "    idx_sample_source = np.random.choice(len(X_source), batch_size)\n",
    "    sample_source = X_source[idx_sample_source]\n",
    "    sample_source_labels = Y_source[idx_sample_source]\n",
    "    sample_target = X_target[np.random.choice(len(X_target), batch_size)]\n",
    "    \n",
    "    G_s2t_loss_curr = sess.run(G_s2t_loss, feed_dict={ipt_source: sample_source, ipt_target: sample_target})\n",
    "    G_t2s_loss_curr = sess.run(G_t2s_loss, feed_dict={ipt_source: sample_source, ipt_target: sample_target})\n",
    "    G_s2s_loss_curr = sess.run(G_s2s_loss, feed_dict={ipt_source: sample_source, ipt_target: sample_target})\n",
    "    G_t2t_loss_curr = sess.run(G_t2t_loss, feed_dict={ipt_source: sample_source, ipt_target: sample_target})\n",
    "    \n",
    "    D_s2t_loss_curr = sess.run(D_s2t_loss, feed_dict={ipt_source: sample_source, ipt_target: sample_target})\n",
    "    D_t2s_loss_curr = sess.run(D_t2s_loss, feed_dict={ipt_source: sample_source, ipt_target: sample_target})\n",
    "    D_s2s_loss_curr = sess.run(D_s2s_loss, feed_dict={ipt_source: sample_source, ipt_target: sample_target})\n",
    "    D_t2t_loss_curr = sess.run(D_t2t_loss, feed_dict={ipt_source: sample_source, ipt_target: sample_target})\n",
    "    \n",
    "    vae_s2s_loss_curr = sess.run(vae_s2s_loss, feed_dict={ipt_source: sample_source, ipt_target: sample_target})\n",
    "    vae_t2t_loss_curr = sess.run(vae_t2t_loss, feed_dict={ipt_source: sample_source, ipt_target: sample_target})\n",
    "    \n",
    "    classif_source_loss_curr = sess.run(classif_source_loss, feed_dict={ipt_source: sample_source, \n",
    "                                                                    ipt_target: sample_target,\n",
    "                                                                    labels_source: sample_source_labels})\n",
    "    classif_vae_loss_curr = sess.run(classif_vae_loss, feed_dict={ipt_source: sample_source, \n",
    "                                                                  ipt_target: sample_target,\n",
    "                                                                  labels_source: sample_source_labels,\n",
    "                                                                  keep_prob: 0.5})\n",
    "    \n",
    "    l1_s2t_loss_curr = sess.run(l1_s2t_loss, feed_dict={ipt_source: sample_source, ipt_target: sample_target})\n",
    "    l1_t2s_loss_curr = sess.run(l1_t2s_loss, feed_dict={ipt_source: sample_source, ipt_target: sample_target})\n",
    "    \n",
    "    iter_list.append(i)\n",
    "    D_loss_list.append(D_loss_curr)\n",
    "    G_loss_list.append(G_loss_curr)\n",
    "    D_s2t_loss_list.append(D_s2t_loss_curr)\n",
    "    G_s2t_loss_list.append(G_s2t_loss_curr)\n",
    "    D_t2s_loss_list.append(D_t2s_loss_curr)\n",
    "    G_t2s_loss_list.append(G_t2s_loss_curr)\n",
    "    D_s2s_loss_list.append(D_s2s_loss_curr)\n",
    "    G_s2s_loss_list.append(G_s2s_loss_curr)\n",
    "    D_t2t_loss_list.append(D_t2t_loss_curr)\n",
    "    G_t2t_loss_list.append(G_t2t_loss_curr)\n",
    "    vae_s2s_loss_list.append(vae_s2s_loss_curr)\n",
    "    vae_t2t_loss_list.append(vae_t2t_loss_curr)\n",
    "    classif_source_loss_list.append(classif_source_loss_curr)\n",
    "    classif_vae_loss_list.append(classif_vae_loss_curr)\n",
    "    l1_s2t_loss_list.append(l1_s2t_loss_curr)\n",
    "    l1_t2s_loss_list.append(l1_t2s_loss_curr)\n",
    "    accuracy_list.append(accuracy_curr)\n",
    "    \n",
    "    if verbose:\n",
    "        clear_output(wait=True)\n",
    "        print('Iter: {} / {}'.format(i, i_init + nb_iter - 1))\n",
    "        print('D loss s2t: {:.4}'.format(D_s2t_loss_curr))\n",
    "        print('D loss t2s: {:.4}'.format(D_t2s_loss_curr))\n",
    "        print('D loss t2t: {:.4}'.format(D_t2t_loss_curr))\n",
    "        print('D loss s2s: {:.4}'.format(D_s2s_loss_curr))\n",
    "        \n",
    "        print('G loss s2t: {:.4}'.format(G_s2t_loss_curr))\n",
    "        print('G loss t2s: {:.4}'.format(G_t2s_loss_curr))\n",
    "        print('G loss s2s: {:.4}'.format(G_s2s_loss_curr))\n",
    "        print('G loss t2t: {:.4}'.format(G_t2t_loss_curr))\n",
    "        \n",
    "        print('VAE loss s2s: {:.4}'.format(vae_s2s_loss_curr))\n",
    "        print('VAE loss t2t: {:.4}'.format(vae_t2t_loss_curr))\n",
    "        \n",
    "        print('L1 loss s2t: {:.4}'.format(l1_s2t_loss_curr))\n",
    "        print('L1 loss t2s: {:.4}'.format(l1_t2s_loss_curr))\n",
    "        \n",
    "        print('Classif loss : {:.4}'.format(classif_source_loss_curr))\n",
    "        print('Classif VAE loss : {:.4}'.format(classif_vae_loss_curr))\n",
    "        print('Accuracy : {:.4}'.format(accuracy_list[-1]))\n",
    "        print()\n",
    "\n",
    "    if i != 0 and i % 200 == 0:\n",
    "        print(\"Saving model...\")\n",
    "        saver.save(sess, \"model/model.ckpt\")\n",
    "        np.savetxt(\"D_loss_list.txt\", D_s2t_loss_list)\n",
    "        np.savetxt(\"G_loss_list.txt\", G_s2t_loss_list)\n",
    "        np.savetxt(\"D_s2t_loss_list.txt\", D_s2t_loss_list)\n",
    "        np.savetxt(\"G_s2t_loss_list.txt\", G_s2t_loss_list)\n",
    "        np.savetxt(\"D_t2s_loss_list.txt\", D_t2s_loss_list)\n",
    "        np.savetxt(\"G_t2s_loss_list.txt\", G_t2s_loss_list)\n",
    "        np.savetxt(\"D_s2s_loss_list.txt\", D_s2s_loss_list)\n",
    "        np.savetxt(\"G_s2s_loss_list.txt\", G_s2s_loss_list)\n",
    "        np.savetxt(\"D_t2t_loss_list.txt\", D_t2t_loss_list)\n",
    "        np.savetxt(\"G_t2t_loss_list.txt\", G_t2t_loss_list)\n",
    "        np.savetxt(\"vae_s2s_loss_list.txt\", vae_s2s_loss_list)\n",
    "        np.savetxt(\"vae_t2t_loss_list.txt\", vae_t2t_loss_list)\n",
    "        np.savetxt(\"l1_s2t_loss_list.txt\", l1_s2t_loss_list)\n",
    "        np.savetxt(\"l1_t2s_loss_list.txt\", l1_t2s_loss_list)\n",
    "        np.savetxt(\"classif_source_loss_list.txt\", classif_source_loss_list)\n",
    "        np.savetxt(\"classif_vae_loss_list.txt\", classif_vae_loss_list)\n",
    "        np.savetxt(\"accuracy_list.txt\", accuracy_list)\n",
    "        np.savetxt(\"iter_list.txt\", iter_list)\n",
    "\n",
    "# summary_writer.flush()"
   ]
  },
  {
   "cell_type": "markdown",
   "metadata": {},
   "source": [
    "## Display the results"
   ]
  },
  {
   "cell_type": "markdown",
   "metadata": {},
   "source": [
    "### Images visualization"
   ]
  },
  {
   "cell_type": "code",
   "execution_count": 1256,
   "metadata": {
    "collapsed": true
   },
   "outputs": [],
   "source": [
    "# G_t2t_mean = generator(E_mean_target, \"target\")"
   ]
  },
  {
   "cell_type": "code",
   "execution_count": 1257,
   "metadata": {
    "collapsed": true
   },
   "outputs": [],
   "source": [
    "def unnormalize(x):\n",
    "    return np.array((x + 1)/2)"
   ]
  },
  {
   "cell_type": "code",
   "execution_count": 1287,
   "metadata": {
    "collapsed": true
   },
   "outputs": [],
   "source": [
    "X_s2s = unnormalize(sess.run(G_s2s, feed_dict={ipt_source: X_source[:batch_size]}))\n",
    "# X_s2s = unnormalize(sess.run(generator(0 + tf.random_normal([batch_size,1,1,800],0,1,dtype=tf.float32), \"source\"), feed_dict={ipt_source: X_source[:batch_size]}))\n",
    "X_t2t = unnormalize(sess.run(G_t2t, feed_dict={ipt_target: X_target[:batch_size]}))\n",
    "X_s2t = unnormalize(sess.run(G_s2t, feed_dict={ipt_source: X_source[:batch_size]}))\n",
    "X_t2s = unnormalize(sess.run(G_t2s, feed_dict={ipt_target: X_target[:batch_size]}))\n",
    "\n",
    "Y_source_predict = np.argmax(sess.run(tf.nn.softmax(D_source_classif), feed_dict={ipt_source: X_source[:batch_size]}), axis=1)\n",
    "Y_target_predict = np.argmax(sess.run(tf.nn.softmax(DG_t2s_classif), feed_dict={ipt_target: X_target[:batch_size]}), axis=1)"
   ]
  },
  {
   "cell_type": "code",
   "execution_count": 1288,
   "metadata": {
    "collapsed": true
   },
   "outputs": [],
   "source": [
    "# Deterministic\n",
    "# sess.run(tf.nn.softmax(DG_t2s_mean), feed_dict={ipt_target: X_target[7:8]})"
   ]
  },
  {
   "cell_type": "code",
   "execution_count": 1289,
   "metadata": {
    "collapsed": true
   },
   "outputs": [],
   "source": [
    "# Stochastic\n",
    "# sess.run(tf.nn.softmax(DG_t2s_classif), feed_dict={ipt_target: X_target[7:8]})"
   ]
  },
  {
   "cell_type": "code",
   "execution_count": 1310,
   "metadata": {
    "scrolled": false
   },
   "outputs": [
    {
     "data": {
      "text/plain": [
       "(-0.5, 31.5, 31.5, -0.5)"
      ]
     },
     "execution_count": 1310,
     "metadata": {},
     "output_type": "execute_result"
    },
    {
     "data": {
      "image/png": "[encoded data removed]",
      "text/plain": [
       "<matplotlib.figure.Figure at 0x7fe1fb079c88>"
      ]
     },
     "metadata": {},
     "output_type": "display_data"
    }
   ],
   "source": [
    "plt.rcParams['figure.figsize'] = (15, 10)\n",
    "# plt.axes().set_aspect('equal', 'datalim')\n",
    "#plt.axis([-3,3,-3,3])\n",
    "\n",
    "index = 10\n",
    "plt.subplot(2,3,1)\n",
    "plt.title(Y_source_predict[index])\n",
    "plt.imshow(unnormalize(X_source[index]))\n",
    "plt.axis('off')\n",
    "\n",
    "plt.subplot(2,3,2)\n",
    "plt.imshow(X_s2t[index])\n",
    "plt.axis('off')\n",
    "\n",
    "plt.subplot(2,3,3)\n",
    "plt.imshow(X_s2s[index])\n",
    "plt.axis('off')\n",
    "\n",
    "plt.subplot(2,3,4)\n",
    "plt.title(Y_target_predict[index])\n",
    "plt.imshow(unnormalize(X_target[index]))\n",
    "plt.axis('off')\n",
    "\n",
    "plt.subplot(2,3,5)\n",
    "plt.imshow(X_t2s[index])\n",
    "plt.axis('off')\n",
    "\n",
    "plt.subplot(2,3,6)\n",
    "# plt.imshow(np.transpose(X_target_trans[index].reshape(3,32,32), (1,2,0)))\n",
    "plt.imshow(X_t2t[index].reshape(32,32,3))\n",
    "plt.axis('off')"
   ]
  },
  {
   "cell_type": "markdown",
   "metadata": {},
   "source": [
    "### Learning curves"
   ]
  },
  {
   "cell_type": "code",
   "execution_count": 1262,
   "metadata": {
    "collapsed": true
   },
   "outputs": [],
   "source": [
    "def smooth(x_list):\n",
    "    res = [np.sum([x_list[k+j] for j in range(-k, k+1)])]\n",
    "    for i in range(k+1, len(x_list)-k):\n",
    "        res.append(res[-1] - x_list[i-k-1] + x_list[i+k])\n",
    "    return np.array(res) / (2 * k)"
   ]
  },
  {
   "cell_type": "markdown",
   "metadata": {},
   "source": [
    "#### Total loss"
   ]
  },
  {
   "cell_type": "code",
   "execution_count": 1263,
   "metadata": {},
   "outputs": [
    {
     "data": {
      "image/png": "[encoded data removed]",
      "text/plain": [
       "<matplotlib.figure.Figure at 0x7fe1ffe4f0f0>"
      ]
     },
     "metadata": {},
     "output_type": "display_data"
    }
   ],
   "source": [
    "k = 100\n",
    "start = 0\n",
    "\n",
    "\n",
    "plt.rcParams['figure.figsize'] = (20, 7)\n",
    "\n",
    "plt.subplot(1,2,1)\n",
    "plt.plot(iter_list[k+start:-k], smooth(D_loss_list[start:]), label=\"Discriminator loss\")\n",
    "plt.legend()\n",
    "plt.grid()\n",
    "\n",
    "plt.subplot(1,2,2)\n",
    "plt.plot(iter_list[k+start:-k], smooth(G_loss_list[start:]), label=\"Generator loss\")\n",
    "plt.legend()\n",
    "plt.grid()"
   ]
  },
  {
   "cell_type": "markdown",
   "metadata": {},
   "source": [
    "#### GAN losses"
   ]
  },
  {
   "cell_type": "code",
   "execution_count": 1264,
   "metadata": {},
   "outputs": [
    {
     "data": {
      "image/png": "[encoded data removed]",
      "text/plain": [
       "<matplotlib.figure.Figure at 0x7fe1ffd5ddd8>"
      ]
     },
     "metadata": {},
     "output_type": "display_data"
    }
   ],
   "source": [
    "k = 1000\n",
    "start = 0\n",
    "\n",
    "\n",
    "plt.rcParams['figure.figsize'] = (20, 7)\n",
    "\n",
    "plt.subplot(1,2,1)\n",
    "plt.plot(iter_list[k+start:-k], smooth(D_s2t_loss_list[start:]), label=\"Discriminator loss − s2t\")\n",
    "plt.plot(iter_list[k+start:-k], smooth(D_t2s_loss_list[start:]), label=\"Discriminator loss − t2s\")\n",
    "plt.plot(iter_list[k+start:-k], smooth(D_s2s_loss_list[start:]), label=\"Discriminator loss − s2s\")\n",
    "plt.plot(iter_list[k+start:-k], smooth(D_t2t_loss_list[start:]), label=\"Discriminator loss − t2t\")\n",
    "plt.legend()\n",
    "plt.grid()\n",
    "\n",
    "plt.subplot(1,2,2)\n",
    "plt.plot(iter_list[k+start:-k], smooth(G_s2t_loss_list[start:]), label=\"Generator loss − s2t\")\n",
    "plt.plot(iter_list[k+start:-k], smooth(G_t2s_loss_list[start:]), label=\"Generator loss − t2s\")\n",
    "plt.plot(iter_list[k+start:-k], smooth(G_s2s_loss_list[start:]), label=\"Generator loss − s2s\")\n",
    "plt.plot(iter_list[k+start:-k], smooth(G_t2t_loss_list[start:]), label=\"Generator loss − t2t\")\n",
    "plt.legend()\n",
    "plt.grid()"
   ]
  },
  {
   "cell_type": "markdown",
   "metadata": {},
   "source": [
    "#### VAE losses"
   ]
  },
  {
   "cell_type": "code",
   "execution_count": 1265,
   "metadata": {},
   "outputs": [
    {
     "data": {
      "image/png": "[encoded data removed]",
      "text/plain": [
       "<matplotlib.figure.Figure at 0x7fe1fe0cb710>"
      ]
     },
     "metadata": {},
     "output_type": "display_data"
    }
   ],
   "source": [
    "k = 100\n",
    "start = 0\n",
    "\n",
    "plt.subplot(1,2,1)\n",
    "plt.plot(iter_list[k+start:-k], smooth(vae_s2s_loss_list[start:]), label=\"VAE s2s loss\")\n",
    "plt.legend()\n",
    "plt.grid()\n",
    "\n",
    "plt.subplot(1,2,2)\n",
    "plt.plot(iter_list[k+start:-k], smooth(vae_t2t_loss_list[start:]), label=\"VAE t2t loss\")\n",
    "plt.legend()\n",
    "plt.grid()"
   ]
  },
  {
   "cell_type": "markdown",
   "metadata": {},
   "source": [
    "#### Classification loss"
   ]
  },
  {
   "cell_type": "code",
   "execution_count": 1266,
   "metadata": {},
   "outputs": [
    {
     "data": {
      "image/png": "[encoded data removed]",
      "text/plain": [
       "<matplotlib.figure.Figure at 0x7fe204010fd0>"
      ]
     },
     "metadata": {},
     "output_type": "display_data"
    }
   ],
   "source": [
    "k = 100\n",
    "start = 0\n",
    "\n",
    "plt.subplot(1,2,1)\n",
    "plt.plot(iter_list[k+start:-k], smooth(classif_source_loss_list[start:]), label=\"Classif loss\")\n",
    "plt.legend()\n",
    "plt.grid()\n",
    "\n",
    "plt.subplot(1,2,2)\n",
    "plt.plot(iter_list[k+start:-k], smooth(classif_vae_loss_list[start:]), label=\"Classif VAE loss\")\n",
    "plt.legend()\n",
    "plt.grid()"
   ]
  },
  {
   "cell_type": "markdown",
   "metadata": {},
   "source": [
    "#### L1 loss"
   ]
  },
  {
   "cell_type": "code",
   "execution_count": 1267,
   "metadata": {},
   "outputs": [
    {
     "data": {
      "text/plain": [
       "<matplotlib.legend.Legend at 0x7fe203e36898>"
      ]
     },
     "execution_count": 1267,
     "metadata": {},
     "output_type": "execute_result"
    },
    {
     "data": {
      "image/png": "[encoded data removed]",
      "text/plain": [
       "<matplotlib.figure.Figure at 0x7fe1fe0cb9b0>"
      ]
     },
     "metadata": {},
     "output_type": "display_data"
    }
   ],
   "source": [
    "k = 100\n",
    "start = 0\n",
    "\n",
    "plt.subplot(1,2,1)\n",
    "plt.plot(iter_list[k+start:-k], smooth(l1_s2t_loss_list[start:]), label=\"L1 s2t loss\")\n",
    "plt.legend()\n",
    "\n",
    "plt.subplot(1,2,2)\n",
    "plt.plot(iter_list[k+start:-k], smooth(l1_t2s_loss_list[start:]), label=\"L1 t2s loss\")\n",
    "plt.legend()"
   ]
  },
  {
   "cell_type": "markdown",
   "metadata": {},
   "source": [
    "#### Validation accuracy"
   ]
  },
  {
   "cell_type": "code",
   "execution_count": 1311,
   "metadata": {},
   "outputs": [
    {
     "data": {
      "text/plain": [
       "<matplotlib.legend.Legend at 0x7fe1fad00320>"
      ]
     },
     "execution_count": 1311,
     "metadata": {},
     "output_type": "execute_result"
    },
    {
     "data": {
      "image/png": "[encoded data removed]",
      "text/plain": [
       "<matplotlib.figure.Figure at 0x7fe2013c0fd0>"
      ]
     },
     "metadata": {},
     "output_type": "display_data"
    }
   ],
   "source": [
    "k = 100\n",
    "start = 0\n",
    "\n",
    "plt.title(\"Accuracy of target classification on the test set\")\n",
    "plt.plot(iter_list[k+start:-k], smooth(accuracy_list[start:]), label=\"Validation accuracy\")\n",
    "plt.grid()\n",
    "plt.legend()"
   ]
  },
  {
   "cell_type": "markdown",
   "metadata": {},
   "source": [
    "## Test the results"
   ]
  },
  {
   "cell_type": "markdown",
   "metadata": {},
   "source": [
    "### Accuracy"
   ]
  },
  {
   "cell_type": "code",
   "execution_count": null,
   "metadata": {
    "collapsed": true
   },
   "outputs": [],
   "source": [
    "# nbr_batches = len(X_target_test) // batch_size\n",
    "nbr_batches = 5\n",
    "Y_target_predict = []\n",
    "for start in range(0, batch_size*nbr_batches, batch_size):\n",
    "    target_predict = tf.nn.softmax(discriminator(generator(E_mean_target, \"target\"), \"source\")[2])\n",
    "    test_samples = X_target_test[start:batch_size+start]\n",
    "    Y_target_predict = np.concatenate([Y_target_predict, \n",
    "                                       np.argmax(sess.run(target_predict, feed_dict={ipt_target: test_samples}), \n",
    "                                                 axis=1)])"
   ]
  },
  {
   "cell_type": "code",
   "execution_count": null,
   "metadata": {
    "collapsed": true
   },
   "outputs": [],
   "source": [
    "Y_target_predict.shape"
   ]
  },
  {
   "cell_type": "code",
   "execution_count": null,
   "metadata": {
    "collapsed": true
   },
   "outputs": [],
   "source": [
    "accuracy_score(Y_target_test[:batch_size*nbr_batches], Y_target_predict)"
   ]
  },
  {
   "cell_type": "markdown",
   "metadata": {},
   "source": [
    "### Classification"
   ]
  },
  {
   "cell_type": "markdown",
   "metadata": {},
   "source": [
    "#### On the training set"
   ]
  },
  {
   "cell_type": "code",
   "execution_count": 1269,
   "metadata": {
    "collapsed": true
   },
   "outputs": [],
   "source": [
    "start = 0\n",
    "nbr_samples = 5000\n",
    "Y_source_predict = np.argmax(sess.run(tf.nn.softmax(discriminator(ipt_source, \"source\")[2]), \n",
    "                                      feed_dict={ipt_source: X_source[start:nbr_samples+start]}), axis=1)"
   ]
  },
  {
   "cell_type": "code",
   "execution_count": 1270,
   "metadata": {},
   "outputs": [
    {
     "data": {
      "text/plain": [
       "0.9414"
      ]
     },
     "execution_count": 1270,
     "metadata": {},
     "output_type": "execute_result"
    }
   ],
   "source": [
    "accuracy_score(np.argmax(Y_source, axis=1)[start:nbr_samples+start], Y_source_predict)"
   ]
  },
  {
   "cell_type": "markdown",
   "metadata": {},
   "source": [
    "#### On the test set"
   ]
  },
  {
   "cell_type": "code",
   "execution_count": 1271,
   "metadata": {
    "collapsed": true
   },
   "outputs": [],
   "source": [
    "start = 0\n",
    "nbr_samples = 5000\n",
    "Y_source_predict = np.argmax(sess.run(tf.nn.softmax(discriminator(ipt_source, \"source\")[2]), \n",
    "                                      feed_dict={ipt_source: X_source_test[start:nbr_samples+start]}), axis=1)"
   ]
  },
  {
   "cell_type": "code",
   "execution_count": 1272,
   "metadata": {},
   "outputs": [
    {
     "data": {
      "text/plain": [
       "0.8738"
      ]
     },
     "execution_count": 1272,
     "metadata": {},
     "output_type": "execute_result"
    }
   ],
   "source": [
    "accuracy_score(Y_source_test[start:nbr_samples+start], Y_source_predict)"
   ]
  },
  {
   "cell_type": "markdown",
   "metadata": {},
   "source": [
    "## Debug"
   ]
  },
  {
   "cell_type": "markdown",
   "metadata": {},
   "source": [
    "### Gradients"
   ]
  },
  {
   "cell_type": "code",
   "execution_count": null,
   "metadata": {
    "collapsed": true
   },
   "outputs": [],
   "source": [
    "print(\"Gradient of D with respect to\", ipt_source)\n",
    "gradient = sess.run(tf.gradients(discriminator(ipt_source, \"source\")[1], ipt_source), \n",
    "                    feed_dict={ipt_source: sample_source})\n",
    "print(\"Min:\", np.array(np.abs(gradient)).min())\n",
    "print(\"Max:\", np.array(gradient).max())\n",
    "print(\"Avg:\", np.array(np.abs(gradient)).mean())"
   ]
  },
  {
   "cell_type": "code",
   "execution_count": null,
   "metadata": {
    "collapsed": true
   },
   "outputs": [],
   "source": [
    "print(\"Gradient of D with respect to\", ipt_target)\n",
    "gradient = sess.run(tf.gradients(discriminator(ipt_target, \"target\")[1], ipt_target), \n",
    "                    feed_dict={ipt_target: sample_target})\n",
    "\n",
    "print(\"Min:\", np.array(gradient).min())\n",
    "print(\"Max:\", np.array(gradient).max())\n",
    "print(\"Avg:\", np.array(np.abs(gradient)).mean())"
   ]
  },
  {
   "cell_type": "code",
   "execution_count": null,
   "metadata": {
    "collapsed": true
   },
   "outputs": [],
   "source": [
    "ind = 1\n",
    "print(\"Gradient with respect to\", G_s2t_vars[ind])\n",
    "gradient = sess.run(tf.gradients(G_s2t_loss, G_s2t_vars[ind]), feed_dict={ipt_source: sample_source, \n",
    "                                                                          ipt_target: sample_target})\n",
    "print(\"Min:\", np.array(gradient).min())\n",
    "print(\"Max:\", np.array(gradient).max())\n",
    "print(\"Avg:\", np.array(gradient).mean())"
   ]
  },
  {
   "cell_type": "code",
   "execution_count": null,
   "metadata": {
    "collapsed": true
   },
   "outputs": [],
   "source": [
    "ind = 2\n",
    "print(\"Gradient with respect to\", G_t2s_vars[ind])\n",
    "gradient = sess.run(tf.gradients(G_t2s_loss, G_t2s_vars[ind]), feed_dict={ipt_source: sample_source, \n",
    "                                                                          ipt_target: sample_target})\n",
    "print(\"Min:\", np.array(gradient).min())\n",
    "print(\"Max:\", np.array(gradient).max())\n",
    "print(\"Avg:\", np.array(gradient).mean())"
   ]
  },
  {
   "cell_type": "code",
   "execution_count": null,
   "metadata": {
    "collapsed": true
   },
   "outputs": [],
   "source": []
  }
 ],
 "metadata": {
  "kernelspec": {
   "display_name": "Python 3",
   "language": "python",
   "name": "python3"
  }
 },
 "nbformat": 4,
 "nbformat_minor": 2
}
