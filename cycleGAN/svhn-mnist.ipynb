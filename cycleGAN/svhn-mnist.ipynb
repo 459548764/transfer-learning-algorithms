{
 "cells": [
  {
   "cell_type": "markdown",
   "metadata": {},
   "source": [
    "# CycleGAN for SVHN --> MNIST transfer\n",
    "Adaptation of this [paper](https://arxiv.org/pdf/1703.10593.pdf) for transforming the SVHN domain to the MNIST one"
   ]
  },
  {
   "cell_type": "code",
   "execution_count": 48,
   "metadata": {
    "collapsed": true
   },
   "outputs": [],
   "source": [
    "import numpy as np\n",
    "import scipy\n",
    "import matplotlib.pyplot as plt\n",
    "%matplotlib inline\n",
    "\n",
    "import tensorflow as tf\n",
    "from tensorflow.examples.tutorials.mnist import input_data\n",
    "\n",
    "from torchvision import datasets\n",
    "from torchvision import transforms\n",
    "\n",
    "from IPython.display import clear_output"
   ]
  },
  {
   "cell_type": "code",
   "execution_count": 2,
   "metadata": {
    "collapsed": true
   },
   "outputs": [],
   "source": [
    "colormap = np.array(plt.rcParams['axes.prop_cycle'].by_key()['color'])"
   ]
  },
  {
   "cell_type": "markdown",
   "metadata": {},
   "source": [
    "## Create the datasets"
   ]
  },
  {
   "cell_type": "code",
   "execution_count": 3,
   "metadata": {
    "collapsed": true
   },
   "outputs": [],
   "source": [
    "def normalize(x, max_value):\n",
    "    \"\"\" Normalize the input between -1 and 1 \"\"\"\n",
    "    return (x / float(max_value)) * 2 - 1"
   ]
  },
  {
   "cell_type": "markdown",
   "metadata": {},
   "source": [
    "### SVHN"
   ]
  },
  {
   "cell_type": "code",
   "execution_count": 4,
   "metadata": {
    "collapsed": true
   },
   "outputs": [],
   "source": [
    "svhn = datasets.SVHN(root=\"/home/arthur/datasets/svhn\", download=False)"
   ]
  },
  {
   "cell_type": "code",
   "execution_count": 5,
   "metadata": {},
   "outputs": [
    {
     "data": {
      "text/plain": [
       "(73257, 32, 32, 3)"
      ]
     },
     "execution_count": 5,
     "metadata": {},
     "output_type": "execute_result"
    }
   ],
   "source": [
    "X_svhn = svhn.data\n",
    "X_svhn = np.transpose(X_svhn, (0,2,3,1))\n",
    "Y_svhn = svhn.labels.flatten()%10\n",
    "X_svhn.shape"
   ]
  },
  {
   "cell_type": "markdown",
   "metadata": {},
   "source": [
    "### MNIST"
   ]
  },
  {
   "cell_type": "code",
   "execution_count": 6,
   "metadata": {},
   "outputs": [
    {
     "name": "stdout",
     "output_type": "stream",
     "text": [
      "Extracting /home/arthur/datasets/mnist/train-images-idx3-ubyte.gz\n",
      "Extracting /home/arthur/datasets/mnist/train-labels-idx1-ubyte.gz\n",
      "Extracting /home/arthur/datasets/mnist/t10k-images-idx3-ubyte.gz\n",
      "Extracting /home/arthur/datasets/mnist/t10k-labels-idx1-ubyte.gz\n"
     ]
    }
   ],
   "source": [
    "mnist = input_data.read_data_sets('/home/arthur/datasets/mnist', one_hot=False)"
   ]
  },
  {
   "cell_type": "code",
   "execution_count": 7,
   "metadata": {},
   "outputs": [
    {
     "data": {
      "text/plain": [
       "(55000, 28, 28, 1)"
      ]
     },
     "execution_count": 7,
     "metadata": {},
     "output_type": "execute_result"
    }
   ],
   "source": [
    "X_mnist = mnist.train.images\n",
    "X_mnist = X_mnist.reshape(len(X_mnist), 28, 28, 1)\n",
    "Y_mnist = mnist.train.labels\n",
    "X_mnist.shape"
   ]
  },
  {
   "cell_type": "code",
   "execution_count": 8,
   "metadata": {
    "collapsed": true
   },
   "outputs": [],
   "source": [
    "X_source = X_svhn\n",
    "X_target = X_mnist"
   ]
  },
  {
   "cell_type": "markdown",
   "metadata": {},
   "source": [
    "## Create the model"
   ]
  },
  {
   "cell_type": "markdown",
   "metadata": {},
   "source": [
    "### Useful functions"
   ]
  },
  {
   "cell_type": "code",
   "execution_count": 9,
   "metadata": {
    "collapsed": true
   },
   "outputs": [],
   "source": [
    "def leaky_relu(x):\n",
    "    alpha = 0.2\n",
    "    return tf.maximum(x, alpha * x)"
   ]
  },
  {
   "cell_type": "code",
   "execution_count": 10,
   "metadata": {
    "collapsed": true
   },
   "outputs": [],
   "source": [
    "def instance_normalization(x, name):\n",
    "    with tf.variable_scope(\"instance_norm\"):\n",
    "        with tf.variable_scope(name):\n",
    "            epsilon = 1e-5\n",
    "            mean, var = tf.nn.moments(x, [1, 2], keep_dims=True)\n",
    "            scale = tf.get_variable('scale',[x.get_shape()[-1]], \n",
    "                initializer=tf.truncated_normal_initializer(mean=1.0, stddev=0.02))\n",
    "            offset = tf.get_variable('offset',[x.get_shape()[-1]],initializer=tf.constant_initializer(0.0))\n",
    "            out = scale*tf.div(x-mean, tf.sqrt(var+epsilon)) + offset\n",
    "\n",
    "            return out"
   ]
  },
  {
   "cell_type": "code",
   "execution_count": 11,
   "metadata": {
    "collapsed": true
   },
   "outputs": [],
   "source": [
    "def gaussian_noise_layer(input_layer, std):\n",
    "    noise = tf.random_normal(shape=tf.shape(input_layer), mean=0.0, stddev=std, dtype=tf.float32) \n",
    "    return input_layer + noise"
   ]
  },
  {
   "cell_type": "markdown",
   "metadata": {},
   "source": [
    "### Placeholders"
   ]
  },
  {
   "cell_type": "code",
   "execution_count": 12,
   "metadata": {
    "collapsed": true
   },
   "outputs": [],
   "source": [
    "ipt_source = tf.placeholder(tf.float32, shape=[None, 32, 32, 3], name='ipt_source')\n",
    "ipt_source_transf = normalize(tf.image.rgb_to_grayscale(ipt_source), 256)\n",
    "\n",
    "ipt_target = tf.placeholder(tf.float32, shape=[None, 28, 28, 1], name='ipt_target')\n",
    "ipt_target_transf = normalize(tf.image.resize_images(ipt_target, [32, 32]), 1)"
   ]
  },
  {
   "cell_type": "markdown",
   "metadata": {},
   "source": [
    "### Discriminator Network"
   ]
  },
  {
   "cell_type": "code",
   "execution_count": 13,
   "metadata": {
    "collapsed": true
   },
   "outputs": [],
   "source": [
    "def discriminator(x): \n",
    "    initializer = tf.contrib.layers.xavier_initializer()\n",
    "\n",
    "    with tf.variable_scope(\"discriminator\"):\n",
    "        # Layer 1: 32x32xn --> 16x16x32 (n=1 or 3)\n",
    "        x_noisy = gaussian_noise_layer(x, 0.4)\n",
    "        conv1 = tf.layers.conv2d(x_noisy, 32, [5,5], strides=2, padding='SAME', kernel_initializer=initializer, activation=leaky_relu)\n",
    "        conv1 = instance_normalization(conv1, \"conv1\")\n",
    "        \n",
    "        # Layer 2: 16x16x32 --> 8x8x16        \n",
    "        conv2 = tf.layers.conv2d(conv1, 16, [5,5], strides=2, padding='SAME', kernel_initializer=initializer, activation=leaky_relu)\n",
    "        conv2 = instance_normalization(conv2, \"conv2\")\n",
    "        \n",
    "        # Layer 3: 8x8x16 --> 4x4x8     \n",
    "        conv3 = tf.layers.conv2d(conv2, 8, [5,5], strides=2, padding='SAME', kernel_initializer=initializer, activation=leaky_relu)\n",
    "        conv3 = instance_normalization(conv3, \"conv3\")\n",
    "\n",
    "        # Layer 3: 128 --> 64\n",
    "        fc1 = tf.contrib.layers.flatten(conv3)\n",
    "        fc1 = tf.layers.dense(inputs=fc1, units=32, activation=leaky_relu, kernel_initializer=initializer)\n",
    "    \n",
    "        # Layer 4: Input 64. Output 32\n",
    "        fc2 = tf.layers.dense(inputs=fc1, units=16, activation=leaky_relu, kernel_initializer=initializer)\n",
    "        \n",
    "        # Layer 5: Input 32. Output 1\n",
    "        fc3 = tf.layers.dense(inputs=fc2, units=1, activation=None, kernel_initializer=initializer)\n",
    "    \n",
    "    return fc3"
   ]
  },
  {
   "cell_type": "markdown",
   "metadata": {},
   "source": [
    "### Generator Network"
   ]
  },
  {
   "cell_type": "code",
   "execution_count": 14,
   "metadata": {
    "collapsed": true
   },
   "outputs": [],
   "source": [
    "def generator(x):\n",
    "    initializer = tf.contrib.layers.xavier_initializer()\n",
    "    \n",
    "    with tf.variable_scope(\"generator\", reuse=None):\n",
    "        # Layer 1: 32x32x1 --> 16x16x32\n",
    "        conv1 = tf.layers.conv2d(x, 64, [5, 5], strides=2, padding='SAME', kernel_initializer=initializer, activation=leaky_relu)\n",
    "        conv1 = instance_normalization(conv1, \"conv1\")\n",
    "        \n",
    "        # Layer 2: 16x16x32 --> 8x8x16\n",
    "        conv2 = tf.layers.conv2d(conv1, 32, [5, 5], strides=2, padding='SAME', kernel_initializer=initializer, activation=leaky_relu)\n",
    "        conv2 = instance_normalization(conv2, \"conv2\")\n",
    "        \n",
    "        # Layer 3: 8x8x16 --> 4x4x8\n",
    "        conv3 = tf.layers.conv2d(conv2, 16, [5, 5], strides=2, padding='SAME', kernel_initializer=initializer, activation=leaky_relu)\n",
    "        conv3 = instance_normalization(conv3, \"conv3\")\n",
    "\n",
    "        # Layer 4: 4x4x8 --> 8x8x16\n",
    "        deconv1 = tf.layers.conv2d_transpose(conv3, 32, [5, 5], strides=2, padding='SAME', kernel_initializer=initializer, activation=leaky_relu)\n",
    "        deconv1 = instance_normalization(deconv1, \"deconv1\")\n",
    "        \n",
    "        # Layer 5: 8x8x16 --> 16x16x32\n",
    "        deconv2 = tf.layers.conv2d_transpose(deconv1, 64, [5, 5], strides=2, padding='SAME', kernel_initializer=initializer, activation=leaky_relu)\n",
    "        deconv2 = instance_normalization(deconv2, \"deconv2\")\n",
    "        \n",
    "        # Layer 6: 16x16x32 --> 32x32x1\n",
    "        deconv3 = tf.layers.conv2d_transpose(deconv2, 1, [5, 5], strides=2, padding='SAME', kernel_initializer=initializer, activation=tf.nn.tanh)\n",
    "\n",
    "    return deconv3"
   ]
  },
  {
   "cell_type": "markdown",
   "metadata": {},
   "source": [
    "### Losses and solver"
   ]
  },
  {
   "cell_type": "markdown",
   "metadata": {},
   "source": [
    "#### Useful functions"
   ]
  },
  {
   "cell_type": "code",
   "execution_count": 15,
   "metadata": {
    "collapsed": true
   },
   "outputs": [],
   "source": [
    "def log(tensor):\n",
    "    return tf.log(tf.maximum(tensor, 1e-9))"
   ]
  },
  {
   "cell_type": "markdown",
   "metadata": {},
   "source": [
    "#### Define the graph"
   ]
  },
  {
   "cell_type": "code",
   "execution_count": 16,
   "metadata": {
    "collapsed": true
   },
   "outputs": [],
   "source": [
    "with tf.variable_scope(\"s2t\") as scope:\n",
    "    D_target = discriminator(ipt_target_transf)\n",
    "    G_target = generator(ipt_source_transf)\n",
    "    scope.reuse_variables()\n",
    "    DG_target = discriminator(G_target)"
   ]
  },
  {
   "cell_type": "code",
   "execution_count": 17,
   "metadata": {
    "collapsed": true
   },
   "outputs": [],
   "source": [
    "with tf.variable_scope(\"t2s\") as scope:\n",
    "    D_source = discriminator(ipt_source_transf)\n",
    "    G_source = generator(ipt_target_transf)\n",
    "    scope.reuse_variables()\n",
    "    DG_source = discriminator(G_source)"
   ]
  },
  {
   "cell_type": "code",
   "execution_count": 18,
   "metadata": {
    "collapsed": true
   },
   "outputs": [],
   "source": [
    "with tf.variable_scope(\"s2t\", reuse=True) as scope:\n",
    "    cyc_target = generator(G_source)"
   ]
  },
  {
   "cell_type": "code",
   "execution_count": 19,
   "metadata": {
    "collapsed": true
   },
   "outputs": [],
   "source": [
    "with tf.variable_scope(\"t2s\", reuse=True) as scope:\n",
    "    cyc_source = generator(G_target)"
   ]
  },
  {
   "cell_type": "markdown",
   "metadata": {},
   "source": [
    "#### Losses"
   ]
  },
  {
   "cell_type": "code",
   "execution_count": 20,
   "metadata": {
    "collapsed": true
   },
   "outputs": [],
   "source": [
    "lambda_cyc = 5"
   ]
  },
  {
   "cell_type": "code",
   "execution_count": 21,
   "metadata": {},
   "outputs": [
    {
     "data": {
      "text/plain": [
       "<tf.Tensor 'cyc_loss:0' shape=() dtype=string>"
      ]
     },
     "execution_count": 21,
     "metadata": {},
     "output_type": "execute_result"
    }
   ],
   "source": [
    "cyc_loss = tf.losses.mean_squared_error(ipt_source_transf, cyc_source) + tf.losses.mean_squared_error(ipt_target_transf, cyc_target)\n",
    "tf.summary.scalar(\"cyc_loss\", cyc_loss)"
   ]
  },
  {
   "cell_type": "code",
   "execution_count": 22,
   "metadata": {},
   "outputs": [
    {
     "data": {
      "text/plain": [
       "<tf.Tensor 'G_s2t_loss:0' shape=() dtype=string>"
      ]
     },
     "execution_count": 22,
     "metadata": {},
     "output_type": "execute_result"
    }
   ],
   "source": [
    "D_s2t_loss = tf.reduce_mean(DG_target) - tf.reduce_mean(D_target)\n",
    "G_s2t_loss = -tf.reduce_mean(DG_target) + lambda_cyc*cyc_loss\n",
    "\n",
    "tf.summary.scalar(\"D_s2t_loss\", D_s2t_loss)\n",
    "tf.summary.scalar(\"G_s2t_loss\", G_s2t_loss)"
   ]
  },
  {
   "cell_type": "code",
   "execution_count": 23,
   "metadata": {},
   "outputs": [
    {
     "data": {
      "text/plain": [
       "<tf.Tensor 'G_t2s_loss:0' shape=() dtype=string>"
      ]
     },
     "execution_count": 23,
     "metadata": {},
     "output_type": "execute_result"
    }
   ],
   "source": [
    "D_t2s_loss = tf.reduce_mean(DG_source) - tf.reduce_mean(D_source)\n",
    "G_t2s_loss = -tf.reduce_mean(DG_source) + lambda_cyc*cyc_loss\n",
    "tf.summary.scalar(\"D_t2s_loss\", D_t2s_loss)\n",
    "tf.summary.scalar(\"G_t2s_loss\", D_t2s_loss)"
   ]
  },
  {
   "cell_type": "markdown",
   "metadata": {},
   "source": [
    "#### Solvers"
   ]
  },
  {
   "cell_type": "code",
   "execution_count": 24,
   "metadata": {
    "collapsed": true
   },
   "outputs": [],
   "source": [
    "model_vars = tf.trainable_variables()\n",
    "\n",
    "D_s2t_vars = tf.get_collection(tf.GraphKeys.TRAINABLE_VARIABLES, scope='s2t/discriminator')\n",
    "G_s2t_vars = tf.get_collection(tf.GraphKeys.TRAINABLE_VARIABLES, scope='s2t/generator')\n",
    "D_t2s_vars = tf.get_collection(tf.GraphKeys.TRAINABLE_VARIABLES, scope='t2s/discriminator')\n",
    "G_t2s_vars = tf.get_collection(tf.GraphKeys.TRAINABLE_VARIABLES, scope='t2s/generator')"
   ]
  },
  {
   "cell_type": "code",
   "execution_count": 25,
   "metadata": {
    "collapsed": true
   },
   "outputs": [],
   "source": [
    "D_s2t_solver = tf.train.RMSPropOptimizer(learning_rate=1e-2).minimize(D_s2t_loss, var_list=D_s2t_vars)\n",
    "G_s2t_solver = tf.train.RMSPropOptimizer(learning_rate=1e-2).minimize(G_s2t_loss, var_list=G_s2t_vars)\n",
    "D_t2s_solver = tf.train.RMSPropOptimizer(learning_rate=1e-2).minimize(D_t2s_loss, var_list=D_t2s_vars)\n",
    "G_t2s_solver = tf.train.RMSPropOptimizer(learning_rate=1e-2).minimize(G_t2s_loss, var_list=G_t2s_vars)"
   ]
  },
  {
   "cell_type": "code",
   "execution_count": 26,
   "metadata": {
    "collapsed": true
   },
   "outputs": [],
   "source": [
    "clip_D_s2t = [p.assign(tf.clip_by_value(p, -0.1, 0.1)) for p in D_s2t_vars]\n",
    "clip_D_t2s = [p.assign(tf.clip_by_value(p, -0.1, 0.1)) for p in D_t2s_vars]"
   ]
  },
  {
   "cell_type": "markdown",
   "metadata": {},
   "source": [
    "## Run the model"
   ]
  },
  {
   "cell_type": "code",
   "execution_count": 27,
   "metadata": {
    "collapsed": true
   },
   "outputs": [],
   "source": [
    "sess = tf.InteractiveSession()"
   ]
  },
  {
   "cell_type": "code",
   "execution_count": 28,
   "metadata": {
    "collapsed": true
   },
   "outputs": [],
   "source": [
    "sess.run(tf.global_variables_initializer())\n",
    "D_s2t_loss_list = []\n",
    "G_s2t_loss_list = []\n",
    "D_t2s_loss_list = []\n",
    "G_t2s_loss_list = []\n",
    "cyc_loss_list = []\n",
    "iter_list = []\n",
    "i = 0"
   ]
  },
  {
   "cell_type": "code",
   "execution_count": 29,
   "metadata": {},
   "outputs": [
    {
     "name": "stdout",
     "output_type": "stream",
     "text": [
      "INFO:tensorflow:Restoring parameters from model/model.ckpt\n"
     ]
    }
   ],
   "source": [
    "saver = tf.train.Saver()\n",
    "saver.restore(sess, \"model/model.ckpt\")"
   ]
  },
  {
   "cell_type": "code",
   "execution_count": 92,
   "metadata": {},
   "outputs": [
    {
     "name": "stdout",
     "output_type": "stream",
     "text": [
      "Iter: 342 / 343\n",
      "D loss s2t: -1.07\n",
      "D loss t2s: -2.239\n",
      "G loss s2t: 2.222\n",
      "G loss t2s: 5.258\n",
      "Cycle-loss: 0.2266\n",
      "\n"
     ]
    }
   ],
   "source": [
    "###!!!!! TODO : pretrain MNIST --> SVHN as an autoencoder !!!!! ###\n",
    "\n",
    "nb_iter = 100\n",
    "nb_iter_d = 10\n",
    "nb_iter_g = 1\n",
    "nb_samples = 3000\n",
    "G_s2t_loss_curr = 0.001\n",
    "D_s2t_loss_curr = 0.001\n",
    "G_t2s_loss_curr = 0.001\n",
    "D_t2s_loss_curr = 0.001\n",
    "cyc_loss_curr = 0.001\n",
    "verbose = True\n",
    "\n",
    "i_init = i\n",
    "for i in range(i, nb_iter+i):\n",
    "    for k in range(nb_iter_g):\n",
    "        sample_source = X_source[np.random.choice(len(X_source), nb_samples)]\n",
    "        sample_target = X_target[np.random.choice(len(X_target), nb_samples)]\n",
    "        \n",
    "        # Optimizing s2t\n",
    "        _, G_s2t_loss_curr = sess.run([G_s2t_solver, G_s2t_loss], feed_dict={ipt_source: sample_source, ipt_target: sample_target})\n",
    "    \n",
    "        ## Optimizing t2s\n",
    "        _, G_t2s_loss_curr = sess.run([G_t2s_solver, G_t2s_loss], feed_dict={ipt_source: sample_source, ipt_target: sample_target})\n",
    "        \n",
    "    for k in range(nb_iter_d):\n",
    "        sample_source = X_source[np.random.choice(len(X_source), nb_samples)]\n",
    "        sample_target = X_target[np.random.choice(len(X_target), nb_samples)]\n",
    "        \n",
    "        # Optimizing s2t\n",
    "        _, D_s2t_loss_curr,_ = sess.run([D_s2t_solver, D_s2t_loss, clip_D_s2t], feed_dict={ipt_source: sample_source, ipt_target: sample_target})\n",
    "    \n",
    "        ## Optimizing t2s\n",
    "        _, D_t2s_loss_curr,_ = sess.run([D_t2s_solver, D_t2s_loss, clip_D_t2s], feed_dict={ipt_source: sample_source, ipt_target: sample_target})\n",
    "\n",
    "    iter_list.append(i)\n",
    "    cyc_loss_curr, = sess.run([cyc_loss], feed_dict={ipt_source: sample_source, ipt_target: sample_target})\n",
    "    D_s2t_loss_list.append(D_s2t_loss_curr)\n",
    "    G_s2t_loss_list.append(G_s2t_loss_curr)\n",
    "    D_t2s_loss_list.append(D_t2s_loss_curr)\n",
    "    G_t2s_loss_list.append(G_t2s_loss_curr)\n",
    "    cyc_loss_list.append(cyc_loss_curr)\n",
    "    \n",
    "    if verbose:\n",
    "        clear_output(wait=True)\n",
    "        print('Iter: {} / {}'.format(i, i_init + nb_iter))\n",
    "        print('D loss s2t: {:.4}'.format(D_s2t_loss_curr))\n",
    "        print('D loss t2s: {:.4}'.format(D_t2s_loss_curr))\n",
    "        print('G loss s2t: {:.4}'.format(G_s2t_loss_curr))\n",
    "        print('G loss t2s: {:.4}'.format(G_t2s_loss_curr))\n",
    "        print('Cycle-loss: {:.4}'.format(cyc_loss_curr))\n",
    "        print()\n",
    "    \n",
    "    if i % (nb_iter//5) == 0:\n",
    "#         summary = sess.run([merged_summary], feed_dict={ipt_source: sample_source, ipt_target: sample_target})\n",
    "#         summary_writer.add_summary(summary, i)\n",
    "        saver.save(sess, \"model.ckpt\")\n",
    "        \n",
    "        \n",
    "        \n",
    "# summary_writer.flush()"
   ]
  },
  {
   "cell_type": "markdown",
   "metadata": {},
   "source": [
    "## Display the results"
   ]
  },
  {
   "cell_type": "code",
   "execution_count": 93,
   "metadata": {
    "collapsed": true
   },
   "outputs": [],
   "source": [
    "def unnormalize(x):\n",
    "    return (x + 1)/2"
   ]
  },
  {
   "cell_type": "code",
   "execution_count": 94,
   "metadata": {
    "collapsed": true
   },
   "outputs": [],
   "source": [
    "X_source_trans = unnormalize(sess.run(G_target, feed_dict={ipt_source: X_source[:50]}))\n",
    "X_target_trans = unnormalize(sess.run(G_source, feed_dict={ipt_target: X_target[:50]}))\n",
    "X_source_cyc = unnormalize(sess.run(cyc_source, feed_dict={ipt_source: X_source[:50]}))\n",
    "X_target_cyc = unnormalize(sess.run(cyc_target, feed_dict={ipt_target: X_target[:50]}))"
   ]
  },
  {
   "cell_type": "code",
   "execution_count": 89,
   "metadata": {},
   "outputs": [
    {
     "data": {
      "text/plain": [
       "(-0.5, 31.5, 31.5, -0.5)"
      ]
     },
     "execution_count": 89,
     "metadata": {},
     "output_type": "execute_result"
    },
    {
     "data": {
      "image/png": "[encoded data removed]",
      "text/plain": [
       "<matplotlib.figure.Figure at 0x7ffa0ec824a8>"
      ]
     },
     "metadata": {},
     "output_type": "display_data"
    }
   ],
   "source": [
    "plt.rcParams['figure.figsize'] = (15, 10)\n",
    "# plt.axes().set_aspect('equal', 'datalim')\n",
    "#plt.axis([-3,3,-3,3])\n",
    "\n",
    "index = 3\n",
    "plt.subplot(2,3,1)\n",
    "plt.imshow(X_svhn[index])\n",
    "plt.axis('off')\n",
    "\n",
    "plt.subplot(2,3,2)\n",
    "plt.imshow(X_source_trans[index].reshape(32,32))\n",
    "plt.axis('off')\n",
    "\n",
    "plt.subplot(2,3,3)\n",
    "plt.imshow(X_source_cyc[index].reshape(32,32))\n",
    "plt.axis('off')\n",
    "\n",
    "plt.subplot(2,3,4)\n",
    "plt.imshow(unnormalize(X_target[index].reshape(28,28)))\n",
    "plt.axis('off')\n",
    "\n",
    "plt.subplot(2,3,5)\n",
    "#plt.imshow(np.transpose(X_target_trans[index].reshape(3,32,32), (1,2,0)))\n",
    "plt.imshow(X_target_trans[index].reshape(32,32))\n",
    "plt.axis('off')\n",
    "\n",
    "plt.subplot(2,3,6)\n",
    "#plt.imshow(np.transpose(X_target_trans[index].reshape(3,32,32), (1,2,0)))\n",
    "plt.imshow(X_target_cyc[index].reshape(32,32))\n",
    "plt.axis('off')"
   ]
  },
  {
   "cell_type": "code",
   "execution_count": 90,
   "metadata": {},
   "outputs": [
    {
     "data": {
      "text/plain": [
       "<matplotlib.legend.Legend at 0x7ffacc200a58>"
      ]
     },
     "execution_count": 90,
     "metadata": {},
     "output_type": "execute_result"
    },
    {
     "data": {
      "image/png": "[encoded data removed]",
      "text/plain": [
       "<matplotlib.figure.Figure at 0x7ffa0e115940>"
      ]
     },
     "metadata": {},
     "output_type": "display_data"
    }
   ],
   "source": [
    "k = 40\n",
    "def smooth(x_list):\n",
    "    return np.array([1/(2*k) * np.sum([x_list[i+j] for j in range(-k, k)]) for i in range(k, len(x_list)-k)])\n",
    "\n",
    "plt.rcParams['figure.figsize'] = (20, 7)\n",
    "\n",
    "plt.subplot(1,2,1)\n",
    "plt.plot(iter_list[k:-k], smooth(D_s2t_loss_list), label=\"Discriminator loss − s2t\")\n",
    "plt.plot(iter_list[k:-k], smooth(D_t2s_loss_list), label=\"Discriminator loss − t2s\")\n",
    "plt.legend()\n",
    "\n",
    "plt.subplot(1,2,2)\n",
    "plt.plot(iter_list[k:-k], smooth(G_s2t_loss_list), label=\"Generator loss − s2t\")\n",
    "plt.plot(iter_list[k:-k], smooth(G_t2s_loss_list), label=\"Generator loss − t2s\")\n",
    "plt.legend()"
   ]
  },
  {
   "cell_type": "code",
   "execution_count": 91,
   "metadata": {},
   "outputs": [
    {
     "data": {
      "text/plain": [
       "[<matplotlib.lines.Line2D at 0x7ffa612421d0>]"
      ]
     },
     "execution_count": 91,
     "metadata": {},
     "output_type": "execute_result"
    },
    {
     "data": {
      "image/png": "[encoded data removed]",
      "text/plain": [
       "<matplotlib.figure.Figure at 0x7ffa0f185b38>"
      ]
     },
     "metadata": {},
     "output_type": "display_data"
    }
   ],
   "source": [
    "plt.plot(iter_list[k:-k], smooth(cyc_loss_list), label=\"Cycle loss\")"
   ]
  },
  {
   "cell_type": "markdown",
   "metadata": {},
   "source": [
    "## Debug"
   ]
  },
  {
   "cell_type": "code",
   "execution_count": null,
   "metadata": {
    "collapsed": true
   },
   "outputs": [],
   "source": [
    "#X_target_trans[10][:,:,:]"
   ]
  },
  {
   "cell_type": "markdown",
   "metadata": {},
   "source": [
    "### Gradients"
   ]
  },
  {
   "cell_type": "code",
   "execution_count": null,
   "metadata": {
    "collapsed": true
   },
   "outputs": [],
   "source": [
    "ind = 1\n",
    "print(\"Gradient with respect to\", D_s2t_vars[ind])\n",
    "gradient = sess.run(tf.gradients(D_s2t_loss, D_s2t_vars[ind]), feed_dict={ipt_source: sample_source, ipt_target: sample_target})\n",
    "print(\"Min:\", np.array(gradient).min())\n",
    "print(\"Max:\", np.array(gradient).max())\n",
    "print(\"Avg:\", np.array(gradient).mean())"
   ]
  },
  {
   "cell_type": "code",
   "execution_count": null,
   "metadata": {
    "collapsed": true
   },
   "outputs": [],
   "source": [
    "ind = 1\n",
    "print(\"Gradient with respect to\", G_s2t_vars[ind])\n",
    "gradient = sess.run(tf.gradients(G_s2t_loss, G_s2t_vars[ind]), feed_dict={ipt_source: sample_source, ipt_target: sample_target})\n",
    "print(\"Min:\", np.array(gradient).min())\n",
    "print(\"Max:\", np.array(gradient).max())\n",
    "print(\"Avg:\", np.array(gradient).mean())"
   ]
  },
  {
   "cell_type": "code",
   "execution_count": null,
   "metadata": {
    "collapsed": true
   },
   "outputs": [],
   "source": [
    "ind = 10\n",
    "print(\"Gradient with respect to\", D_t2s_vars[ind])\n",
    "gradient = sess.run(tf.gradients(D_t2s_loss, D_t2s_vars[ind]), feed_dict={ipt_source: sample_source, ipt_target: sample_target})\n",
    "print(\"Min:\", np.array(gradient).min())\n",
    "print(\"Max:\", np.array(gradient).max())\n",
    "print(\"Avg:\", np.array(gradient).mean())"
   ]
  },
  {
   "cell_type": "code",
   "execution_count": null,
   "metadata": {
    "collapsed": true
   },
   "outputs": [],
   "source": [
    "ind = 10\n",
    "print(\"Gradient with respect to\", G_t2s_vars[ind])\n",
    "gradient = sess.run(tf.gradients(G_t2s_loss, G_t2s_vars[ind]), feed_dict={ipt_source: sample_source, ipt_target: sample_target})\n",
    "print(\"Min:\", np.array(gradient).min())\n",
    "print(\"Max:\", np.array(gradient).max())\n",
    "print(\"Avg:\", np.array(gradient).mean())"
   ]
  },
  {
   "cell_type": "code",
   "execution_count": null,
   "metadata": {
    "collapsed": true
   },
   "outputs": [],
   "source": [
    "D_s2t_vars[ind]"
   ]
  },
  {
   "cell_type": "code",
   "execution_count": null,
   "metadata": {
    "collapsed": true
   },
   "outputs": [],
   "source": [
    "D_s2t_vars"
   ]
  },
  {
   "cell_type": "code",
   "execution_count": null,
   "metadata": {
    "collapsed": true
   },
   "outputs": [],
   "source": [
    "X_test = sess.run([ipt_target_transf], feed_dict={ipt_source: sample_source, ipt_target: sample_target})[0][5]"
   ]
  },
  {
   "cell_type": "code",
   "execution_count": null,
   "metadata": {
    "collapsed": true
   },
   "outputs": [],
   "source": [
    "plt.imshow(X_test[:,:,0])"
   ]
  },
  {
   "cell_type": "code",
   "execution_count": null,
   "metadata": {
    "collapsed": true
   },
   "outputs": [],
   "source": []
  }
 ],
 "metadata": {
  "kernelspec": {
   "display_name": "Python 3",
   "language": "python",
   "name": "python3"
  },
  "language_info": {
   "codemirror_mode": {
    "name": "ipython",
    "version": 3
   },
   "file_extension": ".py",
   "mimetype": "text/x-python",
   "name": "python",
   "nbconvert_exporter": "python",
   "pygments_lexer": "ipython3",
   "version": "3.5.4"
  }
 },
 "nbformat": 4,
 "nbformat_minor": 2
}
