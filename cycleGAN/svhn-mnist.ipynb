{
 "cells": [
  {
   "cell_type": "markdown",
   "metadata": {},
   "source": [
    "# CycleGAN for SVHN --> MNIST transfer\n",
    "Adaptation of this [paper](https://arxiv.org/pdf/1703.10593.pdf) for transforming the SVHN domain to the MNIST one"
   ]
  },
  {
   "cell_type": "code",
   "execution_count": 3,
   "metadata": {},
   "outputs": [],
   "source": [
    "import numpy as np\n",
    "import scipy\n",
    "import matplotlib.pyplot as plt\n",
    "%matplotlib inline\n",
    "\n",
    "import tensorflow as tf\n",
    "from tensorflow.examples.tutorials.mnist import input_data\n",
    "\n",
    "from torchvision import datasets\n",
    "from torchvision import transforms"
   ]
  },
  {
   "cell_type": "code",
   "execution_count": 4,
   "metadata": {
    "collapsed": true
   },
   "outputs": [],
   "source": [
    "colormap = np.array(plt.rcParams['axes.prop_cycle'].by_key()['color'])"
   ]
  },
  {
   "cell_type": "markdown",
   "metadata": {},
   "source": [
    "## Create the datasets"
   ]
  },
  {
   "cell_type": "markdown",
   "metadata": {},
   "source": [
    "### SVHN"
   ]
  },
  {
   "cell_type": "code",
   "execution_count": 5,
   "metadata": {},
   "outputs": [],
   "source": [
    "transform = transforms.Compose([\n",
    "                    transforms.ToTensor(),\n",
    "                    transforms.Normalize((0.5, 0.5, 0.5), (0.5, 0.5, 0.5))])"
   ]
  },
  {
   "cell_type": "code",
   "execution_count": 7,
   "metadata": {
    "collapsed": true
   },
   "outputs": [],
   "source": [
    "svhn = datasets.SVHN(root=\"/datasets/svhn\", download=False, transform=transform)"
   ]
  },
  {
   "cell_type": "code",
   "execution_count": 8,
   "metadata": {},
   "outputs": [
    {
     "data": {
      "text/plain": [
       "(73257, 3072)"
      ]
     },
     "execution_count": 8,
     "metadata": {},
     "output_type": "execute_result"
    }
   ],
   "source": [
    "X_svhn = svhn.data\n",
    "X_svhn = X_svhn.reshape(len(X_svhn), 32*32*3) / 256\n",
    "Y_svhn = svhn.labels.flatten()%10\n",
    "X_svhn.shape"
   ]
  },
  {
   "cell_type": "markdown",
   "metadata": {},
   "source": [
    "### MNIST"
   ]
  },
  {
   "cell_type": "code",
   "execution_count": 9,
   "metadata": {},
   "outputs": [
    {
     "name": "stdout",
     "output_type": "stream",
     "text": [
      "Extracting /datasets/mnist/train-images-idx3-ubyte.gz\n",
      "Extracting /datasets/mnist/train-labels-idx1-ubyte.gz\n",
      "Extracting /datasets/mnist/t10k-images-idx3-ubyte.gz\n",
      "Extracting /datasets/mnist/t10k-labels-idx1-ubyte.gz\n"
     ]
    }
   ],
   "source": [
    "mnist = input_data.read_data_sets('/datasets/mnist', one_hot=False)"
   ]
  },
  {
   "cell_type": "code",
   "execution_count": 10,
   "metadata": {},
   "outputs": [
    {
     "data": {
      "text/plain": [
       "(55000, 784)"
      ]
     },
     "execution_count": 10,
     "metadata": {},
     "output_type": "execute_result"
    }
   ],
   "source": [
    "X_mnist = mnist.train.images\n",
    "X_mnist = X_mnist.reshape(len(X_mnist), 28*28)\n",
    "Y_mnist = mnist.train.labels\n",
    "X_mnist.shape"
   ]
  },
  {
   "cell_type": "markdown",
   "metadata": {},
   "source": [
    "## Create the model"
   ]
  },
  {
   "cell_type": "markdown",
   "metadata": {},
   "source": [
    "### Placeholders"
   ]
  },
  {
   "cell_type": "code",
   "execution_count": 11,
   "metadata": {
    "collapsed": true
   },
   "outputs": [],
   "source": [
    "ipt_source = tf.placeholder(tf.float32, shape=[None, 32*32*3], name='ipt_source')\n",
    "ipt_target = tf.placeholder(tf.float32, shape=[None, 28*28], name='ipt_target')"
   ]
  },
  {
   "cell_type": "markdown",
   "metadata": {},
   "source": [
    "### Discriminator Network"
   ]
  },
  {
   "cell_type": "code",
   "execution_count": 11,
   "metadata": {
    "collapsed": true
   },
   "outputs": [],
   "source": [
    "def discriminator(x, scope): \n",
    "    initializer = tf.contrib.layers.xavier_initializer()\n",
    "    \n",
    "    with tf.variable_scope(scope):\n",
    "        W1 = tf.get_variable('W1', shape=[2,10], initializer=initializer)\n",
    "        b1 = tf.get_variable('b1', shape=[10], initializer=initializer)\n",
    "\n",
    "        W2 = tf.get_variable('W2', shape=[10, 10], initializer=initializer)\n",
    "        b2 = tf.get_variable('b2', shape=[10], initializer=initializer)\n",
    "\n",
    "        W3 = tf.get_variable('W3', shape=[10, 1], initializer=initializer)\n",
    "        b3 = tf.get_variable('b3', shape=[1], initializer=initializer)\n",
    "        \n",
    "        h1 = tf.nn.relu(tf.matmul(x, W1) + b1)\n",
    "        h2 = tf.nn.relu(tf.matmul(h1, W2) + b2)\n",
    "        logit = tf.matmul(h2, W3) + b3\n",
    "        prob = tf.nn.sigmoid(logit)\n",
    "    \n",
    "    return prob"
   ]
  },
  {
   "cell_type": "markdown",
   "metadata": {},
   "source": [
    "### Generator Network"
   ]
  },
  {
   "cell_type": "code",
   "execution_count": 12,
   "metadata": {
    "collapsed": true
   },
   "outputs": [],
   "source": [
    "def generator(x, scope):\n",
    "    with tf.variable_scope(scope, reuse=None):\n",
    "        W1 = tf.get_variable('W1', initializer=tf.eye(2, dtype=\"float32\"))\n",
    "        b1 = tf.get_variable('b1', shape=[2], initializer=tf.zeros_initializer())\n",
    "        G_output = tf.matmul(x, W1) + b1\n",
    "    \n",
    "    return G_output"
   ]
  },
  {
   "cell_type": "markdown",
   "metadata": {},
   "source": [
    "### Losses and solver"
   ]
  },
  {
   "cell_type": "markdown",
   "metadata": {},
   "source": [
    "#### Useful functions"
   ]
  },
  {
   "cell_type": "code",
   "execution_count": 13,
   "metadata": {
    "collapsed": true
   },
   "outputs": [],
   "source": [
    "def log(tensor):\n",
    "    return tf.log(tf.maximum(tensor, 1e-9))"
   ]
  },
  {
   "cell_type": "markdown",
   "metadata": {},
   "source": [
    "#### Define the graph"
   ]
  },
  {
   "cell_type": "code",
   "execution_count": 14,
   "metadata": {
    "collapsed": true
   },
   "outputs": [],
   "source": [
    "with tf.variable_scope(\"s2t\") as scope:\n",
    "    D_target = discriminator(ipt_target, \"discriminator\")\n",
    "    G_source = generator(ipt_source, \"generator\")\n",
    "    scope.reuse_variables()\n",
    "    DG_source = discriminator(G_source, \"discriminator\")"
   ]
  },
  {
   "cell_type": "code",
   "execution_count": 15,
   "metadata": {
    "collapsed": true
   },
   "outputs": [],
   "source": [
    "with tf.variable_scope(\"t2s\") as scope:\n",
    "    D_source = discriminator(ipt_source, \"discriminator\")\n",
    "    G_target = generator(ipt_target, \"generator\")\n",
    "    scope.reuse_variables()\n",
    "    DG_target = discriminator(G_target, \"discriminator\")"
   ]
  },
  {
   "cell_type": "code",
   "execution_count": 16,
   "metadata": {
    "collapsed": true
   },
   "outputs": [],
   "source": [
    "with tf.variable_scope(\"s2t\", reuse=True) as scope:\n",
    "    cyc_target = generator(G_target, \"generator\")"
   ]
  },
  {
   "cell_type": "code",
   "execution_count": 17,
   "metadata": {
    "collapsed": true
   },
   "outputs": [],
   "source": [
    "with tf.variable_scope(\"t2s\", reuse=True) as scope:\n",
    "    cyc_source = generator(G_source, \"generator\")"
   ]
  },
  {
   "cell_type": "markdown",
   "metadata": {},
   "source": [
    "#### Losses"
   ]
  },
  {
   "cell_type": "code",
   "execution_count": 87,
   "metadata": {
    "collapsed": true
   },
   "outputs": [],
   "source": [
    "lambda_cyc = 10"
   ]
  },
  {
   "cell_type": "code",
   "execution_count": 88,
   "metadata": {},
   "outputs": [
    {
     "data": {
      "text/plain": [
       "<tf.Tensor 'cyc_loss_2:0' shape=() dtype=string>"
      ]
     },
     "execution_count": 88,
     "metadata": {},
     "output_type": "execute_result"
    }
   ],
   "source": [
    "cyc_loss = tf.losses.mean_squared_error(ipt_source, cyc_source) + tf.losses.mean_squared_error(ipt_target, cyc_target)\n",
    "tf.summary.scalar(\"cyc_loss\", cyc_loss)"
   ]
  },
  {
   "cell_type": "code",
   "execution_count": 89,
   "metadata": {},
   "outputs": [
    {
     "data": {
      "text/plain": [
       "<tf.Tensor 'G_s2t_loss_2:0' shape=() dtype=string>"
      ]
     },
     "execution_count": 89,
     "metadata": {},
     "output_type": "execute_result"
    }
   ],
   "source": [
    "D_s2t_loss = -tf.reduce_mean(log(D_target) + log(1. - DG_source))\n",
    "G_s2t_loss = -tf.reduce_mean(log(DG_source)) + lambda_cyc*cyc_loss\n",
    "tf.summary.scalar(\"D_s2t_loss\", D_s2t_loss)\n",
    "tf.summary.scalar(\"G_s2t_loss\", G_s2t_loss)"
   ]
  },
  {
   "cell_type": "code",
   "execution_count": 90,
   "metadata": {},
   "outputs": [
    {
     "data": {
      "text/plain": [
       "<tf.Tensor 'G_t2s_loss_2:0' shape=() dtype=string>"
      ]
     },
     "execution_count": 90,
     "metadata": {},
     "output_type": "execute_result"
    }
   ],
   "source": [
    "D_t2s_loss = -tf.reduce_mean(log(D_source) + log(1. - DG_target))\n",
    "G_t2s_loss = -tf.reduce_mean(log(DG_target)) + lambda_cyc*cyc_loss\n",
    "tf.summary.scalar(\"D_t2s_loss\", D_t2s_loss)\n",
    "tf.summary.scalar(\"G_t2s_loss\", D_t2s_loss)"
   ]
  },
  {
   "cell_type": "markdown",
   "metadata": {},
   "source": [
    "#### Solvers"
   ]
  },
  {
   "cell_type": "code",
   "execution_count": 91,
   "metadata": {
    "collapsed": true
   },
   "outputs": [],
   "source": [
    "model_vars = tf.trainable_variables()\n",
    "\n",
    "D_s2t_vars = tf.get_collection(tf.GraphKeys.TRAINABLE_VARIABLES, scope='s2t/discriminator')\n",
    "G_s2t_vars = tf.get_collection(tf.GraphKeys.TRAINABLE_VARIABLES, scope='s2t/generator')\n",
    "D_t2s_vars = tf.get_collection(tf.GraphKeys.TRAINABLE_VARIABLES, scope='t2s/discriminator')\n",
    "G_t2s_vars = tf.get_collection(tf.GraphKeys.TRAINABLE_VARIABLES, scope='t2s/generator')"
   ]
  },
  {
   "cell_type": "code",
   "execution_count": 92,
   "metadata": {
    "collapsed": true
   },
   "outputs": [],
   "source": [
    "D_s2t_solver = tf.train.AdamOptimizer().minimize(D_s2t_loss, var_list=D_s2t_vars)\n",
    "G_s2t_solver = tf.train.AdamOptimizer().minimize(G_s2t_loss, var_list=G_s2t_vars)\n",
    "D_t2s_solver = tf.train.AdamOptimizer().minimize(D_t2s_loss, var_list=D_t2s_vars)\n",
    "G_t2s_solver = tf.train.AdamOptimizer().minimize(G_t2s_loss, var_list=G_t2s_vars)"
   ]
  },
  {
   "cell_type": "markdown",
   "metadata": {},
   "source": [
    "## Run the model"
   ]
  },
  {
   "cell_type": "code",
   "execution_count": 112,
   "metadata": {
    "collapsed": true
   },
   "outputs": [],
   "source": [
    "sess = tf.InteractiveSession()"
   ]
  },
  {
   "cell_type": "code",
   "execution_count": 113,
   "metadata": {
    "collapsed": true
   },
   "outputs": [],
   "source": [
    "import shutil\n",
    "shutil.rmtree('log/')"
   ]
  },
  {
   "cell_type": "code",
   "execution_count": 114,
   "metadata": {
    "collapsed": true
   },
   "outputs": [],
   "source": [
    "summary_writer = tf.summary.FileWriter('log/', sess.graph)"
   ]
  },
  {
   "cell_type": "code",
   "execution_count": 115,
   "metadata": {
    "collapsed": true
   },
   "outputs": [],
   "source": [
    "merged_summary = tf.summary.merge_all()"
   ]
  },
  {
   "cell_type": "code",
   "execution_count": 116,
   "metadata": {
    "collapsed": true
   },
   "outputs": [],
   "source": [
    "sess.run(tf.global_variables_initializer())\n",
    "D_s2t_loss_list = []\n",
    "G_s2t_loss_list = []\n",
    "D_t2s_loss_list = []\n",
    "G_t2s_loss_list = []\n",
    "i = 0"
   ]
  },
  {
   "cell_type": "code",
   "execution_count": 173,
   "metadata": {},
   "outputs": [
    {
     "name": "stdout",
     "output_type": "stream",
     "text": [
      "Iter: 180\n",
      "D loss s2t: 1.086\n",
      "G loss s2t: 1.801\n",
      "D loss t2s: 1.401\n",
      "G loss t2s: 1.515\n",
      "Cycle-loss: 0.09214\n",
      "\n",
      "Iter: 200\n",
      "D loss s2t: 1.341\n",
      "G loss s2t: 1.485\n",
      "D loss t2s: 1.363\n",
      "G loss t2s: 1.398\n",
      "Cycle-loss: 0.05619\n",
      "\n",
      "Iter: 220\n",
      "D loss s2t: 1.165\n",
      "G loss s2t: 1.283\n",
      "D loss t2s: 1.318\n",
      "G loss t2s: 1.09\n",
      "Cycle-loss: 0.03609\n",
      "\n",
      "Iter: 240\n",
      "D loss s2t: 1.339\n",
      "G loss s2t: 1.079\n",
      "D loss t2s: 1.374\n",
      "G loss t2s: 0.9795\n",
      "Cycle-loss: 0.02495\n",
      "\n",
      "Iter: 260\n",
      "D loss s2t: 1.261\n",
      "G loss s2t: 0.8637\n",
      "D loss t2s: 1.303\n",
      "G loss t2s: 0.8346\n",
      "Cycle-loss: 0.01156\n",
      "\n"
     ]
    }
   ],
   "source": [
    "nb_iter = 100\n",
    "nb_iter_d = 10\n",
    "nb_iter_g = 2\n",
    "nb_samples = 40\n",
    "G_s2t_loss_curr = 0.001\n",
    "D_s2t_loss_curr = 0.001\n",
    "G_t2s_loss_curr = 0.001\n",
    "D_t2s_loss_curr = 0.001\n",
    "\n",
    "for i in range(i, nb_iter+i):\n",
    "    for k in range(nb_iter_g):\n",
    "        sample_source = X_source[np.random.choice(len(X_source), nb_samples)]\n",
    "        sample_target = X_target[np.random.choice(len(X_target), nb_samples)]\n",
    "        \n",
    "        ## Optimizing s2t\n",
    "        _, G_s2t_loss_curr = sess.run([G_s2t_solver, G_s2t_loss], feed_dict={ipt_source: sample_source, ipt_target: sample_target})\n",
    "        _, G_s2t_loss_curr = sess.run([G_s2t_solver, G_s2t_loss], feed_dict={ipt_source: sample_source, ipt_target: sample_target})\n",
    "    \n",
    "        ## Optimizing t2s\n",
    "        _, G_t2s_loss_curr = sess.run([G_t2s_solver, G_t2s_loss], feed_dict={ipt_source: sample_source, ipt_target: sample_target})\n",
    "        _, G_t2s_loss_curr = sess.run([G_t2s_solver, G_t2s_loss], feed_dict={ipt_source: sample_source, ipt_target: sample_target})\n",
    "        \n",
    "    for k in range(nb_iter_d):\n",
    "        sample_source = X_source[np.random.choice(len(X_source), nb_samples)]\n",
    "        sample_target = X_target[np.random.choice(len(X_target), nb_samples)]\n",
    "        \n",
    "        ## Optimizing s2t\n",
    "        _, D_s2t_loss_curr = sess.run([D_s2t_solver, D_s2t_loss], feed_dict={ipt_source: sample_source, ipt_target: sample_target})\n",
    "        _, D_s2t_loss_curr = sess.run([D_s2t_solver, D_s2t_loss], feed_dict={ipt_source: sample_source, ipt_target: sample_target})\n",
    "    \n",
    "        ## Optimizing t2s\n",
    "        _, D_t2s_loss_curr = sess.run([D_t2s_solver, D_t2s_loss], feed_dict={ipt_source: sample_source, ipt_target: sample_target})\n",
    "        _, D_t2s_loss_curr = sess.run([D_t2s_solver, D_t2s_loss], feed_dict={ipt_source: sample_source, ipt_target: sample_target})\n",
    "    \n",
    "    if i % (nb_iter//5) == 0:\n",
    "        cyc_loss_curr, summary = sess.run([cyc_loss, merged_summary], feed_dict={ipt_source: sample_source, ipt_target: sample_target})\n",
    "        D_s2t_loss_list.append(D_s2t_loss_curr)\n",
    "        G_s2t_loss_list.append(G_s2t_loss_curr)\n",
    "        D_t2s_loss_list.append(D_t2s_loss_curr)\n",
    "        G_t2s_loss_list.append(G_t2s_loss_curr)\n",
    "        \n",
    "        summary_writer.add_summary(summary, i)\n",
    "        \n",
    "        print('Iter: {}'.format(i))\n",
    "        print('D loss s2t: {:.4}'.format(D_s2t_loss_curr))\n",
    "        print('G loss s2t: {:.4}'.format(G_s2t_loss_curr))\n",
    "        print('D loss t2s: {:.4}'.format(D_t2s_loss_curr))\n",
    "        print('G loss t2s: {:.4}'.format(G_t2s_loss_curr))\n",
    "        print('Cycle-loss: {:.4}'.format(cyc_loss_curr))\n",
    "        print()\n",
    "        \n",
    "summary_writer.flush()"
   ]
  },
  {
   "cell_type": "markdown",
   "metadata": {},
   "source": [
    "## Display the results"
   ]
  },
  {
   "cell_type": "code",
   "execution_count": 174,
   "metadata": {
    "collapsed": true
   },
   "outputs": [],
   "source": [
    "X_source_trans = sess.run(G_source, feed_dict={ipt_source: X_source})\n",
    "X_target_trans = sess.run(G_target, feed_dict={ipt_target: X_target})\n",
    "X_source_cyc = sess.run(cyc_source, feed_dict={ipt_source: X_source})"
   ]
  },
  {
   "cell_type": "code",
   "execution_count": 177,
   "metadata": {},
   "outputs": [
    {
     "data": {
      "image/png": "[encoded data removed]",
      "text/plain": [
       "<matplotlib.figure.Figure at 0x7fbb08398710>"
      ]
     },
     "metadata": {},
     "output_type": "display_data"
    }
   ],
   "source": [
    "#plt.rcParams['figure.figsize'] = (10, 15)\n",
    "plt.rcParams['figure.figsize'] = (10, 7)\n",
    "plt.axes().set_aspect('equal', 'datalim')\n",
    "plt.axis([-3,3,-3,3])\n",
    "\n",
    "x_min, x_max = -4, 4\n",
    "y_min, y_max = -4, 4\n",
    "h = .1\n",
    "xx, yy = np.meshgrid(np.arange(x_min, x_max, h),\n",
    "                     np.arange(y_min, y_max, h))\n",
    "\n",
    "levels = np.linspace(0,1,20)\n",
    "cm = plt.cm.coolwarm\n",
    "Z = sess.run(D_target, feed_dict={ipt_target: np.c_[xx.ravel(), yy.ravel()]}).reshape(xx.shape)\n",
    "\n",
    "#f, (a0, a1) = plt.subplots(2,1, gridspec_kw = {'height_ratios':[10, 10]})\n",
    "\n",
    "cont = plt.contourf(xx, yy, Z, levels, cmap=cm, alpha=.8)\n",
    "\n",
    "plt.scatter(X_source[:,0], X_source[:,1], label=\"source initial\")\n",
    "plt.scatter(X_target[:,0], X_target[:,1], label=\"target initial\")\n",
    "plt.scatter(X_source_trans[:,0], X_source_trans[:,1], label=\"source transformed\", color=colormap[6])\n",
    "plt.scatter(X_target_trans[:,0], X_target_trans[:,1], label=\"target transformed\", color=colormap[9])\n",
    "#plt.scatter(X_source_cyc[:,0], X_source_cyc[:,1], label=\"Source cycle\", color=colormap[8])\n",
    "\n",
    "plt.legend()\n",
    "#cax = f.add_axes([0.91,0.53,0.05,0.35])\n",
    "# plt.colorbar(cont, cax=cax, orientation=\"vertical\")\n",
    "plt.colorbar(cont, orientation=\"vertical\")\n",
    "plt.grid()\n",
    "# plt.savefig('screenshots/adda-step-77')\n",
    "#a1.plot(D_loss_list, label=\"Discriminator loss\")\n",
    "#a1.plot(T_loss_list, label=\"Generator loss\")\n",
    "#a1.legend()"
   ]
  }
 ],
 "metadata": {
  "kernelspec": {
   "display_name": "Python 3",
   "language": "python",
   "name": "python3"
  },
  "language_info": {
   "codemirror_mode": {
    "name": "ipython",
    "version": 3
   },
   "file_extension": ".py",
   "mimetype": "text/x-python",
   "name": "python",
   "nbconvert_exporter": "python",
   "pygments_lexer": "ipython3",
   "version": "3.5.4"
  }
 },
 "nbformat": 4,
 "nbformat_minor": 2
}
