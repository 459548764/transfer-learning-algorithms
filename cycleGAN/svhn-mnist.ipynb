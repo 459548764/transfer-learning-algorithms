{
 "cells": [
  {
   "cell_type": "markdown",
   "metadata": {},
   "source": [
    "# CycleGAN for SVHN --> MNIST transfer\n",
    "Adaptation of this [paper](https://arxiv.org/pdf/1703.10593.pdf) for transforming the SVHN domain to the MNIST one\n",
    "Other papers used:\n",
    "\n",
    "[1] **Instance Noise** : https://arxiv.org/pdf/1610.04490.pdf\n",
    "\n",
    "[2] **Discriminator Regularizer** : https://arxiv.org/pdf/1705.09367.pdf\n",
    "\n",
    "[3] **Gradient penalty** (DRAGAN) : https://arxiv.org/pdf/1705.07215.pdf\n",
    "\n",
    "[4] **Instance normalization** : https://arxiv.org/abs/1607.08022"
   ]
  },
  {
   "cell_type": "code",
   "execution_count": 1,
   "metadata": {},
   "outputs": [
    {
     "name": "stderr",
     "output_type": "stream",
     "text": [
      "/home/arthur/miniconda3/envs/tl-gpu/lib/python3.5/site-packages/h5py/__init__.py:34: FutureWarning: Conversion of the second argument of issubdtype from `float` to `np.floating` is deprecated. In future, it will be treated as `np.float64 == np.dtype(float).type`.\n",
      "  from ._conv import register_converters as _register_converters\n"
     ]
    }
   ],
   "source": [
    "import numpy as np\n",
    "import scipy\n",
    "import matplotlib.pyplot as plt\n",
    "%matplotlib inline\n",
    "from skimage import color, transform\n",
    "\n",
    "import tensorflow as tf\n",
    "from tensorflow.examples.tutorials.mnist import input_data\n",
    "from tensorflow.contrib.gan.python.losses.python import losses_impl\n",
    "\n",
    "from torchvision import datasets\n",
    "from torchvision import transforms\n",
    "\n",
    "from IPython.display import clear_output"
   ]
  },
  {
   "cell_type": "code",
   "execution_count": 2,
   "metadata": {
    "collapsed": true
   },
   "outputs": [],
   "source": [
    "colormap = np.array(plt.rcParams['axes.prop_cycle'].by_key()['color'])"
   ]
  },
  {
   "cell_type": "markdown",
   "metadata": {},
   "source": [
    "## Create the datasets"
   ]
  },
  {
   "cell_type": "code",
   "execution_count": 3,
   "metadata": {
    "collapsed": true
   },
   "outputs": [],
   "source": [
    "def normalize(x, max_value):\n",
    "    \"\"\" Normalize the input between -1 and 1 \"\"\"\n",
    "    return (x / float(max_value)) * 2 - 1"
   ]
  },
  {
   "cell_type": "markdown",
   "metadata": {},
   "source": [
    "### SVHN"
   ]
  },
  {
   "cell_type": "code",
   "execution_count": 4,
   "metadata": {
    "collapsed": true
   },
   "outputs": [],
   "source": [
    "svhn = datasets.SVHN(root=\"/home/arthur/datasets/svhn\", download=False)"
   ]
  },
  {
   "cell_type": "code",
   "execution_count": 5,
   "metadata": {},
   "outputs": [
    {
     "data": {
      "text/plain": [
       "(73257, 32, 32, 1)"
      ]
     },
     "execution_count": 5,
     "metadata": {},
     "output_type": "execute_result"
    }
   ],
   "source": [
    "X_svhn = svhn.data\n",
    "X_svhn = np.transpose(X_svhn, (0,2,3,1))\n",
    "X_svhn = np.array([color.rgb2gray(im) for im in X_svhn])\n",
    "X_svhn = normalize(X_svhn, 256)\n",
    "X_svhn = X_svhn.reshape(len(X_svhn), 32, 32, 1)\n",
    "Y_svhn = svhn.labels.flatten()%10\n",
    "X_svhn.shape"
   ]
  },
  {
   "cell_type": "markdown",
   "metadata": {},
   "source": [
    "### MNIST"
   ]
  },
  {
   "cell_type": "code",
   "execution_count": 6,
   "metadata": {},
   "outputs": [
    {
     "name": "stdout",
     "output_type": "stream",
     "text": [
      "Extracting /home/arthur/datasets/mnist/train-images-idx3-ubyte.gz\n",
      "Extracting /home/arthur/datasets/mnist/train-labels-idx1-ubyte.gz\n",
      "Extracting /home/arthur/datasets/mnist/t10k-images-idx3-ubyte.gz\n",
      "Extracting /home/arthur/datasets/mnist/t10k-labels-idx1-ubyte.gz\n"
     ]
    }
   ],
   "source": [
    "mnist = input_data.read_data_sets('/home/arthur/datasets/mnist', one_hot=False)"
   ]
  },
  {
   "cell_type": "code",
   "execution_count": 7,
   "metadata": {},
   "outputs": [
    {
     "name": "stderr",
     "output_type": "stream",
     "text": [
      "/home/arthur/miniconda3/envs/tl-gpu/lib/python3.5/site-packages/skimage/transform/_warps.py:84: UserWarning: The default mode, 'constant', will be changed to 'reflect' in skimage 0.15.\n",
      "  warn(\"The default mode, 'constant', will be changed to 'reflect' in \"\n"
     ]
    },
    {
     "data": {
      "text/plain": [
       "(55000, 32, 32, 1)"
      ]
     },
     "execution_count": 7,
     "metadata": {},
     "output_type": "execute_result"
    }
   ],
   "source": [
    "X_mnist = mnist.train.images\n",
    "X_mnist = X_mnist.reshape(len(X_mnist), 28, 28)\n",
    "X_mnist = np.array([transform.resize(im, [32,32]) for im in X_mnist])\n",
    "X_mnist = normalize(X_mnist, 1)\n",
    "X_mnist = X_mnist.reshape(len(X_mnist), 32, 32, 1)\n",
    "Y_mnist = mnist.train.labels\n",
    "X_mnist.shape"
   ]
  },
  {
   "cell_type": "code",
   "execution_count": 8,
   "metadata": {
    "collapsed": true
   },
   "outputs": [],
   "source": [
    "X_source = X_svhn\n",
    "X_target = X_mnist"
   ]
  },
  {
   "cell_type": "markdown",
   "metadata": {},
   "source": [
    "## Create the model"
   ]
  },
  {
   "cell_type": "markdown",
   "metadata": {},
   "source": [
    "### Useful functions"
   ]
  },
  {
   "cell_type": "code",
   "execution_count": 9,
   "metadata": {
    "collapsed": true
   },
   "outputs": [],
   "source": [
    "def leaky_relu(x):\n",
    "    alpha = 0.05\n",
    "    return tf.maximum(x, alpha * x)"
   ]
  },
  {
   "cell_type": "code",
   "execution_count": 10,
   "metadata": {
    "collapsed": true
   },
   "outputs": [],
   "source": [
    "def instance_normalization(x, name):\n",
    "    with tf.variable_scope(\"instance_norm\"):\n",
    "        with tf.variable_scope(name):\n",
    "            epsilon = 1e-5\n",
    "            mean, var = tf.nn.moments(x, [1, 2], keep_dims=True)\n",
    "            scale = tf.get_variable('scale',[x.get_shape()[-1]], \n",
    "                initializer=tf.truncated_normal_initializer(mean=1.0, stddev=0.02))\n",
    "            offset = tf.get_variable('offset',[x.get_shape()[-1]],initializer=tf.constant_initializer(0.0))\n",
    "            out = scale*tf.div(x-mean, tf.sqrt(var+epsilon)) + offset\n",
    "\n",
    "            return out"
   ]
  },
  {
   "cell_type": "code",
   "execution_count": 11,
   "metadata": {
    "collapsed": true
   },
   "outputs": [],
   "source": [
    "def gaussian_noise_layer(input_layer, std):\n",
    "    noise = tf.random_normal(shape=tf.shape(input_layer), mean=0.0, stddev=std, dtype=tf.float32) \n",
    "    return input_layer + noise"
   ]
  },
  {
   "cell_type": "markdown",
   "metadata": {},
   "source": [
    "### Placeholders"
   ]
  },
  {
   "cell_type": "code",
   "execution_count": 12,
   "metadata": {
    "collapsed": true
   },
   "outputs": [],
   "source": [
    "ipt_source = tf.placeholder(tf.float32, shape=[None, 32, 32, 1], name='ipt_source')\n",
    "ipt_target = tf.placeholder(tf.float32, shape=[None, 32, 32, 1], name='ipt_target')\n",
    "latent_space = tf.placeholder(tf.float32, shape=[None, 4, 4, 4], name='latent_space')\n",
    "gamma_plh = tf.placeholder(tf.float32, shape=(), name='gamma')"
   ]
  },
  {
   "cell_type": "markdown",
   "metadata": {},
   "source": [
    "### Discriminator Network"
   ]
  },
  {
   "cell_type": "code",
   "execution_count": 13,
   "metadata": {
    "collapsed": true
   },
   "outputs": [],
   "source": [
    "def discriminator(x): \n",
    "    initializer = tf.contrib.layers.xavier_initializer()\n",
    "\n",
    "    with tf.variable_scope(\"discriminator\", reuse=tf.AUTO_REUSE):\n",
    "        # Layer 1: 32x32xn --> 16x16x32 (n=1 or 3)\n",
    "#         x_noisy = gaussian_noise_layer(x, 0)\n",
    "        conv1 = tf.layers.conv2d(x, 64, [5,5], strides=2, padding='SAME', kernel_initializer=initializer, activation=leaky_relu)\n",
    "        conv1 = instance_normalization(conv1, \"conv1\")\n",
    "        \n",
    "        # Layer 2: 16x16x32 --> 8x8x16        \n",
    "        conv2 = tf.layers.conv2d(conv1, 32, [5,5], strides=2, padding='SAME', kernel_initializer=initializer, activation=leaky_relu)\n",
    "        conv2 = instance_normalization(conv2, \"conv2\")\n",
    "        \n",
    "        # Layer 3: 8x8x16 --> 4x4x16     \n",
    "        conv3 = tf.layers.conv2d(conv2, 16, [5,5], strides=2, padding='SAME', kernel_initializer=initializer, activation=leaky_relu)\n",
    "        conv3 = instance_normalization(conv3, \"conv3\")\n",
    "\n",
    "        # Layer 3: 4x4x32 --> 1\n",
    "        fc1 = tf.contrib.layers.flatten(conv3)\n",
    "        fc1_logits = tf.layers.dense(inputs=fc1, units=1, activation=None, kernel_initializer=initializer)\n",
    "        fc1_sigmoid = tf.sigmoid(fc1_logits)\n",
    "        \n",
    "    return fc1_sigmoid, fc1_logits"
   ]
  },
  {
   "cell_type": "markdown",
   "metadata": {},
   "source": [
    "### Generator Network"
   ]
  },
  {
   "cell_type": "code",
   "execution_count": 14,
   "metadata": {
    "collapsed": true
   },
   "outputs": [],
   "source": [
    "def generator(x, z):\n",
    "    initializer = tf.contrib.layers.xavier_initializer()\n",
    "    \n",
    "    with tf.variable_scope(\"generator\", reuse=None):\n",
    "        # Layer 1: 32x32x1 --> 16x16x64\n",
    "        conv1 = tf.layers.conv2d(x, 64, [5, 5], strides=2, padding='SAME', kernel_initializer=initializer, activation=leaky_relu)\n",
    "        conv1 = instance_normalization(conv1, \"conv1\")\n",
    "\n",
    "        # Layer 2: 16x16x64 --> 8x8x32\n",
    "        conv2 = tf.layers.conv2d(conv1, 32, [5, 5], strides=2, padding='SAME', kernel_initializer=initializer, activation=leaky_relu)\n",
    "        conv2 = instance_normalization(conv2, \"conv2\")\n",
    "        \n",
    "        # Layer 3: 8x8x32 --> 4x4x16\n",
    "        conv3 = tf.layers.conv2d(conv2, 16, [5, 5], strides=2, padding='SAME', kernel_initializer=initializer, activation=leaky_relu)\n",
    "        conv3 = instance_normalization(conv3, \"conv3\")\n",
    "        \n",
    "        # Layer 3 bis (add latent space): 4x4x16 --> 4x4x20\n",
    "        embed = tf.concat([conv3, z], 3)\n",
    "        \n",
    "        # Layer 4: 4x4x16 --> 8x8x32\n",
    "        deconv1 = tf.layers.conv2d_transpose(embed, 32, [5, 5], strides=2, padding='SAME', kernel_initializer=initializer, activation=leaky_relu)\n",
    "        deconv1 = instance_normalization(deconv1, \"deconv1\")\n",
    "        \n",
    "        # Layer 5: 8x8x32 --> 16x16x64\n",
    "        deconv2 = tf.layers.conv2d_transpose(deconv1, 64, [5, 5], strides=2, padding='SAME', kernel_initializer=initializer, activation=leaky_relu)\n",
    "        deconv2 = instance_normalization(deconv2, \"deconv2\")\n",
    "        \n",
    "        # Layer 6: 16x16x64 --> 32x32x1\n",
    "        deconv3 = tf.layers.conv2d_transpose(deconv2, 1, [5, 5], strides=2, padding='SAME', kernel_initializer=initializer, activation=tf.nn.tanh)\n",
    "\n",
    "    return deconv3, embed"
   ]
  },
  {
   "cell_type": "markdown",
   "metadata": {},
   "source": [
    "### Define the graph"
   ]
  },
  {
   "cell_type": "code",
   "execution_count": 15,
   "metadata": {
    "collapsed": true
   },
   "outputs": [],
   "source": [
    "def log(tensor):\n",
    "    return tf.log(tf.maximum(tensor, 1e-9))"
   ]
  },
  {
   "cell_type": "code",
   "execution_count": 16,
   "metadata": {
    "collapsed": true
   },
   "outputs": [],
   "source": [
    "with tf.variable_scope(\"s2t\") as scope:\n",
    "    D_target, D_target_logits = discriminator(ipt_target)\n",
    "    G_target, E_target = generator(ipt_source, latent_space)\n",
    "    scope.reuse_variables()\n",
    "    DG_target, DG_target_logits = discriminator(G_target)"
   ]
  },
  {
   "cell_type": "code",
   "execution_count": 17,
   "metadata": {
    "collapsed": true
   },
   "outputs": [],
   "source": [
    "with tf.variable_scope(\"t2s\") as scope:\n",
    "    D_source, D_source_logits = discriminator(ipt_source)\n",
    "    G_source, E_source = generator(ipt_target, latent_space)\n",
    "    scope.reuse_variables()\n",
    "    DG_source, DG_source_logits = discriminator(G_source)"
   ]
  },
  {
   "cell_type": "code",
   "execution_count": 18,
   "metadata": {
    "collapsed": true
   },
   "outputs": [],
   "source": [
    "with tf.variable_scope(\"s2t\", reuse=True) as scope:\n",
    "    cyc_target, cyc_emb_target = generator(G_source, latent_space) # take the embedding"
   ]
  },
  {
   "cell_type": "code",
   "execution_count": 19,
   "metadata": {
    "collapsed": true
   },
   "outputs": [],
   "source": [
    "with tf.variable_scope(\"t2s\", reuse=True) as scope:\n",
    "    cyc_source, cyc_emb_source = generator(G_target, latent_space) # take the embedding"
   ]
  },
  {
   "cell_type": "markdown",
   "metadata": {},
   "source": [
    "### Losses"
   ]
  },
  {
   "cell_type": "code",
   "execution_count": 20,
   "metadata": {
    "collapsed": true
   },
   "outputs": [],
   "source": [
    "batch_size = 64"
   ]
  },
  {
   "cell_type": "markdown",
   "metadata": {},
   "source": [
    "#### Cycle Loss"
   ]
  },
  {
   "cell_type": "code",
   "execution_count": 21,
   "metadata": {
    "collapsed": true
   },
   "outputs": [],
   "source": [
    "lambda_cyc = 5"
   ]
  },
  {
   "cell_type": "code",
   "execution_count": 22,
   "metadata": {},
   "outputs": [
    {
     "data": {
      "text/plain": [
       "<tf.Tensor 'cyc_loss:0' shape=() dtype=string>"
      ]
     },
     "execution_count": 22,
     "metadata": {},
     "output_type": "execute_result"
    }
   ],
   "source": [
    "cyc_loss = tf.losses.mean_squared_error(ipt_source, cyc_source) + tf.losses.mean_squared_error(ipt_target, cyc_target)\n",
    "tf.summary.scalar(\"cyc_loss\", cyc_loss)"
   ]
  },
  {
   "cell_type": "markdown",
   "metadata": {},
   "source": [
    "#### Gradient penalty"
   ]
  },
  {
   "cell_type": "code",
   "execution_count": 23,
   "metadata": {
    "collapsed": true
   },
   "outputs": [],
   "source": [
    "lambda_pen = 0"
   ]
  },
  {
   "cell_type": "code",
   "execution_count": 24,
   "metadata": {
    "collapsed": true
   },
   "outputs": [],
   "source": [
    "def gradient_penalty(X, scope):\n",
    "    with tf.variable_scope(scope) as s:\n",
    "        alpha = tf.random_uniform([1], minval=0., maxval=1.)\n",
    "        X_p = X + tf.random_uniform([batch_size, 32, 32, 1])\n",
    "        differences = X_p - X\n",
    "        interpolates = X + (alpha*differences)\n",
    "        gradients = tf.gradients(discriminator(interpolates)[1], [interpolates])[0]\n",
    "        slopes = tf.sqrt(tf.reduce_sum(tf.square(gradients), reduction_indices=[1]))\n",
    "        grad_pen = tf.reduce_mean((slopes-1.)**2)\n",
    "    \n",
    "    return grad_pen"
   ]
  },
  {
   "cell_type": "markdown",
   "metadata": {},
   "source": [
    "#### Discriminator regularizer"
   ]
  },
  {
   "cell_type": "code",
   "execution_count": 25,
   "metadata": {
    "collapsed": true
   },
   "outputs": [],
   "source": [
    "def discriminator_regularizer(D1_logits, D1_arg, D2_logits, D2_arg):\n",
    "    D1 = tf.nn.sigmoid(D1_logits)\n",
    "    D2 = tf.nn.sigmoid(D2_logits)\n",
    "    grad_D1_logits = tf.gradients(D1_logits, D1_arg)[0]\n",
    "    grad_D2_logits = tf.gradients(D2_logits, D2_arg)[0]\n",
    "    grad_D1_logits_norm = tf.norm(tf.reshape(grad_D1_logits, [batch_size,-1]), axis=1, keep_dims=True)\n",
    "    grad_D2_logits_norm = tf.norm(tf.reshape(grad_D2_logits, [batch_size,-1]), axis=1, keep_dims=True)\n",
    "\n",
    "    reg_D1 = tf.multiply(tf.square(1.0-D1), tf.square(grad_D1_logits_norm))\n",
    "    reg_D2 = tf.multiply(tf.square(D2), tf.square(grad_D2_logits_norm))\n",
    "    disc_regularizer = tf.reduce_mean(reg_D1 + reg_D2)\n",
    "    return disc_regularizer"
   ]
  },
  {
   "cell_type": "markdown",
   "metadata": {},
   "source": [
    "#### GAN losses"
   ]
  },
  {
   "cell_type": "code",
   "execution_count": 26,
   "metadata": {
    "collapsed": true
   },
   "outputs": [],
   "source": [
    "def lsgan_disc_loss(D_real, D_gen):\n",
    "    return 1/2 * tf.reduce_mean((D_real - 1)**2) + 1/2 * tf.reduce_mean(D_gen**2)\n",
    "\n",
    "def lsgan_gen_loss(D_gen):\n",
    "    return 1/2 * tf.reduce_mean((D_gen - 1)**2)"
   ]
  },
  {
   "cell_type": "code",
   "execution_count": 27,
   "metadata": {
    "collapsed": true
   },
   "outputs": [],
   "source": [
    "def wasserstein_disc_loss(D_real, D_gen):\n",
    "    \"\"\" Warning : take logits as input\"\"\"\n",
    "    return tf.reduce_mean(D_gen) - tf.reduce_mean(D_real)\n",
    "\n",
    "def wasserstein_gen_loss(D_gen):\n",
    "    \"\"\" Warning : take logits as input\"\"\"\n",
    "    return -tf.reduce_mean(D_gen)"
   ]
  },
  {
   "cell_type": "code",
   "execution_count": 28,
   "metadata": {
    "collapsed": true
   },
   "outputs": [],
   "source": [
    "def original_disc_loss(D_real, D_gen):\n",
    "    \"\"\" Warning : take logits as input\"\"\"\n",
    "    return tf.reduce_mean(\n",
    "        tf.nn.sigmoid_cross_entropy_with_logits(logits=D_real, labels=tf.ones_like(D_real))\n",
    "        + tf.nn.sigmoid_cross_entropy_with_logits(logits=D_gen, labels=tf.zeros_like(D_gen)))\n",
    "\n",
    "def original_gen_loss(D_gen):\n",
    "    \"\"\" Warning : take logits as input\"\"\"\n",
    "    return tf.reduce_mean(tf.nn.sigmoid_cross_entropy_with_logits(logits=D_gen, labels=tf.ones_like(D_gen)))"
   ]
  },
  {
   "cell_type": "code",
   "execution_count": 29,
   "metadata": {},
   "outputs": [
    {
     "data": {
      "text/plain": [
       "<tf.Tensor 'G_s2t_loss:0' shape=() dtype=string>"
      ]
     },
     "execution_count": 29,
     "metadata": {},
     "output_type": "execute_result"
    }
   ],
   "source": [
    "D_s2t_loss = wasserstein_disc_loss(D_target_logits, DG_target_logits)\n",
    "D_s2t_loss += lambda_pen * gradient_penalty(ipt_source, \"s2t\")\n",
    "# D_s2t_loss += 0.5 * gamma_plh * discriminator_regularizer(D_target_logits, ipt_target, DG_target_logits, G_target)\n",
    "\n",
    "G_s2t_loss = wasserstein_gen_loss(DG_target_logits)\n",
    "G_s2t_loss += lambda_cyc*cyc_loss\n",
    "\n",
    "tf.summary.scalar(\"D_s2t_loss\", D_s2t_loss)\n",
    "tf.summary.scalar(\"G_s2t_loss\", G_s2t_loss)"
   ]
  },
  {
   "cell_type": "code",
   "execution_count": 30,
   "metadata": {},
   "outputs": [
    {
     "data": {
      "text/plain": [
       "<tf.Tensor 'G_t2s_loss:0' shape=() dtype=string>"
      ]
     },
     "execution_count": 30,
     "metadata": {},
     "output_type": "execute_result"
    }
   ],
   "source": [
    "D_t2s_loss = wasserstein_disc_loss(D_source_logits, DG_source_logits)\n",
    "D_t2s_loss += lambda_pen * gradient_penalty(ipt_target, \"t2s\")\n",
    "# D_t2s_loss += 0.5 * gamma_plh * discriminator_regularizer(D_source_logits, ipt_source, DG_source_logits, G_source)\n",
    "\n",
    "G_t2s_loss = wasserstein_gen_loss(DG_source_logits)\n",
    "G_t2s_loss += lambda_cyc*cyc_loss\n",
    "\n",
    "tf.summary.scalar(\"D_t2s_loss\", D_t2s_loss)\n",
    "tf.summary.scalar(\"G_t2s_loss\", D_t2s_loss)"
   ]
  },
  {
   "cell_type": "markdown",
   "metadata": {},
   "source": [
    "#### Solvers"
   ]
  },
  {
   "cell_type": "code",
   "execution_count": 31,
   "metadata": {
    "collapsed": true
   },
   "outputs": [],
   "source": [
    "model_vars = tf.trainable_variables()\n",
    "\n",
    "D_s2t_vars = tf.get_collection(tf.GraphKeys.TRAINABLE_VARIABLES, scope='s2t/discriminator')\n",
    "G_s2t_vars = tf.get_collection(tf.GraphKeys.TRAINABLE_VARIABLES, scope='s2t/generator')\n",
    "D_t2s_vars = tf.get_collection(tf.GraphKeys.TRAINABLE_VARIABLES, scope='t2s/discriminator')\n",
    "G_t2s_vars = tf.get_collection(tf.GraphKeys.TRAINABLE_VARIABLES, scope='t2s/generator')"
   ]
  },
  {
   "cell_type": "code",
   "execution_count": 32,
   "metadata": {
    "collapsed": true
   },
   "outputs": [],
   "source": [
    "D_s2t_solver = tf.train.RMSPropOptimizer(learning_rate=5e-5).minimize(D_s2t_loss, var_list=D_s2t_vars)\n",
    "G_s2t_solver = tf.train.RMSPropOptimizer(learning_rate=5e-5).minimize(G_s2t_loss, var_list=G_s2t_vars)\n",
    "D_t2s_solver = tf.train.RMSPropOptimizer(learning_rate=5e-5).minimize(D_t2s_loss, var_list=D_t2s_vars)\n",
    "G_t2s_solver = tf.train.RMSPropOptimizer(learning_rate=5e-5).minimize(G_t2s_loss, var_list=G_t2s_vars)"
   ]
  },
  {
   "cell_type": "code",
   "execution_count": 33,
   "metadata": {
    "collapsed": true
   },
   "outputs": [],
   "source": [
    "clip_D_s2t = [p.assign(tf.clip_by_value(p, -0.1, 0.1)) for p in D_s2t_vars]\n",
    "clip_D_t2s = [p.assign(tf.clip_by_value(p, -0.1, 0.1)) for p in D_t2s_vars]"
   ]
  },
  {
   "cell_type": "markdown",
   "metadata": {},
   "source": [
    "## Run the model"
   ]
  },
  {
   "cell_type": "code",
   "execution_count": 34,
   "metadata": {
    "collapsed": true
   },
   "outputs": [],
   "source": [
    "sess = tf.InteractiveSession()"
   ]
  },
  {
   "cell_type": "code",
   "execution_count": 47,
   "metadata": {
    "collapsed": true
   },
   "outputs": [],
   "source": [
    "sess.run(tf.global_variables_initializer())\n",
    "D_s2t_loss_list = []\n",
    "G_s2t_loss_list = []\n",
    "D_t2s_loss_list = []\n",
    "G_t2s_loss_list = []\n",
    "cyc_loss_list = []\n",
    "iter_list = []\n",
    "i = 0"
   ]
  },
  {
   "cell_type": "code",
   "execution_count": 48,
   "metadata": {
    "collapsed": true
   },
   "outputs": [],
   "source": [
    "saver = tf.train.Saver()\n",
    "# saver.restore(sess, \"model/model.ckpt\")"
   ]
  },
  {
   "cell_type": "code",
   "execution_count": 49,
   "metadata": {
    "collapsed": true
   },
   "outputs": [],
   "source": [
    "# D_s2t_loss_list = list(np.loadtxt(\"D_s2t_loss_list.txt\"))\n",
    "# G_s2t_loss_list = list(np.loadtxt(\"G_s2t_loss_list.txt\"))\n",
    "# D_t2s_loss_list = list(np.loadtxt(\"D_t2s_loss_list.txt\"))\n",
    "# G_t2s_loss_list = list(np.loadtxt(\"G_t2s_loss_list.txt\"))\n",
    "# iter_list = list(np.loadtxt(\"iter_list.txt\"))\n",
    "# i = len(iter_list)"
   ]
  },
  {
   "cell_type": "code",
   "execution_count": 140,
   "metadata": {},
   "outputs": [
    {
     "name": "stdout",
     "output_type": "stream",
     "text": [
      "Iter: 24175 / 25238\n",
      "D loss s2t: -4.575\n",
      "D loss t2s: -5.087\n",
      "G loss s2t: 2.544\n",
      "G loss t2s: 2.673\n",
      "Cycle-loss: 0.0228\n",
      "\n"
     ]
    },
    {
     "ename": "KeyboardInterrupt",
     "evalue": "",
     "output_type": "error",
     "traceback": [
      "\u001b[0;31m---------------------------------------------------------------------------\u001b[0m",
      "\u001b[0;31mKeyboardInterrupt\u001b[0m                         Traceback (most recent call last)",
      "\u001b[0;32m<ipython-input-140-0078925a2967>\u001b[0m in \u001b[0;36m<module>\u001b[0;34m()\u001b[0m\n\u001b[1;32m     27\u001b[0m         _, G_t2s_loss_curr = sess.run([G_t2s_solver, G_t2s_loss], feed_dict={ipt_source: sample_source, \n\u001b[1;32m     28\u001b[0m                                                                              \u001b[0mipt_target\u001b[0m\u001b[0;34m:\u001b[0m \u001b[0msample_target\u001b[0m\u001b[0;34m,\u001b[0m\u001b[0;34m\u001b[0m\u001b[0m\n\u001b[0;32m---> 29\u001b[0;31m                                                                              latent_space: noise})\n\u001b[0m\u001b[1;32m     30\u001b[0m \u001b[0;34m\u001b[0m\u001b[0m\n\u001b[1;32m     31\u001b[0m     \u001b[0;32mfor\u001b[0m \u001b[0mk\u001b[0m \u001b[0;32min\u001b[0m \u001b[0mrange\u001b[0m\u001b[0;34m(\u001b[0m\u001b[0mnb_iter_d\u001b[0m\u001b[0;34m)\u001b[0m\u001b[0;34m:\u001b[0m\u001b[0;34m\u001b[0m\u001b[0m\n",
      "\u001b[0;32m~/miniconda3/envs/tl-gpu/lib/python3.5/site-packages/tensorflow/python/client/session.py\u001b[0m in \u001b[0;36mrun\u001b[0;34m(self, fetches, feed_dict, options, run_metadata)\u001b[0m\n\u001b[1;32m    887\u001b[0m     \u001b[0;32mtry\u001b[0m\u001b[0;34m:\u001b[0m\u001b[0;34m\u001b[0m\u001b[0m\n\u001b[1;32m    888\u001b[0m       result = self._run(None, fetches, feed_dict, options_ptr,\n\u001b[0;32m--> 889\u001b[0;31m                          run_metadata_ptr)\n\u001b[0m\u001b[1;32m    890\u001b[0m       \u001b[0;32mif\u001b[0m \u001b[0mrun_metadata\u001b[0m\u001b[0;34m:\u001b[0m\u001b[0;34m\u001b[0m\u001b[0m\n\u001b[1;32m    891\u001b[0m         \u001b[0mproto_data\u001b[0m \u001b[0;34m=\u001b[0m \u001b[0mtf_session\u001b[0m\u001b[0;34m.\u001b[0m\u001b[0mTF_GetBuffer\u001b[0m\u001b[0;34m(\u001b[0m\u001b[0mrun_metadata_ptr\u001b[0m\u001b[0;34m)\u001b[0m\u001b[0;34m\u001b[0m\u001b[0m\n",
      "\u001b[0;32m~/miniconda3/envs/tl-gpu/lib/python3.5/site-packages/tensorflow/python/client/session.py\u001b[0m in \u001b[0;36m_run\u001b[0;34m(self, handle, fetches, feed_dict, options, run_metadata)\u001b[0m\n\u001b[1;32m   1118\u001b[0m     \u001b[0;32mif\u001b[0m \u001b[0mfinal_fetches\u001b[0m \u001b[0;32mor\u001b[0m \u001b[0mfinal_targets\u001b[0m \u001b[0;32mor\u001b[0m \u001b[0;34m(\u001b[0m\u001b[0mhandle\u001b[0m \u001b[0;32mand\u001b[0m \u001b[0mfeed_dict_tensor\u001b[0m\u001b[0;34m)\u001b[0m\u001b[0;34m:\u001b[0m\u001b[0;34m\u001b[0m\u001b[0m\n\u001b[1;32m   1119\u001b[0m       results = self._do_run(handle, final_targets, final_fetches,\n\u001b[0;32m-> 1120\u001b[0;31m                              feed_dict_tensor, options, run_metadata)\n\u001b[0m\u001b[1;32m   1121\u001b[0m     \u001b[0;32melse\u001b[0m\u001b[0;34m:\u001b[0m\u001b[0;34m\u001b[0m\u001b[0m\n\u001b[1;32m   1122\u001b[0m       \u001b[0mresults\u001b[0m \u001b[0;34m=\u001b[0m \u001b[0;34m[\u001b[0m\u001b[0;34m]\u001b[0m\u001b[0;34m\u001b[0m\u001b[0m\n",
      "\u001b[0;32m~/miniconda3/envs/tl-gpu/lib/python3.5/site-packages/tensorflow/python/client/session.py\u001b[0m in \u001b[0;36m_do_run\u001b[0;34m(self, handle, target_list, fetch_list, feed_dict, options, run_metadata)\u001b[0m\n\u001b[1;32m   1315\u001b[0m     \u001b[0;32mif\u001b[0m \u001b[0mhandle\u001b[0m \u001b[0;32mis\u001b[0m \u001b[0;32mNone\u001b[0m\u001b[0;34m:\u001b[0m\u001b[0;34m\u001b[0m\u001b[0m\n\u001b[1;32m   1316\u001b[0m       return self._do_call(_run_fn, self._session, feeds, fetches, targets,\n\u001b[0;32m-> 1317\u001b[0;31m                            options, run_metadata)\n\u001b[0m\u001b[1;32m   1318\u001b[0m     \u001b[0;32melse\u001b[0m\u001b[0;34m:\u001b[0m\u001b[0;34m\u001b[0m\u001b[0m\n\u001b[1;32m   1319\u001b[0m       \u001b[0;32mreturn\u001b[0m \u001b[0mself\u001b[0m\u001b[0;34m.\u001b[0m\u001b[0m_do_call\u001b[0m\u001b[0;34m(\u001b[0m\u001b[0m_prun_fn\u001b[0m\u001b[0;34m,\u001b[0m \u001b[0mself\u001b[0m\u001b[0;34m.\u001b[0m\u001b[0m_session\u001b[0m\u001b[0;34m,\u001b[0m \u001b[0mhandle\u001b[0m\u001b[0;34m,\u001b[0m \u001b[0mfeeds\u001b[0m\u001b[0;34m,\u001b[0m \u001b[0mfetches\u001b[0m\u001b[0;34m)\u001b[0m\u001b[0;34m\u001b[0m\u001b[0m\n",
      "\u001b[0;32m~/miniconda3/envs/tl-gpu/lib/python3.5/site-packages/tensorflow/python/client/session.py\u001b[0m in \u001b[0;36m_do_call\u001b[0;34m(self, fn, *args)\u001b[0m\n\u001b[1;32m   1321\u001b[0m   \u001b[0;32mdef\u001b[0m \u001b[0m_do_call\u001b[0m\u001b[0;34m(\u001b[0m\u001b[0mself\u001b[0m\u001b[0;34m,\u001b[0m \u001b[0mfn\u001b[0m\u001b[0;34m,\u001b[0m \u001b[0;34m*\u001b[0m\u001b[0margs\u001b[0m\u001b[0;34m)\u001b[0m\u001b[0;34m:\u001b[0m\u001b[0;34m\u001b[0m\u001b[0m\n\u001b[1;32m   1322\u001b[0m     \u001b[0;32mtry\u001b[0m\u001b[0;34m:\u001b[0m\u001b[0;34m\u001b[0m\u001b[0m\n\u001b[0;32m-> 1323\u001b[0;31m       \u001b[0;32mreturn\u001b[0m \u001b[0mfn\u001b[0m\u001b[0;34m(\u001b[0m\u001b[0;34m*\u001b[0m\u001b[0margs\u001b[0m\u001b[0;34m)\u001b[0m\u001b[0;34m\u001b[0m\u001b[0m\n\u001b[0m\u001b[1;32m   1324\u001b[0m     \u001b[0;32mexcept\u001b[0m \u001b[0merrors\u001b[0m\u001b[0;34m.\u001b[0m\u001b[0mOpError\u001b[0m \u001b[0;32mas\u001b[0m \u001b[0me\u001b[0m\u001b[0;34m:\u001b[0m\u001b[0;34m\u001b[0m\u001b[0m\n\u001b[1;32m   1325\u001b[0m       \u001b[0mmessage\u001b[0m \u001b[0;34m=\u001b[0m \u001b[0mcompat\u001b[0m\u001b[0;34m.\u001b[0m\u001b[0mas_text\u001b[0m\u001b[0;34m(\u001b[0m\u001b[0me\u001b[0m\u001b[0;34m.\u001b[0m\u001b[0mmessage\u001b[0m\u001b[0;34m)\u001b[0m\u001b[0;34m\u001b[0m\u001b[0m\n",
      "\u001b[0;32m~/miniconda3/envs/tl-gpu/lib/python3.5/site-packages/tensorflow/python/client/session.py\u001b[0m in \u001b[0;36m_run_fn\u001b[0;34m(session, feed_dict, fetch_list, target_list, options, run_metadata)\u001b[0m\n\u001b[1;32m   1300\u001b[0m           return tf_session.TF_Run(session, options,\n\u001b[1;32m   1301\u001b[0m                                    \u001b[0mfeed_dict\u001b[0m\u001b[0;34m,\u001b[0m \u001b[0mfetch_list\u001b[0m\u001b[0;34m,\u001b[0m \u001b[0mtarget_list\u001b[0m\u001b[0;34m,\u001b[0m\u001b[0;34m\u001b[0m\u001b[0m\n\u001b[0;32m-> 1302\u001b[0;31m                                    status, run_metadata)\n\u001b[0m\u001b[1;32m   1303\u001b[0m \u001b[0;34m\u001b[0m\u001b[0m\n\u001b[1;32m   1304\u001b[0m     \u001b[0;32mdef\u001b[0m \u001b[0m_prun_fn\u001b[0m\u001b[0;34m(\u001b[0m\u001b[0msession\u001b[0m\u001b[0;34m,\u001b[0m \u001b[0mhandle\u001b[0m\u001b[0;34m,\u001b[0m \u001b[0mfeed_dict\u001b[0m\u001b[0;34m,\u001b[0m \u001b[0mfetch_list\u001b[0m\u001b[0;34m)\u001b[0m\u001b[0;34m:\u001b[0m\u001b[0;34m\u001b[0m\u001b[0m\n",
      "\u001b[0;31mKeyboardInterrupt\u001b[0m: "
     ]
    }
   ],
   "source": [
    "###!!!!! TODO : pretrain MNIST --> SVHN as an autoencoder !!!!! ###\n",
    "\n",
    "nb_iter = 5000\n",
    "nb_iter_d = 2\n",
    "nb_iter_g = 1\n",
    "G_s2t_loss_curr = 0.001\n",
    "D_s2t_loss_curr = 0.001\n",
    "G_t2s_loss_curr = 0.001\n",
    "D_t2s_loss_curr = 0.001\n",
    "cyc_loss_curr = 0.001\n",
    "verbose = True\n",
    "\n",
    "i_init = i\n",
    "for i in range(i, nb_iter+i):\n",
    "    for k in range(nb_iter_g):\n",
    "        sample_source = X_source[np.random.choice(len(X_source), batch_size)]\n",
    "        sample_target = X_target[np.random.choice(len(X_target), batch_size)]\n",
    "#         noise = sess.run(tf.random_normal([batch_size, 4, 4, 4]))\n",
    "        noise = np.random.random((batch_size, 4, 4, 4))\n",
    "        \n",
    "        # Optimizing s2t\n",
    "        _, G_s2t_loss_curr = sess.run([G_s2t_solver, G_s2t_loss], feed_dict={ipt_source: sample_source, \n",
    "                                                                             ipt_target: sample_target, \n",
    "                                                                             latent_space: noise})\n",
    "    \n",
    "        ## Optimizing t2s\n",
    "        _, G_t2s_loss_curr = sess.run([G_t2s_solver, G_t2s_loss], feed_dict={ipt_source: sample_source, \n",
    "                                                                             ipt_target: sample_target, \n",
    "                                                                             latent_space: noise})\n",
    "        \n",
    "    for k in range(nb_iter_d):\n",
    "        sample_source = X_source[np.random.choice(len(X_source), batch_size)]\n",
    "        sample_target = X_target[np.random.choice(len(X_target), batch_size)]\n",
    "#         noise = sess.run(tf.random_normal([batch_size, 4, 4, 4]))\n",
    "        noise = np.random.random((batch_size, 4, 4, 4))\n",
    "        gamma = 0\n",
    "        \n",
    "        # Optimizing s2t\n",
    "        _, D_s2t_loss_curr,_ = sess.run([D_s2t_solver, D_s2t_loss, clip_D_s2t], feed_dict={ipt_source: sample_source, \n",
    "                                                                             ipt_target: sample_target, \n",
    "                                                                             latent_space: noise, \n",
    "                                                                             gamma_plh: gamma})\n",
    "    \n",
    "        ## Optimizing t2s\n",
    "        _, D_t2s_loss_curr,_ = sess.run([D_t2s_solver, D_t2s_loss, clip_D_t2s], feed_dict={ipt_source: sample_source, \n",
    "                                                                             ipt_target: sample_target, \n",
    "                                                                             latent_space: noise, \n",
    "                                                                             gamma_plh: gamma})\n",
    "\n",
    "    iter_list.append(i)\n",
    "    cyc_loss_curr, = sess.run([cyc_loss], feed_dict={ipt_source: sample_source, \n",
    "                                                     ipt_target: sample_target, \n",
    "                                                     latent_space: noise})\n",
    "    D_s2t_loss_list.append(D_s2t_loss_curr)\n",
    "    G_s2t_loss_list.append(G_s2t_loss_curr)\n",
    "    D_t2s_loss_list.append(D_t2s_loss_curr)\n",
    "    G_t2s_loss_list.append(G_t2s_loss_curr)\n",
    "    cyc_loss_list.append(cyc_loss_curr)\n",
    "    \n",
    "    if verbose:\n",
    "        clear_output(wait=True)\n",
    "        print('Iter: {} / {}'.format(i, i_init + nb_iter - 1))\n",
    "        print('D loss s2t: {:.4}'.format(D_s2t_loss_curr))\n",
    "        print('D loss t2s: {:.4}'.format(D_t2s_loss_curr))\n",
    "        print('G loss s2t: {:.4}'.format(G_s2t_loss_curr))\n",
    "        print('G loss t2s: {:.4}'.format(G_t2s_loss_curr))\n",
    "        print('Cycle-loss: {:.4}'.format(cyc_loss_curr))\n",
    "        print()\n",
    "    \n",
    "#     if i % (nb_iter//10) == 0:\n",
    "# #         summary = sess.run([merged_summary], feed_dict={ipt_source: sample_source, ipt_target: sample_target})\n",
    "# #         summary_writer.add_summary(summary, i)\n",
    "\n",
    "print(\"Saving model...\")\n",
    "saver.save(sess, \"model/model.ckpt\")\n",
    "np.savetxt(\"D_s2t_loss_list.txt\", D_s2t_loss_list)\n",
    "np.savetxt(\"G_s2t_loss_list.txt\", G_s2t_loss_list)\n",
    "np.savetxt(\"D_t2s_loss_list.txt\", D_t2s_loss_list)\n",
    "np.savetxt(\"G_t2s_loss_list.txt\", G_t2s_loss_list)\n",
    "np.savetxt(\"iter_list.txt\", iter_list)\n",
    "\n",
    "        \n",
    "# summary_writer.flush()"
   ]
  },
  {
   "cell_type": "markdown",
   "metadata": {},
   "source": [
    "## Display the results"
   ]
  },
  {
   "cell_type": "code",
   "execution_count": 141,
   "metadata": {
    "collapsed": true
   },
   "outputs": [],
   "source": [
    "def unnormalize(x):\n",
    "    return (x + 1)/2"
   ]
  },
  {
   "cell_type": "code",
   "execution_count": 154,
   "metadata": {
    "collapsed": true
   },
   "outputs": [],
   "source": [
    "noise = np.zeros((64,4,4,4))\n",
    "X_source_trans = unnormalize(sess.run(G_target, feed_dict={ipt_source: X_source[:64], latent_space: noise}))\n",
    "X_target_trans = unnormalize(sess.run(G_source, feed_dict={ipt_target: X_target[:64], latent_space: noise}))\n",
    "X_source_cyc = unnormalize(sess.run(cyc_source, feed_dict={ipt_source: X_source[:64], latent_space: noise}))\n",
    "X_target_cyc = unnormalize(sess.run(cyc_target, feed_dict={ipt_target: X_target[:64], latent_space: noise}))"
   ]
  },
  {
   "cell_type": "code",
   "execution_count": 156,
   "metadata": {},
   "outputs": [
    {
     "data": {
      "text/plain": [
       "(-0.5, 31.5, 31.5, -0.5)"
      ]
     },
     "execution_count": 156,
     "metadata": {},
     "output_type": "execute_result"
    },
    {
     "data": {
      "image/png": "[encoded data removed]",
      "text/plain": [
       "<matplotlib.figure.Figure at 0x7f667c3f9c18>"
      ]
     },
     "metadata": {},
     "output_type": "display_data"
    }
   ],
   "source": [
    "plt.rcParams['figure.figsize'] = (15, 10)\n",
    "# plt.axes().set_aspect('equal', 'datalim')\n",
    "#plt.axis([-3,3,-3,3])\n",
    "\n",
    "index = 3\n",
    "plt.subplot(2,3,1)\n",
    "plt.imshow(X_svhn[index].reshape(32,32))\n",
    "plt.axis('off')\n",
    "\n",
    "plt.subplot(2,3,2)\n",
    "plt.imshow(X_source_trans[index].reshape(32,32))\n",
    "plt.axis('off')\n",
    "\n",
    "plt.subplot(2,3,3)\n",
    "plt.imshow(X_source_cyc[index].reshape(32,32))\n",
    "plt.axis('off')\n",
    "\n",
    "plt.subplot(2,3,4)\n",
    "plt.imshow(unnormalize(X_target[index].reshape(32,32)))\n",
    "plt.axis('off')\n",
    "\n",
    "plt.subplot(2,3,5)\n",
    "#plt.imshow(np.transpose(X_target_trans[index].reshape(3,32,32), (1,2,0)))\n",
    "plt.imshow(X_target_trans[index].reshape(32,32))\n",
    "plt.axis('off')\n",
    "\n",
    "plt.subplot(2,3,6)\n",
    "#plt.imshow(np.transpose(X_target_trans[index].reshape(3,32,32), (1,2,0)))\n",
    "plt.imshow(X_target_cyc[index].reshape(32,32))\n",
    "plt.axis('off')"
   ]
  },
  {
   "cell_type": "code",
   "execution_count": 146,
   "metadata": {},
   "outputs": [
    {
     "data": {
      "text/plain": [
       "<matplotlib.legend.Legend at 0x7f669fe2f860>"
      ]
     },
     "execution_count": 146,
     "metadata": {},
     "output_type": "execute_result"
    },
    {
     "data": {
      "image/png": "[encoded data removed]",
      "text/plain": [
       "<matplotlib.figure.Figure at 0x7f669fe7add8>"
      ]
     },
     "metadata": {},
     "output_type": "display_data"
    }
   ],
   "source": [
    "k = 2000\n",
    "start = 15000\n",
    "def smooth(x_list):\n",
    "    return np.array([1/(2*k) * np.sum([x_list[i+j] for j in range(-k, k)]) for i in range(k, len(x_list)-k)])\n",
    "\n",
    "plt.rcParams['figure.figsize'] = (20, 7)\n",
    "\n",
    "plt.subplot(1,2,1)\n",
    "plt.plot(iter_list[k+start:-k], smooth(D_s2t_loss_list[start:]), label=\"Discriminator loss − s2t\")\n",
    "plt.plot(iter_list[k+start:-k], smooth(D_t2s_loss_list[start:]), label=\"Discriminator loss − t2s\")\n",
    "plt.legend()\n",
    "\n",
    "plt.subplot(1,2,2)\n",
    "plt.plot(iter_list[k+start:-k], smooth(G_s2t_loss_list[start:]), label=\"Generator loss − s2t\")\n",
    "plt.plot(iter_list[k+start:-k], smooth(G_t2s_loss_list[start:]), label=\"Generator loss − t2s\")\n",
    "plt.legend()"
   ]
  },
  {
   "cell_type": "code",
   "execution_count": 112,
   "metadata": {},
   "outputs": [
    {
     "data": {
      "text/plain": [
       "[<matplotlib.lines.Line2D at 0x7f656a5098d0>]"
      ]
     },
     "execution_count": 112,
     "metadata": {},
     "output_type": "execute_result"
    },
    {
     "data": {
      "image/png": "[encoded data removed]",
      "text/plain": [
       "<matplotlib.figure.Figure at 0x7f656a5c8eb8>"
      ]
     },
     "metadata": {},
     "output_type": "display_data"
    }
   ],
   "source": [
    "plt.plot(iter_list[k:-k], smooth(cyc_loss_list), label=\"Cycle loss\")"
   ]
  },
  {
   "cell_type": "markdown",
   "metadata": {},
   "source": [
    "## Debug"
   ]
  },
  {
   "cell_type": "code",
   "execution_count": null,
   "metadata": {
    "collapsed": true
   },
   "outputs": [],
   "source": [
    "#X_target_trans[10][:,:,:]"
   ]
  },
  {
   "cell_type": "markdown",
   "metadata": {},
   "source": [
    "### Gradients"
   ]
  },
  {
   "cell_type": "code",
   "execution_count": null,
   "metadata": {
    "collapsed": true
   },
   "outputs": [],
   "source": [
    "ind = 0\n",
    "print(\"Gradient with respect to\", D_s2t_vars[ind])\n",
    "gradient = sess.run(tf.gradients(D_s2t_loss, D_s2t_vars[ind]), feed_dict={ipt_source: sample_source, \n",
    "                                                                          ipt_target: sample_target, \n",
    "                                                                          latent_space: noise})\n",
    "print(\"Min:\", np.array(np.abs(gradient)).min())\n",
    "print(\"Max:\", np.array(gradient).max())\n",
    "print(\"Avg:\", np.array(gradient).mean())"
   ]
  },
  {
   "cell_type": "code",
   "execution_count": null,
   "metadata": {
    "collapsed": true
   },
   "outputs": [],
   "source": [
    "ind = 1\n",
    "print(\"Gradient with respect to\", G_s2t_vars[ind])\n",
    "gradient = sess.run(tf.gradients(G_s2t_loss, G_s2t_vars[ind]), feed_dict={ipt_source: sample_source, ipt_target: sample_target})\n",
    "print(\"Min:\", np.array(gradient).min())\n",
    "print(\"Max:\", np.array(gradient).max())\n",
    "print(\"Avg:\", np.array(gradient).mean())"
   ]
  },
  {
   "cell_type": "code",
   "execution_count": null,
   "metadata": {
    "collapsed": true
   },
   "outputs": [],
   "source": [
    "ind = 10\n",
    "print(\"Gradient with respect to\", D_t2s_vars[ind])\n",
    "gradient = sess.run(tf.gradients(D_t2s_loss, D_t2s_vars[ind]), feed_dict={ipt_source: sample_source, ipt_target: sample_target})\n",
    "print(\"Min:\", np.array(gradient).min())\n",
    "print(\"Max:\", np.array(gradient).max())\n",
    "print(\"Avg:\", np.array(gradient).mean())"
   ]
  },
  {
   "cell_type": "code",
   "execution_count": null,
   "metadata": {
    "collapsed": true
   },
   "outputs": [],
   "source": [
    "ind = 10\n",
    "print(\"Gradient with respect to\", G_t2s_vars[ind])\n",
    "gradient = sess.run(tf.gradients(G_t2s_loss, G_t2s_vars[ind]), feed_dict={ipt_source: sample_source, ipt_target: sample_target})\n",
    "print(\"Min:\", np.array(gradient).min())\n",
    "print(\"Max:\", np.array(gradient).max())\n",
    "print(\"Avg:\", np.array(gradient).mean())"
   ]
  },
  {
   "cell_type": "code",
   "execution_count": null,
   "metadata": {
    "collapsed": true
   },
   "outputs": [],
   "source": [
    "D_s2t_vars[ind]"
   ]
  },
  {
   "cell_type": "code",
   "execution_count": null,
   "metadata": {
    "collapsed": true
   },
   "outputs": [],
   "source": [
    "D_s2t_vars"
   ]
  },
  {
   "cell_type": "code",
   "execution_count": null,
   "metadata": {
    "collapsed": true
   },
   "outputs": [],
   "source": [
    "X_test = sess.run([ipt_target_transf], feed_dict={ipt_source: sample_source, ipt_target: sample_target})[0][5]"
   ]
  },
  {
   "cell_type": "code",
   "execution_count": null,
   "metadata": {
    "collapsed": true
   },
   "outputs": [],
   "source": [
    "plt.imshow(X_test[:,:,0])"
   ]
  },
  {
   "cell_type": "code",
   "execution_count": null,
   "metadata": {
    "collapsed": true
   },
   "outputs": [],
   "source": [
    "gradient = sess.run(tf.gradients(gradient_penalty(ipt_source, \"s2t\"), ipt_source), feed_dict={ipt_source: sample_source})\n",
    "print(\"Min:\", np.array(gradient).min())\n",
    "print(\"Max:\", np.array(gradient).max())\n",
    "print(\"Avg:\", np.array(gradient).mean())"
   ]
  },
  {
   "cell_type": "code",
   "execution_count": null,
   "metadata": {
    "collapsed": true
   },
   "outputs": [],
   "source": []
  }
 ],
 "metadata": {
  "kernelspec": {
   "display_name": "Python 3",
   "language": "python",
   "name": "python3"
  }
 },
 "nbformat": 4,
 "nbformat_minor": 2
}
