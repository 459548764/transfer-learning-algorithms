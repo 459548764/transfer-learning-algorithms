{
 "cells": [
  {
   "cell_type": "markdown",
   "metadata": {},
   "source": [
    "# CycleGAN for Gaussian with Wasserstein Loss\n",
    "Adaptation of this [paper](https://arxiv.org/pdf/1703.10593.pdf) for inverting a shift between two normally distributed datasets."
   ]
  },
  {
   "cell_type": "code",
   "execution_count": 1,
   "metadata": {
    "collapsed": true
   },
   "outputs": [],
   "source": [
    "import numpy as np\n",
    "import matplotlib.pyplot as plt\n",
    "%matplotlib inline\n",
    "\n",
    "import tensorflow as tf"
   ]
  },
  {
   "cell_type": "code",
   "execution_count": 2,
   "metadata": {
    "collapsed": true
   },
   "outputs": [],
   "source": [
    "colormap = np.array(plt.rcParams['axes.prop_cycle'].by_key()['color'])"
   ]
  },
  {
   "cell_type": "markdown",
   "metadata": {},
   "source": [
    "## Create the datasets"
   ]
  },
  {
   "cell_type": "markdown",
   "metadata": {},
   "source": [
    "### Source domain"
   ]
  },
  {
   "cell_type": "code",
   "execution_count": 3,
   "metadata": {
    "collapsed": true
   },
   "outputs": [],
   "source": [
    "N_source = 100"
   ]
  },
  {
   "cell_type": "code",
   "execution_count": 4,
   "metadata": {
    "collapsed": true
   },
   "outputs": [],
   "source": [
    "mean = [-1, 0]\n",
    "\n",
    "std = 0.1\n",
    "cov = np.eye(2) * std"
   ]
  },
  {
   "cell_type": "code",
   "execution_count": 5,
   "metadata": {
    "collapsed": true
   },
   "outputs": [],
   "source": [
    "x, y = np.random.multivariate_normal(mean, cov, N_source).T\n",
    "X_source = np.concatenate([x.reshape(len(x), 1), y.reshape(len(y), 1)], axis=1)"
   ]
  },
  {
   "cell_type": "markdown",
   "metadata": {},
   "source": [
    "### Target domain"
   ]
  },
  {
   "cell_type": "code",
   "execution_count": 6,
   "metadata": {
    "collapsed": true
   },
   "outputs": [],
   "source": [
    "N_target = 100"
   ]
  },
  {
   "cell_type": "code",
   "execution_count": 7,
   "metadata": {
    "collapsed": true
   },
   "outputs": [],
   "source": [
    "mean = [1, 0]\n",
    "\n",
    "std = 0.1\n",
    "cov = np.eye(2) * std"
   ]
  },
  {
   "cell_type": "code",
   "execution_count": 8,
   "metadata": {
    "collapsed": true
   },
   "outputs": [],
   "source": [
    "x, y = np.random.multivariate_normal(mean, cov, N_target).T\n",
    "X_target = np.concatenate([x.reshape(len(x), 1), y.reshape(len(y), 1)], axis=1)"
   ]
  },
  {
   "cell_type": "markdown",
   "metadata": {},
   "source": [
    "### Display the dataset"
   ]
  },
  {
   "cell_type": "code",
   "execution_count": 9,
   "metadata": {},
   "outputs": [
    {
     "data": {
      "text/plain": [
       "<matplotlib.legend.Legend at 0x7f3f449f5908>"
      ]
     },
     "execution_count": 9,
     "metadata": {},
     "output_type": "execute_result"
    },
    {
     "data": {
      "image/png": "[encoded data removed]",
      "text/plain": [
       "<matplotlib.figure.Figure at 0x7f3f473e0c50>"
      ]
     },
     "metadata": {},
     "output_type": "display_data"
    }
   ],
   "source": [
    "plt.axis(\"equal\")\n",
    "plt.axis([-3,3,-3,3])\n",
    "\n",
    "plt.scatter(X_source[:,0], X_source[:,1], label=\"source\")\n",
    "plt.scatter(X_target[:,0], X_target[:,1], label=\"target\")\n",
    "plt.legend()"
   ]
  },
  {
   "cell_type": "markdown",
   "metadata": {},
   "source": [
    "## Create the model"
   ]
  },
  {
   "cell_type": "markdown",
   "metadata": {},
   "source": [
    "### Placeholders"
   ]
  },
  {
   "cell_type": "code",
   "execution_count": 10,
   "metadata": {
    "collapsed": true
   },
   "outputs": [],
   "source": [
    "ipt_source = tf.placeholder(tf.float32, shape=[None, 2], name='ipt_source')\n",
    "ipt_target = tf.placeholder(tf.float32, shape=[None, 2], name='ipt_target')"
   ]
  },
  {
   "cell_type": "markdown",
   "metadata": {},
   "source": [
    "### Discriminator Network"
   ]
  },
  {
   "cell_type": "code",
   "execution_count": 11,
   "metadata": {
    "collapsed": true
   },
   "outputs": [],
   "source": [
    "def discriminator(x, scope): \n",
    "    initializer = tf.contrib.layers.xavier_initializer()\n",
    "    \n",
    "    with tf.variable_scope(scope):\n",
    "        W1 = tf.get_variable('W1', shape=[2,10], initializer=initializer)\n",
    "        b1 = tf.get_variable('b1', shape=[10], initializer=initializer)\n",
    "\n",
    "        W2 = tf.get_variable('W2', shape=[10, 10], initializer=initializer)\n",
    "        b2 = tf.get_variable('b2', shape=[10], initializer=initializer)\n",
    "\n",
    "        W3 = tf.get_variable('W3', shape=[10, 1], initializer=initializer)\n",
    "        b3 = tf.get_variable('b3', shape=[1], initializer=initializer)\n",
    "        \n",
    "        h1 = tf.nn.relu(tf.matmul(x, W1) + b1)\n",
    "        h2 = tf.nn.relu(tf.matmul(h1, W2) + b2)\n",
    "        h3 = tf.matmul(h2, W3) + b3\n",
    "        #prob = tf.nn.sigmoid(h3)\n",
    "    \n",
    "    return h3"
   ]
  },
  {
   "cell_type": "markdown",
   "metadata": {},
   "source": [
    "### Generator Network"
   ]
  },
  {
   "cell_type": "code",
   "execution_count": 12,
   "metadata": {
    "collapsed": true
   },
   "outputs": [],
   "source": [
    "def generator(x, scope):\n",
    "    with tf.variable_scope(scope, reuse=None):\n",
    "        W1 = tf.get_variable('W1', initializer=tf.eye(2, dtype=\"float32\"))\n",
    "        b1 = tf.get_variable('b1', shape=[2], initializer=tf.zeros_initializer())\n",
    "        G_output = tf.matmul(x, W1) + b1\n",
    "    \n",
    "    return G_output"
   ]
  },
  {
   "cell_type": "markdown",
   "metadata": {},
   "source": [
    "### Losses and solver"
   ]
  },
  {
   "cell_type": "markdown",
   "metadata": {},
   "source": [
    "#### Useful functions"
   ]
  },
  {
   "cell_type": "code",
   "execution_count": 13,
   "metadata": {
    "collapsed": true
   },
   "outputs": [],
   "source": [
    "def log(tensor):\n",
    "    return tf.log(tf.maximum(tensor, 1e-9))"
   ]
  },
  {
   "cell_type": "markdown",
   "metadata": {},
   "source": [
    "#### Define the graph"
   ]
  },
  {
   "cell_type": "code",
   "execution_count": 14,
   "metadata": {
    "collapsed": true
   },
   "outputs": [],
   "source": [
    "with tf.variable_scope(\"s2t\") as scope:\n",
    "    D_target = discriminator(ipt_target, \"discriminator\")\n",
    "    G_source = generator(ipt_source, \"generator\")\n",
    "    scope.reuse_variables()\n",
    "    DG_source = discriminator(G_source, \"discriminator\")"
   ]
  },
  {
   "cell_type": "code",
   "execution_count": 15,
   "metadata": {
    "collapsed": true
   },
   "outputs": [],
   "source": [
    "with tf.variable_scope(\"t2s\") as scope:\n",
    "    D_source = discriminator(ipt_source, \"discriminator\")\n",
    "    G_target = generator(ipt_target, \"generator\")\n",
    "    scope.reuse_variables()\n",
    "    DG_target = discriminator(G_target, \"discriminator\")"
   ]
  },
  {
   "cell_type": "code",
   "execution_count": 16,
   "metadata": {
    "collapsed": true
   },
   "outputs": [],
   "source": [
    "with tf.variable_scope(\"s2t\", reuse=True) as scope:\n",
    "    cyc_target = generator(G_target, \"generator\")"
   ]
  },
  {
   "cell_type": "code",
   "execution_count": 17,
   "metadata": {
    "collapsed": true
   },
   "outputs": [],
   "source": [
    "with tf.variable_scope(\"t2s\", reuse=True) as scope:\n",
    "    cyc_source = generator(G_source, \"generator\")"
   ]
  },
  {
   "cell_type": "markdown",
   "metadata": {},
   "source": [
    "#### Losses"
   ]
  },
  {
   "cell_type": "code",
   "execution_count": 18,
   "metadata": {
    "collapsed": true
   },
   "outputs": [],
   "source": [
    "lambda_cyc = 10\n",
    "lambda_pen = 100"
   ]
  },
  {
   "cell_type": "code",
   "execution_count": 19,
   "metadata": {},
   "outputs": [
    {
     "data": {
      "text/plain": [
       "<tf.Tensor 'cyc_loss:0' shape=() dtype=string>"
      ]
     },
     "execution_count": 19,
     "metadata": {},
     "output_type": "execute_result"
    }
   ],
   "source": [
    "cyc_loss = tf.losses.mean_squared_error(ipt_source, cyc_source) + tf.losses.mean_squared_error(ipt_target, cyc_target)\n",
    "tf.summary.scalar(\"cyc_loss\", cyc_loss)"
   ]
  },
  {
   "cell_type": "code",
   "execution_count": 20,
   "metadata": {},
   "outputs": [],
   "source": [
    "with tf.variable_scope(\"grad-pen-s2t\"):\n",
    "    eps = tf.random_uniform([40, 1], minval=0., maxval=1.)\n",
    "    X_inter = eps*ipt_target + (1. - eps)*G_source\n",
    "    grad = tf.gradients(discriminator(X_inter, \"discriminator\"), [X_inter])[0]\n",
    "    grad_norm = tf.sqrt(tf.reduce_sum((grad)**2, axis=1))\n",
    "    grad_pen_s2t = lambda_pen * tf.reduce_mean((grad_norm - 1)**2)"
   ]
  },
  {
   "cell_type": "code",
   "execution_count": 21,
   "metadata": {},
   "outputs": [],
   "source": [
    "with tf.variable_scope(\"grad-pen-t2s\"):\n",
    "    eps = tf.random_uniform([40, 1], minval=0., maxval=1.)\n",
    "    X_inter = eps*ipt_source + (1. - eps)*G_target\n",
    "    grad = tf.gradients(discriminator(X_inter, \"discriminator\"), [X_inter])[0]\n",
    "    grad_norm = tf.sqrt(tf.reduce_sum(grad**2, axis=1))\n",
    "    grad_pen_t2s = lambda_pen * tf.reduce_mean((grad_norm - 1)**2)"
   ]
  },
  {
   "cell_type": "code",
   "execution_count": 22,
   "metadata": {},
   "outputs": [
    {
     "data": {
      "text/plain": [
       "<tf.Tensor 'G_s2t_loss:0' shape=() dtype=string>"
      ]
     },
     "execution_count": 22,
     "metadata": {},
     "output_type": "execute_result"
    }
   ],
   "source": [
    "D_s2t_loss = tf.reduce_mean(DG_source) - tf.reduce_mean(D_target) + grad_pen_s2t\n",
    "G_s2t_loss = -tf.reduce_mean(DG_source) + lambda_cyc*cyc_loss\n",
    "tf.summary.scalar(\"D_s2t_loss\", D_s2t_loss)\n",
    "tf.summary.scalar(\"G_s2t_loss\", G_s2t_loss)"
   ]
  },
  {
   "cell_type": "code",
   "execution_count": 23,
   "metadata": {},
   "outputs": [
    {
     "data": {
      "text/plain": [
       "<tf.Tensor 'G_t2s_loss:0' shape=() dtype=string>"
      ]
     },
     "execution_count": 23,
     "metadata": {},
     "output_type": "execute_result"
    }
   ],
   "source": [
    "D_t2s_loss = tf.reduce_mean(DG_target) - tf.reduce_mean(D_source) + grad_pen_t2s\n",
    "G_t2s_loss = -tf.reduce_mean(DG_target) + lambda_cyc*cyc_loss\n",
    "tf.summary.scalar(\"D_t2s_loss\", D_t2s_loss)\n",
    "tf.summary.scalar(\"G_t2s_loss\", D_t2s_loss)"
   ]
  },
  {
   "cell_type": "markdown",
   "metadata": {},
   "source": [
    "#### Solvers"
   ]
  },
  {
   "cell_type": "code",
   "execution_count": 24,
   "metadata": {
    "collapsed": true
   },
   "outputs": [],
   "source": [
    "model_vars = tf.trainable_variables()\n",
    "\n",
    "D_s2t_vars = tf.get_collection(tf.GraphKeys.TRAINABLE_VARIABLES, scope='s2t/discriminator')\n",
    "G_s2t_vars = tf.get_collection(tf.GraphKeys.TRAINABLE_VARIABLES, scope='s2t/generator')\n",
    "D_t2s_vars = tf.get_collection(tf.GraphKeys.TRAINABLE_VARIABLES, scope='t2s/discriminator')\n",
    "G_t2s_vars = tf.get_collection(tf.GraphKeys.TRAINABLE_VARIABLES, scope='t2s/generator')"
   ]
  },
  {
   "cell_type": "code",
   "execution_count": 71,
   "metadata": {
    "collapsed": true
   },
   "outputs": [],
   "source": [
    "D_s2t_solver = tf.train.AdamOptimizer(learning_rate=1e-2, beta1=0, beta2=0.9).minimize(D_s2t_loss, var_list=D_s2t_vars)\n",
    "G_s2t_solver = tf.train.AdamOptimizer(learning_rate=1e-2, beta1=0, beta2=0.9).minimize(G_s2t_loss, var_list=G_s2t_vars)\n",
    "D_t2s_solver = tf.train.AdamOptimizer(learning_rate=1e-2, beta1=0, beta2=0.9).minimize(D_t2s_loss, var_list=D_t2s_vars)\n",
    "G_t2s_solver = tf.train.AdamOptimizer(learning_rate=1e-2, beta1=0, beta2=0.9).minimize(G_t2s_loss, var_list=G_t2s_vars)"
   ]
  },
  {
   "cell_type": "markdown",
   "metadata": {},
   "source": [
    "## Run the model"
   ]
  },
  {
   "cell_type": "code",
   "execution_count": 72,
   "metadata": {
    "collapsed": true
   },
   "outputs": [],
   "source": [
    "sess = tf.InteractiveSession()"
   ]
  },
  {
   "cell_type": "code",
   "execution_count": 73,
   "metadata": {},
   "outputs": [],
   "source": [
    "# import shutil\n",
    "# shutil.rmtree('log-gaussian/')"
   ]
  },
  {
   "cell_type": "code",
   "execution_count": 74,
   "metadata": {
    "collapsed": true
   },
   "outputs": [],
   "source": [
    "# summary_writer = tf.summary.FileWriter('log-gaussian/', sess.graph)"
   ]
  },
  {
   "cell_type": "code",
   "execution_count": 75,
   "metadata": {
    "collapsed": true
   },
   "outputs": [],
   "source": [
    "# merged_summary = tf.summary.merge_all()"
   ]
  },
  {
   "cell_type": "code",
   "execution_count": 76,
   "metadata": {
    "collapsed": true
   },
   "outputs": [],
   "source": [
    "sess.run(tf.global_variables_initializer())\n",
    "D_s2t_loss_list = []\n",
    "G_s2t_loss_list = []\n",
    "D_t2s_loss_list = []\n",
    "G_t2s_loss_list = []\n",
    "iter_list = []\n",
    "i = 0"
   ]
  },
  {
   "cell_type": "code",
   "execution_count": 77,
   "metadata": {},
   "outputs": [
    {
     "name": "stdout",
     "output_type": "stream",
     "text": [
      "Iter: 0\n",
      "D loss s2t: 45.42\n",
      "G loss s2t: -0.7818\n",
      "D loss t2s: 26.69\n",
      "G loss t2s: 0.09984\n",
      "Cycle-loss: 0.0004365\n",
      "\n",
      "Iter: 20\n",
      "D loss s2t: -191.0\n",
      "G loss s2t: 120.0\n",
      "D loss t2s: -124.0\n",
      "G loss t2s: 82.54\n",
      "Cycle-loss: 0.2621\n",
      "\n",
      "Iter: 40\n",
      "D loss s2t: -519.3\n",
      "G loss s2t: 367.4\n",
      "D loss t2s: -354.2\n",
      "G loss t2s: 157.4\n",
      "Cycle-loss: 0.3409\n",
      "\n",
      "Iter: 60\n",
      "D loss s2t: -94.38\n",
      "G loss s2t: 202.2\n",
      "D loss t2s: -158.1\n",
      "G loss t2s: 12.12\n",
      "Cycle-loss: 0.1212\n",
      "\n",
      "Iter: 80\n",
      "D loss s2t: 71.66\n",
      "G loss s2t: 1.08e+03\n",
      "D loss t2s: 62.05\n",
      "G loss t2s: 502.4\n",
      "Cycle-loss: 0.1916\n",
      "\n"
     ]
    }
   ],
   "source": [
    "nb_iter = 100\n",
    "nb_iter_d = 5\n",
    "nb_iter_g = 1\n",
    "nb_samples = 40\n",
    "G_s2t_loss_curr = 0.001\n",
    "D_s2t_loss_curr = 0.001\n",
    "G_t2s_loss_curr = 0.001\n",
    "D_t2s_loss_curr = 0.001\n",
    "\n",
    "for i in range(i, nb_iter+i):\n",
    "    for k in range(nb_iter_g):\n",
    "        sample_source = X_source[np.random.choice(len(X_source), nb_samples)]\n",
    "        sample_target = X_target[np.random.choice(len(X_target), nb_samples)]\n",
    "        \n",
    "        ## Optimizing s2t\n",
    "        _, G_s2t_loss_curr = sess.run([G_s2t_solver, G_s2t_loss], feed_dict={ipt_source: sample_source, ipt_target: sample_target})\n",
    "    \n",
    "        ## Optimizing t2s\n",
    "        _, G_t2s_loss_curr = sess.run([G_t2s_solver, G_t2s_loss], feed_dict={ipt_source: sample_source, ipt_target: sample_target})\n",
    "        \n",
    "    for k in range(nb_iter_d):\n",
    "        sample_source = X_source[np.random.choice(len(X_source), nb_samples)]\n",
    "        sample_target = X_target[np.random.choice(len(X_target), nb_samples)]\n",
    "        \n",
    "        ## Optimizing s2t\n",
    "        _, D_s2t_loss_curr = sess.run([D_s2t_solver, D_s2t_loss], feed_dict={ipt_source: sample_source, ipt_target: sample_target})\n",
    "    \n",
    "        ## Optimizing t2s\n",
    "        _, D_t2s_loss_curr = sess.run([D_t2s_solver, D_t2s_loss], feed_dict={ipt_source: sample_source, ipt_target: sample_target})\n",
    "    \n",
    "    iter_list.append(i)\n",
    "    cyc_loss_curr, summary = sess.run([cyc_loss, merged_summary], feed_dict={ipt_source: sample_source, ipt_target: sample_target})\n",
    "    D_s2t_loss_list.append(D_s2t_loss_curr)\n",
    "    G_s2t_loss_list.append(G_s2t_loss_curr)\n",
    "    D_t2s_loss_list.append(D_t2s_loss_curr)\n",
    "    G_t2s_loss_list.append(G_t2s_loss_curr)\n",
    "#     summary_writer.add_summary(summary, i)\n",
    "    \n",
    "    if i % (nb_iter//5) == 0:\n",
    "        print('Iter: {}'.format(i))\n",
    "        print('D loss s2t: {:.4}'.format(D_s2t_loss_curr))\n",
    "        print('G loss s2t: {:.4}'.format(G_s2t_loss_curr))\n",
    "        print('D loss t2s: {:.4}'.format(D_t2s_loss_curr))\n",
    "        print('G loss t2s: {:.4}'.format(G_t2s_loss_curr))\n",
    "        print('Cycle-loss: {:.4}'.format(cyc_loss_curr))\n",
    "        print()\n",
    "        \n",
    "summary_writer.flush()"
   ]
  },
  {
   "cell_type": "markdown",
   "metadata": {},
   "source": [
    "## Display the results"
   ]
  },
  {
   "cell_type": "code",
   "execution_count": 78,
   "metadata": {
    "collapsed": true
   },
   "outputs": [],
   "source": [
    "X_source_trans = sess.run(G_source, feed_dict={ipt_source: X_source})\n",
    "X_target_trans = sess.run(G_target, feed_dict={ipt_target: X_target})\n",
    "X_source_cyc = sess.run(cyc_source, feed_dict={ipt_source: X_source})"
   ]
  },
  {
   "cell_type": "code",
   "execution_count": 79,
   "metadata": {},
   "outputs": [
    {
     "data": {
      "image/png": "[encoded data removed]",
      "text/plain": [
       "<matplotlib.figure.Figure at 0x7f3eac06cb70>"
      ]
     },
     "metadata": {},
     "output_type": "display_data"
    }
   ],
   "source": [
    "#plt.rcParams['figure.figsize'] = (10, 15)\n",
    "plt.rcParams['figure.figsize'] = (10, 7)\n",
    "plt.axes().set_aspect('equal', 'datalim')\n",
    "plt.axis([-3,3,-3,3])\n",
    "\n",
    "x_min, x_max = -4, 4\n",
    "y_min, y_max = -4, 4\n",
    "h = .1\n",
    "xx, yy = np.meshgrid(np.arange(x_min, x_max, h),\n",
    "                     np.arange(y_min, y_max, h))\n",
    "\n",
    "levels = np.linspace(0,1,20)\n",
    "cm = plt.cm.coolwarm\n",
    "Z = sess.run(D_target, feed_dict={ipt_target: np.c_[xx.ravel(), yy.ravel()]}).reshape(xx.shape)\n",
    "\n",
    "#f, (a0, a1) = plt.subplots(2,1, gridspec_kw = {'height_ratios':[10, 10]})\n",
    "\n",
    "cont = plt.contourf(xx, yy, Z, levels, cmap=cm, alpha=.8)\n",
    "\n",
    "plt.scatter(X_source[:,0], X_source[:,1], label=\"source initial\")\n",
    "plt.scatter(X_target[:,0], X_target[:,1], label=\"target initial\")\n",
    "plt.scatter(X_source_trans[:,0], X_source_trans[:,1], label=\"source transformed\", color=colormap[6])\n",
    "plt.scatter(X_target_trans[:,0], X_target_trans[:,1], label=\"target transformed\", color=colormap[9])\n",
    "#plt.scatter(X_source_cyc[:,0], X_source_cyc[:,1], label=\"Source cycle\", color=colormap[8])\n",
    "\n",
    "plt.legend()\n",
    "#cax = f.add_axes([0.91,0.53,0.05,0.35])\n",
    "# plt.colorbar(cont, cax=cax, orientation=\"vertical\")\n",
    "plt.colorbar(cont, orientation=\"vertical\")\n",
    "plt.grid()\n",
    "# plt.savefig('screenshots/adda-step-77')\n",
    "#a1.plot(D_loss_list, label=\"Discriminator loss\")\n",
    "#a1.plot(T_loss_list, label=\"Generator loss\")\n",
    "#a1.legend()"
   ]
  },
  {
   "cell_type": "markdown",
   "metadata": {
    "collapsed": true
   },
   "source": [
    "## Debug"
   ]
  },
  {
   "cell_type": "markdown",
   "metadata": {},
   "source": [
    "### Learning curves"
   ]
  },
  {
   "cell_type": "code",
   "execution_count": 80,
   "metadata": {},
   "outputs": [
    {
     "data": {
      "text/plain": [
       "<matplotlib.legend.Legend at 0x7f3e78705cf8>"
      ]
     },
     "execution_count": 80,
     "metadata": {},
     "output_type": "execute_result"
    },
    {
     "data": {
      "image/png": "[encoded data removed]",
      "text/plain": [
       "<matplotlib.figure.Figure at 0x7f3e985b0cf8>"
      ]
     },
     "metadata": {},
     "output_type": "display_data"
    }
   ],
   "source": [
    "k = 30\n",
    "def smooth(x_list):\n",
    "    return np.array([1/(2*k) * np.sum([x_list[i+j] for j in range(-k, k)]) for i in range(k, len(x_list)-k)])\n",
    "\n",
    "plt.rcParams['figure.figsize'] = (20, 7)\n",
    "\n",
    "plt.subplot(1,2,1)\n",
    "plt.plot(iter_list[k:-k], smooth(D_s2t_loss_list), label=\"Discriminator loss − s2t\")\n",
    "plt.plot(iter_list[k:-k], smooth(D_t2s_loss_list), label=\"Discriminator loss − t2s\")\n",
    "plt.legend()\n",
    "\n",
    "plt.subplot(1,2,2)\n",
    "plt.plot(iter_list[k:-k], smooth(G_s2t_loss_list), label=\"Generator loss − s2t\")\n",
    "plt.plot(iter_list[k:-k], smooth(G_t2s_loss_list), label=\"Generator loss − t2s\")\n",
    "plt.legend()"
   ]
  },
  {
   "cell_type": "markdown",
   "metadata": {},
   "source": [
    "### GP Losses"
   ]
  },
  {
   "cell_type": "code",
   "execution_count": 81,
   "metadata": {},
   "outputs": [
    {
     "name": "stdout",
     "output_type": "stream",
     "text": [
      "0.226253\n"
     ]
    }
   ],
   "source": [
    "loss_gp_s2t = sess.run(grad_pen_s2t/lambda_pen, feed_dict={ipt_source: sample_source, ipt_target: sample_target})\n",
    "print(loss_gp_s2t)"
   ]
  },
  {
   "cell_type": "code",
   "execution_count": 82,
   "metadata": {},
   "outputs": [
    {
     "name": "stdout",
     "output_type": "stream",
     "text": [
      "0.292399\n"
     ]
    }
   ],
   "source": [
    "loss_gp_t2s = sess.run(grad_pen_t2s/lambda_pen, feed_dict={ipt_source: sample_source, ipt_target: sample_target})\n",
    "print(loss_gp_t2s)"
   ]
  },
  {
   "cell_type": "markdown",
   "metadata": {},
   "source": [
    "### Cycle Losses"
   ]
  },
  {
   "cell_type": "code",
   "execution_count": 83,
   "metadata": {},
   "outputs": [
    {
     "name": "stdout",
     "output_type": "stream",
     "text": [
      "0.0257453\n"
     ]
    }
   ],
   "source": [
    "loss_cycle = sess.run(cyc_loss/lambda_cyc, feed_dict={ipt_source: sample_source, ipt_target: sample_target})\n",
    "print(loss_cycle)"
   ]
  },
  {
   "cell_type": "markdown",
   "metadata": {},
   "source": [
    "### Other losses"
   ]
  },
  {
   "cell_type": "code",
   "execution_count": 84,
   "metadata": {},
   "outputs": [
    {
     "name": "stdout",
     "output_type": "stream",
     "text": [
      "-1573.98\n"
     ]
    }
   ],
   "source": [
    "loss_DG_source = sess.run(tf.reduce_mean(DG_source), feed_dict={ipt_source: sample_source, ipt_target: sample_target})\n",
    "print(loss_DG_source)"
   ]
  },
  {
   "cell_type": "code",
   "execution_count": 85,
   "metadata": {
    "scrolled": true
   },
   "outputs": [
    {
     "name": "stdout",
     "output_type": "stream",
     "text": [
      "-1451.14\n"
     ]
    }
   ],
   "source": [
    "loss_D_target = sess.run(tf.reduce_mean(D_target), feed_dict={ipt_source: sample_source, ipt_target: sample_target})\n",
    "print(loss_D_target)"
   ]
  },
  {
   "cell_type": "markdown",
   "metadata": {},
   "source": [
    "### Gradients"
   ]
  },
  {
   "cell_type": "code",
   "execution_count": 86,
   "metadata": {},
   "outputs": [
    {
     "name": "stdout",
     "output_type": "stream",
     "text": [
      "37.6364\n",
      "13.6106\n",
      "18.6323\n",
      "0.735657\n",
      "13.0582\n",
      "0.0\n"
     ]
    }
   ],
   "source": [
    "for var in D_s2t_vars:\n",
    "    print (sess.run(tf.sqrt(tf.reduce_sum(tf.gradients(D_s2t_loss, var)[0]**2)), \n",
    "                    feed_dict={ipt_source: sample_source, ipt_target: sample_target}))"
   ]
  },
  {
   "cell_type": "code",
   "execution_count": 87,
   "metadata": {},
   "outputs": [
    {
     "name": "stdout",
     "output_type": "stream",
     "text": [
      "29.9016\n",
      "9.86746\n",
      "13.6412\n",
      "0.646295\n",
      "5.26843\n",
      "0.0\n"
     ]
    }
   ],
   "source": [
    "for var in D_t2s_vars:\n",
    "    print (sess.run(tf.sqrt(tf.reduce_sum(tf.gradients(D_t2s_loss, var)[0]**2)), \n",
    "                    feed_dict={ipt_source: sample_source, ipt_target: sample_target}))"
   ]
  },
  {
   "cell_type": "code",
   "execution_count": 88,
   "metadata": {},
   "outputs": [
    {
     "name": "stdout",
     "output_type": "stream",
     "text": [
      "222.924\n",
      "262.64\n"
     ]
    }
   ],
   "source": [
    "for var in G_s2t_vars:\n",
    "    print (sess.run(tf.sqrt(tf.reduce_sum(tf.gradients(G_s2t_loss, var)[0]**2)), \n",
    "                    feed_dict={ipt_source: sample_source, ipt_target: sample_target}))"
   ]
  },
  {
   "cell_type": "code",
   "execution_count": 89,
   "metadata": {},
   "outputs": [
    {
     "name": "stdout",
     "output_type": "stream",
     "text": [
      "72.1878\n",
      "48.085\n"
     ]
    }
   ],
   "source": [
    "for var in G_t2s_vars:\n",
    "    print (sess.run(tf.sqrt(tf.reduce_sum(tf.gradients(G_t2s_loss, var)[0]**2)), \n",
    "                    feed_dict={ipt_source: sample_source, ipt_target: sample_target}))"
   ]
  },
  {
   "cell_type": "code",
   "execution_count": 90,
   "metadata": {},
   "outputs": [
    {
     "name": "stdout",
     "output_type": "stream",
     "text": [
      "218.404\n",
      "259.267\n",
      "164.291\n",
      "126.729\n",
      "107.241\n",
      "8.3039\n",
      "190.812\n",
      "1.0\n"
     ]
    }
   ],
   "source": [
    "for var in G_s2t_vars+D_s2t_vars:\n",
    "    print (sess.run(tf.sqrt(tf.reduce_sum(tf.gradients(tf.reduce_mean(DG_source), var)[0]**2)), \n",
    "                    feed_dict={ipt_source: sample_source, ipt_target: sample_target}))"
   ]
  },
  {
   "cell_type": "code",
   "execution_count": null,
   "metadata": {
    "collapsed": true
   },
   "outputs": [],
   "source": []
  }
 ],
 "metadata": {
  "kernelspec": {
   "display_name": "Python 3",
   "language": "python",
   "name": "python3"
  },
  "language_info": {
   "codemirror_mode": {
    "name": "ipython",
    "version": 3
   },
   "file_extension": ".py",
   "mimetype": "text/x-python",
   "name": "python",
   "nbconvert_exporter": "python",
   "pygments_lexer": "ipython3",
   "version": "3.5.4"
  }
 },
 "nbformat": 4,
 "nbformat_minor": 2
}
